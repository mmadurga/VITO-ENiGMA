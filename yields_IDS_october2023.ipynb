{
 "cells": [
  {
   "cell_type": "markdown",
   "metadata": {},
   "source": [
    "# Quick notes from the IDS run of 31-32-33Na\n",
    "\n",
    "## Yields\n",
    "\n",
    "We see 33000 gammas in the 50 keV line, for a run of 3600 s. Efficiency at 50 keV is ~4% and the 50 keV line absolute intensity is $I_{\\gamma}=21\\%$\n"
   ]
  },
  {
   "cell_type": "code",
   "execution_count": 1,
   "metadata": {},
   "outputs": [
    {
     "data": {
      "text/plain": [
       "1283.8468720821663"
      ]
     },
     "metadata": {},
     "output_type": "display_data"
    }
   ],
   "source": [
    "transmission = 0.85 ; efficiency=0.04\n",
    "\n",
    "yield = 33000 / (0.21*efficiency*3600*transmission)"
   ]
  },
  {
   "cell_type": "markdown",
   "metadata": {},
   "source": [
    "what would be the efficiency needed to get 4.3K pps?"
   ]
  },
  {
   "cell_type": "code",
   "execution_count": 3,
   "metadata": {},
   "outputs": [
    {
     "data": {
      "text/plain": [
       "0.011942761600764337"
      ]
     },
     "metadata": {},
     "output_type": "display_data"
    }
   ],
   "source": [
    "33000 / (0.21*4300*3600*transmission)"
   ]
  },
  {
   "cell_type": "markdown",
   "metadata": {},
   "source": [
    "## neutron peaks\n",
    "\n"
   ]
  },
  {
   "cell_type": "code",
   "execution_count": 6,
   "metadata": {},
   "outputs": [
    {
     "data": {
      "text/plain": [
       "9-element Vector{Float64}:\n",
       " 0.07898244633172069\n",
       " 0.1296743798854609\n",
       " 0.2743404538490311\n",
       " 0.4279854047564159\n",
       " 0.7795282126248254\n",
       " 0.9786680300327709\n",
       " 1.5296722684173785\n",
       " 2.47596331728236\n",
       " 3.502029972355294"
      ]
     },
     "metadata": {},
     "output_type": "display_data"
    }
   ],
   "source": [
    "k(t) = 0.5 * 939.5 * 104^2 / (30^2 * ((t-6)*0.5)^2)\n",
    "\n",
    "tof30na = [540.7,423.3,292.9,235.7,176.2,157.9,127.5,101.5,86.3]\n",
    "\n",
    "k.(tof30na)"
   ]
  }
 ],
 "metadata": {
  "kernelspec": {
   "display_name": "Julia 1.8.5",
   "language": "julia",
   "name": "julia-1.8"
  },
  "language_info": {
   "file_extension": ".jl",
   "mimetype": "application/julia",
   "name": "julia",
   "version": "1.8.5"
  }
 },
 "nbformat": 4,
 "nbformat_minor": 2
}
