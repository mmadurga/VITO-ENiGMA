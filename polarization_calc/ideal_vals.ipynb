{
 "cells": [
  {
   "cell_type": "markdown",
   "id": "e2cf00af",
   "metadata": {},
   "source": [
    "# Housekeeping\n",
    "\n",
    "Putting in polarization values calculated from previous notebooks, not calculating individually inside this notebook"
   ]
  },
  {
   "cell_type": "markdown",
   "id": "59e88dab",
   "metadata": {},
   "source": [
    "# Setup code\n",
    "\n",
    "adding in the same code from always"
   ]
  },
  {
   "cell_type": "code",
   "execution_count": 57,
   "id": "26626018",
   "metadata": {},
   "outputs": [
    {
     "name": "stderr",
     "output_type": "stream",
     "text": [
      "\u001b[32m\u001b[1m   Resolving\u001b[22m\u001b[39m package versions...\n",
      "\u001b[32m\u001b[1m  No Changes\u001b[22m\u001b[39m to `~/Desktop/Research/Madurga/VITO-ENiGMA/Project.toml`\n",
      "\u001b[32m\u001b[1m  No Changes\u001b[22m\u001b[39m to `~/Desktop/Research/Madurga/VITO-ENiGMA/Manifest.toml`\n",
      "\u001b[32m\u001b[1m   Resolving\u001b[22m\u001b[39m package versions...\n",
      "\u001b[32m\u001b[1m  No Changes\u001b[22m\u001b[39m to `~/Desktop/Research/Madurga/VITO-ENiGMA/Project.toml`\n",
      "\u001b[32m\u001b[1m  No Changes\u001b[22m\u001b[39m to `~/Desktop/Research/Madurga/VITO-ENiGMA/Manifest.toml`\n",
      "\u001b[32m\u001b[1m   Resolving\u001b[22m\u001b[39m package versions...\n",
      "\u001b[32m\u001b[1m  No Changes\u001b[22m\u001b[39m to `~/Desktop/Research/Madurga/VITO-ENiGMA/Project.toml`\n",
      "\u001b[32m\u001b[1m  No Changes\u001b[22m\u001b[39m to `~/Desktop/Research/Madurga/VITO-ENiGMA/Manifest.toml`\n",
      "\u001b[32m\u001b[1m   Resolving\u001b[22m\u001b[39m package versions...\n",
      "\u001b[32m\u001b[1m  No Changes\u001b[22m\u001b[39m to `~/Desktop/Research/Madurga/VITO-ENiGMA/Project.toml`\n",
      "\u001b[32m\u001b[1m  No Changes\u001b[22m\u001b[39m to `~/Desktop/Research/Madurga/VITO-ENiGMA/Manifest.toml`\n",
      "\u001b[32m\u001b[1m   Resolving\u001b[22m\u001b[39m package versions...\n",
      "\u001b[32m\u001b[1m  No Changes\u001b[22m\u001b[39m to `~/Desktop/Research/Madurga/VITO-ENiGMA/Project.toml`\n",
      "\u001b[32m\u001b[1m  No Changes\u001b[22m\u001b[39m to `~/Desktop/Research/Madurga/VITO-ENiGMA/Manifest.toml`\n"
     ]
    }
   ],
   "source": [
    "# Import Packages\n",
    "import Pkg\n",
    "\n",
    "Pkg.add(\"Plots\")\n",
    "Pkg.add(\"LsqFit\")\n",
    "Pkg.add(\"DelimitedFiles\")\n",
    "Pkg.add(\"PlotlyJS\")  # optional if you later want interactive plots\n",
    "Pkg.add(\"LaTeXStrings\")"
   ]
  },
  {
   "cell_type": "markdown",
   "id": "60161ae1",
   "metadata": {},
   "source": [
    "this shouldnt be needed for this notebook but in case it is needed later"
   ]
  },
  {
   "cell_type": "code",
   "execution_count": 58,
   "id": "44193df7",
   "metadata": {},
   "outputs": [
    {
     "name": "stderr",
     "output_type": "stream",
     "text": [
      "WARNING: replacing module PhotopeakFit.\n"
     ]
    }
   ],
   "source": [
    "using Plots,DelimitedFiles,LsqFit,LaTeXStrings\n",
    "\n",
    "include(\"../src/PhotoPeakFit.jl\");\n",
    "\n",
    "default(framestyle=:box,\n",
    "        mc=:black,\n",
    "        grid=false,\n",
    "        guidefont=14,\n",
    "        tickfont=12,\n",
    "        lc=:navy,\n",
    "        xlabel=\"Eᵧ (internal)\",\n",
    "        ylabel=\"counts\")"
   ]
  },
  {
   "cell_type": "code",
   "execution_count": 59,
   "id": "1cd4e261",
   "metadata": {},
   "outputs": [
    {
     "data": {
      "text/plain": [
       "3-element Vector{Float64}:\n",
       "  564.79\n",
       "  586.01\n",
       " 2013.45"
      ]
     },
     "metadata": {},
     "output_type": "display_data"
    }
   ],
   "source": [
    "kliterature = [564.79,\n",
    "               586.01,\n",
    "               2013.45]"
   ]
  },
  {
   "cell_type": "markdown",
   "id": "6470ed09",
   "metadata": {},
   "source": [
    "## Import Eu152 Efficiency Calibration Data\n",
    "\n",
    "Also shouldn't be needed for this but in case it is, it's here"
   ]
  },
  {
   "cell_type": "code",
   "execution_count": 60,
   "id": "b2a41460",
   "metadata": {},
   "outputs": [
    {
     "data": {
      "text/plain": [
       "([0.04994475356378319, 0.03881764706440051, 0.0074349631904078745], [0.058397370815562344, 0.04589348487849286, 0.008923473979328399], [0.046981088183109074, 0.03611056774624827, 0.006851762049610171])"
      ]
     },
     "metadata": {},
     "output_type": "display_data"
    }
   ],
   "source": [
    "# Fit function is of the form 50^(p[1]+p[2]*log10(e)+p[3]*log10(e)^2)\n",
    "io = open(\"../calibrations/Eu152-efficiency-cal_debug.csv\", \"r\")\n",
    "clover_eff_params = readdlm(io, ',', Float64, '\\n', comments=true, comment_char='#')\n",
    "close(io)\n",
    "\n",
    "c0_eff_fit, c1_eff_fit, c2_eff_fit = clover_eff_params[1,:],clover_eff_params[2,:],clover_eff_params[3,:]\n",
    "\n",
    "c0_eff_params,c1_eff_params,c2_eff_params = [c0_eff_fit[1],c0_eff_fit[3],c0_eff_fit[5]],\n",
    "                                            [c1_eff_fit[1],c1_eff_fit[3],c1_eff_fit[5]],\n",
    "                                            [c2_eff_fit[1],c2_eff_fit[3],c2_eff_fit[5]]\n",
    "\n",
    "c0_σeff,c1_σeff,c2_σeff = [c0_eff_fit[2],c0_eff_fit[4],c0_eff_fit[6]], \n",
    "                          [c1_eff_fit[2],c1_eff_fit[4],c1_eff_fit[6]],\n",
    "                          [c2_eff_fit[2],c2_eff_fit[4],c2_eff_fit[6]]"
   ]
  },
  {
   "cell_type": "markdown",
   "id": "313b6ca6",
   "metadata": {},
   "source": [
    "# Previous Polarization Values\n",
    "values from rough_calc and rough_calc_02 notebooks"
   ]
  },
  {
   "cell_type": "code",
   "execution_count": 61,
   "id": "476a3d76",
   "metadata": {},
   "outputs": [
    {
     "data": {
      "text/plain": [
       "0.0025698809474215562"
      ]
     },
     "metadata": {},
     "output_type": "display_data"
    }
   ],
   "source": [
    "P_minus = -0.06307485350766012\n",
    "# Came out to be negative because it's in the opposite direction, does this need to be included or excluded in these measurements\n",
    "P_σminus = -0.00407867985046742\n",
    "\n",
    "\n",
    "\n",
    "P_plus = 0.057859531833656414\n",
    "P_σplus = 0.0025698809474215562"
   ]
  },
  {
   "cell_type": "markdown",
   "id": "898d5e43",
   "metadata": {},
   "source": [
    "# Calculation Scheme\n",
    "\n",
    "coming post GitHub upload"
   ]
  },
  {
   "cell_type": "markdown",
   "id": "eca70b4a",
   "metadata": {},
   "source": [
    "# 565 KeV\n",
    "\n",
    "A = +1/3 from previous notebook"
   ]
  },
  {
   "cell_type": "code",
   "execution_count": 6,
   "id": "9e93100f",
   "metadata": {},
   "outputs": [
    {
     "data": {
      "text/plain": [
       "0.0031623889242642263"
      ]
     },
     "metadata": {},
     "output_type": "display_data"
    }
   ],
   "source": [
    "A = 1/3\n",
    "\n",
    "N_plus = (1 .+ (A .* P_plus)) ./ (1 .- (A .* P_plus))\n",
    "N_minus = (1 .+ (A .* P_minus)) ./ (1 .- (A .* P_minus))\n",
    "\n",
    "err_N_plus = N_plus .* ((((P_σplus ./ P_plus) .^2) .+ ((P_σplus ./ P_plus) .^ 2)) .^ 0.5)\n",
    "err_N_minus = N_minus .* ((((P_σminus ./ P_minus) .^2) .+ ((P_σminus ./ P_minus) .^ 2)) .^ 0.5)\n",
    "\n",
    "R = N_plus ./ N_minus\n",
    "err_R = R .* ((((err_N_minus ./ N_minus) .^ 2) .+ ((err_N_plus ./ N_plus) .^ 2)) .^ 0.5)\n",
    "\n",
    "AP_565 = ((R .^ 0.5) .- 1) ./ ((R .^ 0.5) .+ 1)\n",
    "\n",
    "err_AP(AP, V, σV) = AP .* ((2 .* ((σV ./ V) .^ 2)) .^ 0.5)\n",
    "\n",
    "error_565 = err_AP(AP_565, R, err_R)"
   ]
  },
  {
   "cell_type": "markdown",
   "id": "fb899dc4",
   "metadata": {},
   "source": [
    "# 586 KeV\n",
    "\n",
    "A = -2/3 from previous notebook"
   ]
  },
  {
   "cell_type": "code",
   "execution_count": 7,
   "id": "c9b6dcf7",
   "metadata": {},
   "outputs": [
    {
     "data": {
      "text/plain": [
       "-0.006324792213683763"
      ]
     },
     "metadata": {},
     "output_type": "display_data"
    }
   ],
   "source": [
    "A = -2/3\n",
    "\n",
    "N_plus = (1 .+ (A .* P_plus)) ./ (1 .- (A .* P_plus))\n",
    "N_minus = (1 .+ (A .* P_minus)) ./ (1 .- (A .* P_minus))\n",
    "\n",
    "err_N_plus = N_plus .* ((((P_σplus ./ P_plus) .^2) .+ ((P_σplus ./ P_plus) .^ 2)) .^ 0.5)\n",
    "err_N_minus = N_minus .* ((((P_σminus ./ P_minus) .^2) .+ ((P_σminus ./ P_minus) .^ 2)) .^ 0.5)\n",
    "\n",
    "R = N_plus ./ N_minus\n",
    "err_R = R .* ((((err_N_minus ./ N_minus) .^ 2) .+ ((err_N_plus ./ N_plus) .^ 2)) .^ 0.5)\n",
    "\n",
    "AP_586 = ((R .^ 0.5) .- 1) ./ ((R .^ 0.5) .+ 1)\n",
    "\n",
    "err_AP(AP, V, σV) = AP .* ((2 .* ((σV ./ V) .^ 2)) .^ 0.5)\n",
    "\n",
    "error_586 = err_AP(AP_586, R, err_R)"
   ]
  },
  {
   "cell_type": "markdown",
   "id": "76624c04",
   "metadata": {},
   "source": [
    "# Plot"
   ]
  },
  {
   "cell_type": "code",
   "execution_count": 8,
   "id": "8b0a1714",
   "metadata": {},
   "outputs": [
    {
     "data": {
      "image/png": "[encoded data removed]",
      "image/svg+xml": [
       "<?xml version=\"1.0\" encoding=\"utf-8\"?>\n",
       "<svg xmlns=\"http://www.w3.org/2000/svg\" xmlns:xlink=\"http://www.w3.org/1999/xlink\" width=\"600\" height=\"400\" viewBox=\"0 0 2400 1600\">\n",
       "<defs>\n",
       "  <clipPath id=\"clip390\">\n",
       "    <rect x=\"0\" y=\"0\" width=\"2400\" height=\"1600\"/>\n",
       "  </clipPath>\n",
       "</defs>\n",
       "<path clip-path=\"url(#clip390)\" d=\"M0 1600 L2400 1600 L2400 8.88178e-14 L0 8.88178e-14  Z\" fill=\"#ffffff\" fill-rule=\"evenodd\" fill-opacity=\"1\"/>\n",
       "<defs>\n",
       "  <clipPath id=\"clip391\">\n",
       "    <rect x=\"480\" y=\"0\" width=\"1681\" height=\"1600\"/>\n",
       "  </clipPath>\n",
       "</defs>\n",
       "<path clip-path=\"url(#clip390)\" d=\"M369.608 1392.94 L2352.76 1392.94 L2352.76 123.472 L369.608 123.472  Z\" fill=\"#ffffff\" fill-rule=\"evenodd\" fill-opacity=\"1\"/>\n",
       "<defs>\n",
       "  <clipPath id=\"clip392\">\n",
       "    <rect x=\"369\" y=\"123\" width=\"1984\" height=\"1270\"/>\n",
       "  </clipPath>\n",
       "</defs>\n",
       "<polyline clip-path=\"url(#clip390)\" style=\"stroke:#000000; stroke-linecap:round; stroke-linejoin:round; stroke-width:4; stroke-opacity:1; fill:none\" points=\"369.608,1392.94 2352.76,1392.94 \"/>\n",
       "<polyline clip-path=\"url(#clip390)\" style=\"stroke:#000000; stroke-linecap:round; stroke-linejoin:round; stroke-width:4; stroke-opacity:1; fill:none\" points=\"369.608,123.472 2352.76,123.472 \"/>\n",
       "<polyline clip-path=\"url(#clip390)\" style=\"stroke:#000000; stroke-linecap:round; stroke-linejoin:round; stroke-width:4; stroke-opacity:1; fill:none\" points=\"471.207,1392.94 471.207,1374.04 \"/>\n",
       "<polyline clip-path=\"url(#clip390)\" style=\"stroke:#000000; stroke-linecap:round; stroke-linejoin:round; stroke-width:4; stroke-opacity:1; fill:none\" points=\"858.647,1392.94 858.647,1374.04 \"/>\n",
       "<polyline clip-path=\"url(#clip390)\" style=\"stroke:#000000; stroke-linecap:round; stroke-linejoin:round; stroke-width:4; stroke-opacity:1; fill:none\" points=\"1246.09,1392.94 1246.09,1374.04 \"/>\n",
       "<polyline clip-path=\"url(#clip390)\" style=\"stroke:#000000; stroke-linecap:round; stroke-linejoin:round; stroke-width:4; stroke-opacity:1; fill:none\" points=\"1633.53,1392.94 1633.53,1374.04 \"/>\n",
       "<polyline clip-path=\"url(#clip390)\" style=\"stroke:#000000; stroke-linecap:round; stroke-linejoin:round; stroke-width:4; stroke-opacity:1; fill:none\" points=\"2020.97,1392.94 2020.97,1374.04 \"/>\n",
       "<polyline clip-path=\"url(#clip390)\" style=\"stroke:#000000; stroke-linecap:round; stroke-linejoin:round; stroke-width:4; stroke-opacity:1; fill:none\" points=\"471.207,123.472 471.207,142.37 \"/>\n",
       "<polyline clip-path=\"url(#clip390)\" style=\"stroke:#000000; stroke-linecap:round; stroke-linejoin:round; stroke-width:4; stroke-opacity:1; fill:none\" points=\"858.647,123.472 858.647,142.37 \"/>\n",
       "<polyline clip-path=\"url(#clip390)\" style=\"stroke:#000000; stroke-linecap:round; stroke-linejoin:round; stroke-width:4; stroke-opacity:1; fill:none\" points=\"1246.09,123.472 1246.09,142.37 \"/>\n",
       "<polyline clip-path=\"url(#clip390)\" style=\"stroke:#000000; stroke-linecap:round; stroke-linejoin:round; stroke-width:4; stroke-opacity:1; fill:none\" points=\"1633.53,123.472 1633.53,142.37 \"/>\n",
       "<polyline clip-path=\"url(#clip390)\" style=\"stroke:#000000; stroke-linecap:round; stroke-linejoin:round; stroke-width:4; stroke-opacity:1; fill:none\" points=\"2020.97,123.472 2020.97,142.37 \"/>\n",
       "<path clip-path=\"url(#clip390)\" d=\"M426.694 1448.22 Q421.971 1448.22 419.194 1451.45 Q416.451 1454.68 416.451 1460.31 Q416.451 1465.9 419.194 1469.16 Q421.971 1472.39 426.694 1472.39 Q431.416 1472.39 434.159 1469.16 Q436.937 1465.9 436.937 1460.31 Q436.937 1454.68 434.159 1451.45 Q431.416 1448.22 426.694 1448.22 M440.617 1426.25 L440.617 1432.63 Q437.978 1431.38 435.27 1430.72 Q432.596 1430.07 429.957 1430.07 Q423.013 1430.07 419.333 1434.75 Q415.687 1439.44 415.166 1448.92 Q417.215 1445.9 420.305 1444.3 Q423.395 1442.67 427.11 1442.67 Q434.923 1442.67 439.437 1447.43 Q443.985 1452.15 443.985 1460.31 Q443.985 1468.29 439.263 1473.12 Q434.541 1477.95 426.694 1477.95 Q417.701 1477.95 412.944 1471.07 Q408.187 1464.16 408.187 1451.07 Q408.187 1438.78 414.02 1431.49 Q419.853 1424.16 429.68 1424.16 Q432.319 1424.16 434.992 1424.68 Q437.701 1425.2 440.617 1426.25 Z\" fill=\"#000000\" fill-rule=\"nonzero\" fill-opacity=\"1\" /><path clip-path=\"url(#clip390)\" d=\"M471.068 1429.72 Q465.652 1429.72 462.909 1435.07 Q460.2 1440.38 460.2 1451.07 Q460.2 1461.73 462.909 1467.08 Q465.652 1472.39 471.068 1472.39 Q476.52 1472.39 479.228 1467.08 Q481.971 1461.73 481.971 1451.07 Q481.971 1440.38 479.228 1435.07 Q476.52 1429.72 471.068 1429.72 M471.068 1424.16 Q479.784 1424.16 484.367 1431.07 Q488.985 1437.95 488.985 1451.07 Q488.985 1464.16 484.367 1471.07 Q479.784 1477.95 471.068 1477.95 Q462.353 1477.95 457.735 1471.07 Q453.152 1464.16 453.152 1451.07 Q453.152 1437.95 457.735 1431.07 Q462.353 1424.16 471.068 1424.16 Z\" fill=\"#000000\" fill-rule=\"nonzero\" fill-opacity=\"1\" /><path clip-path=\"url(#clip390)\" d=\"M516.311 1429.72 Q510.895 1429.72 508.152 1435.07 Q505.443 1440.38 505.443 1451.07 Q505.443 1461.73 508.152 1467.08 Q510.895 1472.39 516.311 1472.39 Q521.763 1472.39 524.471 1467.08 Q527.214 1461.73 527.214 1451.07 Q527.214 1440.38 524.471 1435.07 Q521.763 1429.72 516.311 1429.72 M516.311 1424.16 Q525.026 1424.16 529.61 1431.07 Q534.228 1437.95 534.228 1451.07 Q534.228 1464.16 529.61 1471.07 Q525.026 1477.95 516.311 1477.95 Q507.596 1477.95 502.978 1471.07 Q498.395 1464.16 498.395 1451.07 Q498.395 1437.95 502.978 1431.07 Q507.596 1424.16 516.311 1424.16 Z\" fill=\"#000000\" fill-rule=\"nonzero\" fill-opacity=\"1\" /><path clip-path=\"url(#clip390)\" d=\"M798.717 1475.86 L798.717 1469.47 Q801.356 1470.72 804.064 1471.38 Q806.772 1472.04 809.376 1472.04 Q816.321 1472.04 819.967 1467.39 Q823.647 1462.7 824.168 1453.19 Q822.154 1456.18 819.064 1457.77 Q815.974 1459.37 812.224 1459.37 Q804.446 1459.37 799.897 1454.68 Q795.383 1449.96 795.383 1441.8 Q795.383 1433.82 800.106 1428.99 Q804.828 1424.16 812.675 1424.16 Q821.668 1424.16 826.39 1431.07 Q831.147 1437.95 831.147 1451.07 Q831.147 1463.33 825.314 1470.66 Q819.515 1477.95 809.689 1477.95 Q807.05 1477.95 804.342 1477.43 Q801.633 1476.91 798.717 1475.86 M812.675 1453.88 Q817.397 1453.88 820.14 1450.66 Q822.918 1447.43 822.918 1441.8 Q822.918 1436.21 820.14 1432.98 Q817.397 1429.72 812.675 1429.72 Q807.953 1429.72 805.175 1432.98 Q802.432 1436.21 802.432 1441.8 Q802.432 1447.43 805.175 1450.66 Q807.953 1453.88 812.675 1453.88 Z\" fill=\"#000000\" fill-rule=\"nonzero\" fill-opacity=\"1\" /><path clip-path=\"url(#clip390)\" d=\"M858.751 1429.72 Q853.334 1429.72 850.591 1435.07 Q847.883 1440.38 847.883 1451.07 Q847.883 1461.73 850.591 1467.08 Q853.334 1472.39 858.751 1472.39 Q864.202 1472.39 866.911 1467.08 Q869.654 1461.73 869.654 1451.07 Q869.654 1440.38 866.911 1435.07 Q864.202 1429.72 858.751 1429.72 M858.751 1424.16 Q867.466 1424.16 872.05 1431.07 Q876.668 1437.95 876.668 1451.07 Q876.668 1464.16 872.05 1471.07 Q867.466 1477.95 858.751 1477.95 Q850.036 1477.95 845.418 1471.07 Q840.834 1464.16 840.834 1451.07 Q840.834 1437.95 845.418 1431.07 Q850.036 1424.16 858.751 1424.16 Z\" fill=\"#000000\" fill-rule=\"nonzero\" fill-opacity=\"1\" /><path clip-path=\"url(#clip390)\" d=\"M903.994 1429.72 Q898.577 1429.72 895.834 1435.07 Q893.126 1440.38 893.126 1451.07 Q893.126 1461.73 895.834 1467.08 Q898.577 1472.39 903.994 1472.39 Q909.445 1472.39 912.154 1467.08 Q914.897 1461.73 914.897 1451.07 Q914.897 1440.38 912.154 1435.07 Q909.445 1429.72 903.994 1429.72 M903.994 1424.16 Q912.709 1424.16 917.292 1431.07 Q921.91 1437.95 921.91 1451.07 Q921.91 1464.16 917.292 1471.07 Q912.709 1477.95 903.994 1477.95 Q895.279 1477.95 890.661 1471.07 Q886.077 1464.16 886.077 1451.07 Q886.077 1437.95 890.661 1431.07 Q895.279 1424.16 903.994 1424.16 Z\" fill=\"#000000\" fill-rule=\"nonzero\" fill-opacity=\"1\" /><path clip-path=\"url(#clip390)\" d=\"M1162.88 1471.04 L1174.33 1471.04 L1174.33 1431.49 L1161.87 1433.99 L1161.87 1427.6 L1174.26 1425.1 L1181.28 1425.1 L1181.28 1471.04 L1192.74 1471.04 L1192.74 1476.94 L1162.88 1476.94 L1162.88 1471.04 Z\" fill=\"#000000\" fill-rule=\"nonzero\" fill-opacity=\"1\" /><path clip-path=\"url(#clip390)\" d=\"M1212.94 1471.04 L1237.42 1471.04 L1237.42 1476.94 L1204.51 1476.94 L1204.51 1471.04 Q1208.5 1466.91 1215.37 1459.96 Q1222.28 1452.98 1224.06 1450.97 Q1227.42 1447.18 1228.74 1444.58 Q1230.1 1441.94 1230.1 1439.41 Q1230.1 1435.27 1227.18 1432.67 Q1224.3 1430.07 1219.65 1430.07 Q1216.35 1430.07 1212.67 1431.21 Q1209.02 1432.36 1204.85 1434.68 L1204.85 1427.6 Q1209.09 1425.9 1212.77 1425.03 Q1216.45 1424.16 1219.51 1424.16 Q1227.56 1424.16 1232.35 1428.19 Q1237.15 1432.22 1237.15 1438.95 Q1237.15 1442.15 1235.93 1445.03 Q1234.75 1447.88 1231.59 1451.77 Q1230.72 1452.77 1226.07 1457.6 Q1221.42 1462.39 1212.94 1471.04 Z\" fill=\"#000000\" fill-rule=\"nonzero\" fill-opacity=\"1\" /><path clip-path=\"url(#clip390)\" d=\"M1267.15 1429.72 Q1261.73 1429.72 1258.99 1435.07 Q1256.28 1440.38 1256.28 1451.07 Q1256.28 1461.73 1258.99 1467.08 Q1261.73 1472.39 1267.15 1472.39 Q1272.6 1472.39 1275.31 1467.08 Q1278.05 1461.73 1278.05 1451.07 Q1278.05 1440.38 1275.31 1435.07 Q1272.6 1429.72 1267.15 1429.72 M1267.15 1424.16 Q1275.86 1424.16 1280.44 1431.07 Q1285.06 1437.95 1285.06 1451.07 Q1285.06 1464.16 1280.44 1471.07 Q1275.86 1477.95 1267.15 1477.95 Q1258.43 1477.95 1253.81 1471.07 Q1249.23 1464.16 1249.23 1451.07 Q1249.23 1437.95 1253.81 1431.07 Q1258.43 1424.16 1267.15 1424.16 Z\" fill=\"#000000\" fill-rule=\"nonzero\" fill-opacity=\"1\" /><path clip-path=\"url(#clip390)\" d=\"M1312.39 1429.72 Q1306.97 1429.72 1304.23 1435.07 Q1301.52 1440.38 1301.52 1451.07 Q1301.52 1461.73 1304.23 1467.08 Q1306.97 1472.39 1312.39 1472.39 Q1317.84 1472.39 1320.55 1467.08 Q1323.29 1461.73 1323.29 1451.07 Q1323.29 1440.38 1320.55 1435.07 Q1317.84 1429.72 1312.39 1429.72 M1312.39 1424.16 Q1321.1 1424.16 1325.69 1431.07 Q1330.3 1437.95 1330.3 1451.07 Q1330.3 1464.16 1325.69 1471.07 Q1321.1 1477.95 1312.39 1477.95 Q1303.67 1477.95 1299.05 1471.07 Q1294.47 1464.16 1294.47 1451.07 Q1294.47 1437.95 1299.05 1431.07 Q1303.67 1424.16 1312.39 1424.16 Z\" fill=\"#000000\" fill-rule=\"nonzero\" fill-opacity=\"1\" /><path clip-path=\"url(#clip390)\" d=\"M1550.31 1471.04 L1561.77 1471.04 L1561.77 1431.49 L1549.31 1433.99 L1549.31 1427.6 L1561.7 1425.1 L1568.72 1425.1 L1568.72 1471.04 L1580.18 1471.04 L1580.18 1476.94 L1550.31 1476.94 L1550.31 1471.04 Z\" fill=\"#000000\" fill-rule=\"nonzero\" fill-opacity=\"1\" /><path clip-path=\"url(#clip390)\" d=\"M1594.41 1425.1 L1621.95 1425.1 L1621.95 1431 L1600.84 1431 L1600.84 1443.71 Q1602.36 1443.19 1603.89 1442.95 Q1605.42 1442.67 1606.95 1442.67 Q1615.63 1442.67 1620.7 1447.43 Q1625.77 1452.18 1625.77 1460.31 Q1625.77 1468.68 1620.56 1473.33 Q1615.35 1477.95 1605.87 1477.95 Q1602.61 1477.95 1599.2 1477.39 Q1595.84 1476.84 1592.22 1475.72 L1592.22 1468.68 Q1595.35 1470.38 1598.68 1471.21 Q1602.02 1472.04 1605.73 1472.04 Q1611.74 1472.04 1615.25 1468.88 Q1618.75 1465.72 1618.75 1460.31 Q1618.75 1454.89 1615.25 1451.73 Q1611.74 1448.57 1605.73 1448.57 Q1602.92 1448.57 1600.11 1449.2 Q1597.33 1449.82 1594.41 1451.14 L1594.41 1425.1 Z\" fill=\"#000000\" fill-rule=\"nonzero\" fill-opacity=\"1\" /><path clip-path=\"url(#clip390)\" d=\"M1654.59 1429.72 Q1649.17 1429.72 1646.43 1435.07 Q1643.72 1440.38 1643.72 1451.07 Q1643.72 1461.73 1646.43 1467.08 Q1649.17 1472.39 1654.59 1472.39 Q1660.04 1472.39 1662.74 1467.08 Q1665.49 1461.73 1665.49 1451.07 Q1665.49 1440.38 1662.74 1435.07 Q1660.04 1429.72 1654.59 1429.72 M1654.59 1424.16 Q1663.3 1424.16 1667.88 1431.07 Q1672.5 1437.95 1672.5 1451.07 Q1672.5 1464.16 1667.88 1471.07 Q1663.3 1477.95 1654.59 1477.95 Q1645.87 1477.95 1641.25 1471.07 Q1636.67 1464.16 1636.67 1451.07 Q1636.67 1437.95 1641.25 1431.07 Q1645.87 1424.16 1654.59 1424.16 Z\" fill=\"#000000\" fill-rule=\"nonzero\" fill-opacity=\"1\" /><path clip-path=\"url(#clip390)\" d=\"M1699.83 1429.72 Q1694.41 1429.72 1691.67 1435.07 Q1688.96 1440.38 1688.96 1451.07 Q1688.96 1461.73 1691.67 1467.08 Q1694.41 1472.39 1699.83 1472.39 Q1705.28 1472.39 1707.99 1467.08 Q1710.73 1461.73 1710.73 1451.07 Q1710.73 1440.38 1707.99 1435.07 Q1705.28 1429.72 1699.83 1429.72 M1699.83 1424.16 Q1708.54 1424.16 1713.13 1431.07 Q1717.74 1437.95 1717.74 1451.07 Q1717.74 1464.16 1713.13 1471.07 Q1708.54 1477.95 1699.83 1477.95 Q1691.11 1477.95 1686.49 1471.07 Q1681.91 1464.16 1681.91 1451.07 Q1681.91 1437.95 1686.49 1431.07 Q1691.11 1424.16 1699.83 1424.16 Z\" fill=\"#000000\" fill-rule=\"nonzero\" fill-opacity=\"1\" /><path clip-path=\"url(#clip390)\" d=\"M1937.75 1471.04 L1949.21 1471.04 L1949.21 1431.49 L1936.75 1433.99 L1936.75 1427.6 L1949.14 1425.1 L1956.16 1425.1 L1956.16 1471.04 L1967.62 1471.04 L1967.62 1476.94 L1937.75 1476.94 L1937.75 1471.04 Z\" fill=\"#000000\" fill-rule=\"nonzero\" fill-opacity=\"1\" /><path clip-path=\"url(#clip390)\" d=\"M1996.78 1452.32 Q1991.78 1452.32 1988.9 1455 Q1986.05 1457.67 1986.05 1462.36 Q1986.05 1467.04 1988.9 1469.72 Q1991.78 1472.39 1996.78 1472.39 Q2001.78 1472.39 2004.66 1469.72 Q2007.55 1467.01 2007.55 1462.36 Q2007.55 1457.67 2004.66 1455 Q2001.82 1452.32 1996.78 1452.32 M1989.77 1449.34 Q1985.25 1448.22 1982.72 1445.13 Q1980.22 1442.04 1980.22 1437.6 Q1980.22 1431.38 1984.63 1427.77 Q1989.07 1424.16 1996.78 1424.16 Q2004.52 1424.16 2008.93 1427.77 Q2013.34 1431.38 2013.34 1437.6 Q2013.34 1442.04 2010.81 1445.13 Q2008.31 1448.22 2003.83 1449.34 Q2008.9 1450.52 2011.71 1453.95 Q2014.56 1457.39 2014.56 1462.36 Q2014.56 1469.89 2009.94 1473.92 Q2005.36 1477.95 1996.78 1477.95 Q1988.21 1477.95 1983.59 1473.92 Q1979 1469.89 1979 1462.36 Q1979 1457.39 1981.85 1453.95 Q1984.7 1450.52 1989.77 1449.34 M1987.2 1438.26 Q1987.2 1442.29 1989.7 1444.54 Q1992.23 1446.8 1996.78 1446.8 Q2001.3 1446.8 2003.83 1444.54 Q2006.4 1442.29 2006.4 1438.26 Q2006.4 1434.23 2003.83 1431.97 Q2001.3 1429.72 1996.78 1429.72 Q1992.23 1429.72 1989.7 1431.97 Q1987.2 1434.23 1987.2 1438.26 Z\" fill=\"#000000\" fill-rule=\"nonzero\" fill-opacity=\"1\" /><path clip-path=\"url(#clip390)\" d=\"M2042.02 1429.72 Q2036.61 1429.72 2033.87 1435.07 Q2031.16 1440.38 2031.16 1451.07 Q2031.16 1461.73 2033.87 1467.08 Q2036.61 1472.39 2042.02 1472.39 Q2047.48 1472.39 2050.18 1467.08 Q2052.93 1461.73 2052.93 1451.07 Q2052.93 1440.38 2050.18 1435.07 Q2047.48 1429.72 2042.02 1429.72 M2042.02 1424.16 Q2050.74 1424.16 2055.32 1431.07 Q2059.94 1437.95 2059.94 1451.07 Q2059.94 1464.16 2055.32 1471.07 Q2050.74 1477.95 2042.02 1477.95 Q2033.31 1477.95 2028.69 1471.07 Q2024.11 1464.16 2024.11 1451.07 Q2024.11 1437.95 2028.69 1431.07 Q2033.31 1424.16 2042.02 1424.16 Z\" fill=\"#000000\" fill-rule=\"nonzero\" fill-opacity=\"1\" /><path clip-path=\"url(#clip390)\" d=\"M2087.27 1429.72 Q2081.85 1429.72 2079.11 1435.07 Q2076.4 1440.38 2076.4 1451.07 Q2076.4 1461.73 2079.11 1467.08 Q2081.85 1472.39 2087.27 1472.39 Q2092.72 1472.39 2095.43 1467.08 Q2098.17 1461.73 2098.17 1451.07 Q2098.17 1440.38 2095.43 1435.07 Q2092.72 1429.72 2087.27 1429.72 M2087.27 1424.16 Q2095.98 1424.16 2100.57 1431.07 Q2105.18 1437.95 2105.18 1451.07 Q2105.18 1464.16 2100.57 1471.07 Q2095.98 1477.95 2087.27 1477.95 Q2078.55 1477.95 2073.93 1471.07 Q2069.35 1464.16 2069.35 1451.07 Q2069.35 1437.95 2073.93 1431.07 Q2078.55 1424.16 2087.27 1424.16 Z\" fill=\"#000000\" fill-rule=\"nonzero\" fill-opacity=\"1\" /><path clip-path=\"url(#clip390)\" d=\"M1205.16 1518.8 L1243.4 1518.8 L1243.4 1525.68 L1213.34 1525.68 L1213.34 1543.59 L1242.15 1543.59 L1242.15 1550.47 L1213.34 1550.47 L1213.34 1572.39 L1244.13 1572.39 L1244.13 1579.28 L1205.16 1579.28 L1205.16 1518.8 Z\" fill=\"#000000\" fill-rule=\"nonzero\" fill-opacity=\"1\" /><path clip-path=\"url(#clip390)\" d=\"M1258.63 1557.85 L1264.91 1573.56 L1273.82 1553.88 L1278.81 1553.88 L1267.26 1579.28 L1267.26 1588.96 L1262.56 1588.96 L1262.56 1579.28 L1255.07 1560.32 Q1253.93 1557.44 1251.5 1557.44 L1250.25 1557.44 L1250.25 1553.88 L1252.03 1553.88 Q1257.05 1553.88 1258.63 1557.85 Z\" fill=\"#000000\" fill-rule=\"nonzero\" fill-opacity=\"1\" /><path clip-path=\"url(#clip390)\" d=\"M1332.44 1516.32 Q1327.01 1525.64 1324.38 1534.76 Q1321.75 1543.87 1321.75 1553.23 Q1321.75 1562.59 1324.38 1571.78 Q1327.05 1580.94 1332.44 1590.21 L1325.96 1590.21 Q1319.88 1580.69 1316.84 1571.5 Q1313.85 1562.3 1313.85 1553.23 Q1313.85 1544.2 1316.84 1535.04 Q1319.84 1525.88 1325.96 1516.32 L1332.44 1516.32 Z\" fill=\"#000000\" fill-rule=\"nonzero\" fill-opacity=\"1\" /><path clip-path=\"url(#clip390)\" d=\"M1346.62 1516.24 L1354.11 1516.24 L1354.11 1553.47 L1376.35 1533.91 L1385.87 1533.91 L1361.81 1555.13 L1386.88 1579.28 L1377.16 1579.28 L1354.11 1557.12 L1354.11 1579.28 L1346.62 1579.28 L1346.62 1516.24 Z\" fill=\"#000000\" fill-rule=\"nonzero\" fill-opacity=\"1\" /><path clip-path=\"url(#clip390)\" d=\"M1430.8 1554.73 L1430.8 1558.37 L1396.53 1558.37 Q1397.01 1566.07 1401.14 1570.12 Q1405.32 1574.13 1412.73 1574.13 Q1417.02 1574.13 1421.03 1573.08 Q1425.08 1572.02 1429.05 1569.92 L1429.05 1576.97 Q1425.04 1578.67 1420.83 1579.56 Q1416.62 1580.45 1412.28 1580.45 Q1401.43 1580.45 1395.07 1574.13 Q1388.75 1567.81 1388.75 1557.04 Q1388.75 1545.9 1394.74 1539.37 Q1400.78 1532.81 1410.99 1532.81 Q1420.14 1532.81 1425.45 1538.73 Q1430.8 1544.6 1430.8 1554.73 M1423.34 1552.54 Q1423.26 1546.42 1419.9 1542.78 Q1416.58 1539.13 1411.07 1539.13 Q1404.83 1539.13 1401.06 1542.66 Q1397.34 1546.18 1396.77 1552.58 L1423.34 1552.54 Z\" fill=\"#000000\" fill-rule=\"nonzero\" fill-opacity=\"1\" /><path clip-path=\"url(#clip390)\" d=\"M1458.95 1579.28 L1435.86 1518.8 L1444.41 1518.8 L1463.57 1569.72 L1482.77 1518.8 L1491.28 1518.8 L1468.23 1579.28 L1458.95 1579.28 Z\" fill=\"#000000\" fill-rule=\"nonzero\" fill-opacity=\"1\" /><path clip-path=\"url(#clip390)\" d=\"M1498.61 1516.32 L1505.09 1516.32 Q1511.17 1525.88 1514.16 1535.04 Q1517.2 1544.2 1517.2 1553.23 Q1517.2 1562.3 1514.16 1571.5 Q1511.17 1580.69 1505.09 1590.21 L1498.61 1590.21 Q1504 1580.94 1506.63 1571.78 Q1509.3 1562.59 1509.3 1553.23 Q1509.3 1543.87 1506.63 1534.76 Q1504 1525.64 1498.61 1516.32 Z\" fill=\"#000000\" fill-rule=\"nonzero\" fill-opacity=\"1\" /><polyline clip-path=\"url(#clip390)\" style=\"stroke:#000000; stroke-linecap:round; stroke-linejoin:round; stroke-width:4; stroke-opacity:1; fill:none\" points=\"369.608,1392.94 369.608,123.472 \"/>\n",
       "<polyline clip-path=\"url(#clip390)\" style=\"stroke:#000000; stroke-linecap:round; stroke-linejoin:round; stroke-width:4; stroke-opacity:1; fill:none\" points=\"2352.76,1392.94 2352.76,123.472 \"/>\n",
       "<polyline clip-path=\"url(#clip390)\" style=\"stroke:#000000; stroke-linecap:round; stroke-linejoin:round; stroke-width:4; stroke-opacity:1; fill:none\" points=\"369.608,1243.4 388.506,1243.4 \"/>\n",
       "<polyline clip-path=\"url(#clip390)\" style=\"stroke:#000000; stroke-linecap:round; stroke-linejoin:round; stroke-width:4; stroke-opacity:1; fill:none\" points=\"369.608,1072.2 388.506,1072.2 \"/>\n",
       "<polyline clip-path=\"url(#clip390)\" style=\"stroke:#000000; stroke-linecap:round; stroke-linejoin:round; stroke-width:4; stroke-opacity:1; fill:none\" points=\"369.608,901.001 388.506,901.001 \"/>\n",
       "<polyline clip-path=\"url(#clip390)\" style=\"stroke:#000000; stroke-linecap:round; stroke-linejoin:round; stroke-width:4; stroke-opacity:1; fill:none\" points=\"369.608,729.802 388.506,729.802 \"/>\n",
       "<polyline clip-path=\"url(#clip390)\" style=\"stroke:#000000; stroke-linecap:round; stroke-linejoin:round; stroke-width:4; stroke-opacity:1; fill:none\" points=\"369.608,558.604 388.506,558.604 \"/>\n",
       "<polyline clip-path=\"url(#clip390)\" style=\"stroke:#000000; stroke-linecap:round; stroke-linejoin:round; stroke-width:4; stroke-opacity:1; fill:none\" points=\"369.608,387.405 388.506,387.405 \"/>\n",
       "<polyline clip-path=\"url(#clip390)\" style=\"stroke:#000000; stroke-linecap:round; stroke-linejoin:round; stroke-width:4; stroke-opacity:1; fill:none\" points=\"369.608,216.206 388.506,216.206 \"/>\n",
       "<polyline clip-path=\"url(#clip390)\" style=\"stroke:#000000; stroke-linecap:round; stroke-linejoin:round; stroke-width:4; stroke-opacity:1; fill:none\" points=\"2352.76,1243.4 2333.86,1243.4 \"/>\n",
       "<polyline clip-path=\"url(#clip390)\" style=\"stroke:#000000; stroke-linecap:round; stroke-linejoin:round; stroke-width:4; stroke-opacity:1; fill:none\" points=\"2352.76,1072.2 2333.86,1072.2 \"/>\n",
       "<polyline clip-path=\"url(#clip390)\" style=\"stroke:#000000; stroke-linecap:round; stroke-linejoin:round; stroke-width:4; stroke-opacity:1; fill:none\" points=\"2352.76,901.001 2333.86,901.001 \"/>\n",
       "<polyline clip-path=\"url(#clip390)\" style=\"stroke:#000000; stroke-linecap:round; stroke-linejoin:round; stroke-width:4; stroke-opacity:1; fill:none\" points=\"2352.76,729.802 2333.86,729.802 \"/>\n",
       "<polyline clip-path=\"url(#clip390)\" style=\"stroke:#000000; stroke-linecap:round; stroke-linejoin:round; stroke-width:4; stroke-opacity:1; fill:none\" points=\"2352.76,558.604 2333.86,558.604 \"/>\n",
       "<polyline clip-path=\"url(#clip390)\" style=\"stroke:#000000; stroke-linecap:round; stroke-linejoin:round; stroke-width:4; stroke-opacity:1; fill:none\" points=\"2352.76,387.405 2333.86,387.405 \"/>\n",
       "<polyline clip-path=\"url(#clip390)\" style=\"stroke:#000000; stroke-linecap:round; stroke-linejoin:round; stroke-width:4; stroke-opacity:1; fill:none\" points=\"2352.76,216.206 2333.86,216.206 \"/>\n",
       "<path clip-path=\"url(#clip390)\" d=\"M127.22 1244.07 L171.734 1244.07 L171.734 1249.98 L127.22 1249.98 L127.22 1244.07 Z\" fill=\"#000000\" fill-rule=\"nonzero\" fill-opacity=\"1\" /><path clip-path=\"url(#clip390)\" d=\"M201.873 1222.1 Q196.456 1222.1 193.713 1227.44 Q191.005 1232.76 191.005 1243.45 Q191.005 1254.11 193.713 1259.46 Q196.456 1264.77 201.873 1264.77 Q207.324 1264.77 210.032 1259.46 Q212.775 1254.11 212.775 1243.45 Q212.775 1232.76 210.032 1227.44 Q207.324 1222.1 201.873 1222.1 M201.873 1216.54 Q210.588 1216.54 215.171 1223.45 Q219.789 1230.32 219.789 1243.45 Q219.789 1256.54 215.171 1263.45 Q210.588 1270.32 201.873 1270.32 Q193.157 1270.32 188.539 1263.45 Q183.956 1256.54 183.956 1243.45 Q183.956 1230.32 188.539 1223.45 Q193.157 1216.54 201.873 1216.54 Z\" fill=\"#000000\" fill-rule=\"nonzero\" fill-opacity=\"1\" /><path clip-path=\"url(#clip390)\" d=\"M232.115 1260.5 L239.442 1260.5 L239.442 1269.32 L232.115 1269.32 L232.115 1260.5 Z\" fill=\"#000000\" fill-rule=\"nonzero\" fill-opacity=\"1\" /><path clip-path=\"url(#clip390)\" d=\"M269.719 1222.1 Q264.303 1222.1 261.56 1227.44 Q258.851 1232.76 258.851 1243.45 Q258.851 1254.11 261.56 1259.46 Q264.303 1264.77 269.719 1264.77 Q275.171 1264.77 277.879 1259.46 Q280.622 1254.11 280.622 1243.45 Q280.622 1232.76 277.879 1227.44 Q275.171 1222.1 269.719 1222.1 M269.719 1216.54 Q278.435 1216.54 283.018 1223.45 Q287.636 1230.32 287.636 1243.45 Q287.636 1256.54 283.018 1263.45 Q278.435 1270.32 269.719 1270.32 Q261.004 1270.32 256.386 1263.45 Q251.803 1256.54 251.803 1243.45 Q251.803 1230.32 256.386 1223.45 Q261.004 1216.54 269.719 1216.54 Z\" fill=\"#000000\" fill-rule=\"nonzero\" fill-opacity=\"1\" /><path clip-path=\"url(#clip390)\" d=\"M319.233 1223.59 L301.525 1251.26 L319.233 1251.26 L319.233 1223.59 M317.393 1217.48 L326.212 1217.48 L326.212 1251.26 L333.608 1251.26 L333.608 1257.1 L326.212 1257.1 L326.212 1269.32 L319.233 1269.32 L319.233 1257.1 L295.83 1257.1 L295.83 1250.32 L317.393 1217.48 Z\" fill=\"#000000\" fill-rule=\"nonzero\" fill-opacity=\"1\" /><path clip-path=\"url(#clip390)\" d=\"M128.922 1072.88 L173.435 1072.88 L173.435 1078.78 L128.922 1078.78 L128.922 1072.88 Z\" fill=\"#000000\" fill-rule=\"nonzero\" fill-opacity=\"1\" /><path clip-path=\"url(#clip390)\" d=\"M203.574 1050.9 Q198.157 1050.9 195.414 1056.24 Q192.706 1061.56 192.706 1072.25 Q192.706 1082.91 195.414 1088.26 Q198.157 1093.57 203.574 1093.57 Q209.025 1093.57 211.734 1088.26 Q214.477 1082.91 214.477 1072.25 Q214.477 1061.56 211.734 1056.24 Q209.025 1050.9 203.574 1050.9 M203.574 1045.34 Q212.289 1045.34 216.872 1052.25 Q221.49 1059.13 221.49 1072.25 Q221.49 1085.34 216.872 1092.25 Q212.289 1099.13 203.574 1099.13 Q194.859 1099.13 190.241 1092.25 Q185.657 1085.34 185.657 1072.25 Q185.657 1059.13 190.241 1052.25 Q194.859 1045.34 203.574 1045.34 Z\" fill=\"#000000\" fill-rule=\"nonzero\" fill-opacity=\"1\" /><path clip-path=\"url(#clip390)\" d=\"M233.817 1089.3 L241.143 1089.3 L241.143 1098.12 L233.817 1098.12 L233.817 1089.3 Z\" fill=\"#000000\" fill-rule=\"nonzero\" fill-opacity=\"1\" /><path clip-path=\"url(#clip390)\" d=\"M271.421 1050.9 Q266.004 1050.9 263.261 1056.24 Q260.553 1061.56 260.553 1072.25 Q260.553 1082.91 263.261 1088.26 Q266.004 1093.57 271.421 1093.57 Q276.872 1093.57 279.58 1088.26 Q282.323 1082.91 282.323 1072.25 Q282.323 1061.56 279.58 1056.24 Q276.872 1050.9 271.421 1050.9 M271.421 1045.34 Q280.136 1045.34 284.719 1052.25 Q289.337 1059.13 289.337 1072.25 Q289.337 1085.34 284.719 1092.25 Q280.136 1099.13 271.421 1099.13 Q262.706 1099.13 258.088 1092.25 Q253.504 1085.34 253.504 1072.25 Q253.504 1059.13 258.088 1052.25 Q262.706 1045.34 271.421 1045.34 Z\" fill=\"#000000\" fill-rule=\"nonzero\" fill-opacity=\"1\" /><path clip-path=\"url(#clip390)\" d=\"M322.914 1070.17 Q327.948 1071.24 330.761 1074.65 Q333.608 1078.05 333.608 1083.05 Q333.608 1090.72 328.33 1094.92 Q323.052 1099.13 313.33 1099.13 Q310.066 1099.13 306.594 1098.47 Q303.157 1097.84 299.476 1096.56 L299.476 1089.79 Q302.393 1091.49 305.865 1092.36 Q309.337 1093.22 313.122 1093.22 Q319.719 1093.22 323.157 1090.62 Q326.629 1088.02 326.629 1083.05 Q326.629 1078.47 323.4 1075.9 Q320.205 1073.29 314.476 1073.29 L308.434 1073.29 L308.434 1067.53 L314.754 1067.53 Q319.927 1067.53 322.67 1065.48 Q325.414 1063.4 325.414 1059.51 Q325.414 1055.52 322.566 1053.4 Q319.754 1051.24 314.476 1051.24 Q311.594 1051.24 308.296 1051.87 Q304.997 1052.49 301.039 1053.81 L301.039 1047.56 Q305.032 1046.45 308.504 1045.9 Q312.011 1045.34 315.101 1045.34 Q323.087 1045.34 327.74 1048.99 Q332.393 1052.6 332.393 1058.78 Q332.393 1063.08 329.927 1066.07 Q327.462 1069.02 322.914 1070.17 Z\" fill=\"#000000\" fill-rule=\"nonzero\" fill-opacity=\"1\" /><path clip-path=\"url(#clip390)\" d=\"M130.345 901.678 L174.859 901.678 L174.859 907.58 L130.345 907.58 L130.345 901.678 Z\" fill=\"#000000\" fill-rule=\"nonzero\" fill-opacity=\"1\" /><path clip-path=\"url(#clip390)\" d=\"M204.998 879.699 Q199.581 879.699 196.838 885.046 Q194.13 890.358 194.13 901.053 Q194.13 911.712 196.838 917.06 Q199.581 922.372 204.998 922.372 Q210.449 922.372 213.157 917.06 Q215.9 911.712 215.9 901.053 Q215.9 890.358 213.157 885.046 Q210.449 879.699 204.998 879.699 M204.998 874.143 Q213.713 874.143 218.296 881.053 Q222.914 887.928 222.914 901.053 Q222.914 914.143 218.296 921.053 Q213.713 927.928 204.998 927.928 Q196.282 927.928 191.664 921.053 Q187.081 914.143 187.081 901.053 Q187.081 887.928 191.664 881.053 Q196.282 874.143 204.998 874.143 Z\" fill=\"#000000\" fill-rule=\"nonzero\" fill-opacity=\"1\" /><path clip-path=\"url(#clip390)\" d=\"M235.24 918.101 L242.567 918.101 L242.567 926.921 L235.24 926.921 L235.24 918.101 Z\" fill=\"#000000\" fill-rule=\"nonzero\" fill-opacity=\"1\" /><path clip-path=\"url(#clip390)\" d=\"M272.844 879.699 Q267.428 879.699 264.685 885.046 Q261.976 890.358 261.976 901.053 Q261.976 911.712 264.685 917.06 Q267.428 922.372 272.844 922.372 Q278.296 922.372 281.004 917.06 Q283.747 911.712 283.747 901.053 Q283.747 890.358 281.004 885.046 Q278.296 879.699 272.844 879.699 M272.844 874.143 Q281.56 874.143 286.143 881.053 Q290.761 887.928 290.761 901.053 Q290.761 914.143 286.143 921.053 Q281.56 927.928 272.844 927.928 Q264.129 927.928 259.511 921.053 Q254.928 914.143 254.928 901.053 Q254.928 887.928 259.511 881.053 Q264.129 874.143 272.844 874.143 Z\" fill=\"#000000\" fill-rule=\"nonzero\" fill-opacity=\"1\" /><path clip-path=\"url(#clip390)\" d=\"M309.129 921.018 L333.608 921.018 L333.608 926.921 L300.691 926.921 L300.691 921.018 Q304.684 916.886 311.559 909.942 Q318.469 902.962 320.24 900.949 Q323.608 897.164 324.927 894.56 Q326.282 891.921 326.282 889.386 Q326.282 885.254 323.365 882.65 Q320.483 880.046 315.83 880.046 Q312.532 880.046 308.851 881.192 Q305.205 882.338 301.039 884.664 L301.039 877.581 Q305.275 875.879 308.955 875.011 Q312.636 874.143 315.691 874.143 Q323.747 874.143 328.539 878.171 Q333.33 882.199 333.33 888.935 Q333.33 892.129 332.115 895.011 Q330.934 897.858 327.775 901.747 Q326.907 902.754 322.254 907.58 Q317.601 912.372 309.129 921.018 Z\" fill=\"#000000\" fill-rule=\"nonzero\" fill-opacity=\"1\" /><path clip-path=\"url(#clip390)\" d=\"M129.79 730.479 L174.303 730.479 L174.303 736.382 L129.79 736.382 L129.79 730.479 Z\" fill=\"#000000\" fill-rule=\"nonzero\" fill-opacity=\"1\" /><path clip-path=\"url(#clip390)\" d=\"M204.442 708.5 Q199.025 708.5 196.282 713.847 Q193.574 719.16 193.574 729.854 Q193.574 740.514 196.282 745.861 Q199.025 751.173 204.442 751.173 Q209.893 751.173 212.602 745.861 Q215.345 740.514 215.345 729.854 Q215.345 719.16 212.602 713.847 Q209.893 708.5 204.442 708.5 M204.442 702.945 Q213.157 702.945 217.741 709.854 Q222.359 716.729 222.359 729.854 Q222.359 742.944 217.741 749.854 Q213.157 756.729 204.442 756.729 Q195.727 756.729 191.109 749.854 Q186.525 742.944 186.525 729.854 Q186.525 716.729 191.109 709.854 Q195.727 702.945 204.442 702.945 Z\" fill=\"#000000\" fill-rule=\"nonzero\" fill-opacity=\"1\" /><path clip-path=\"url(#clip390)\" d=\"M234.685 746.903 L242.011 746.903 L242.011 755.722 L234.685 755.722 L234.685 746.903 Z\" fill=\"#000000\" fill-rule=\"nonzero\" fill-opacity=\"1\" /><path clip-path=\"url(#clip390)\" d=\"M272.289 708.5 Q266.872 708.5 264.129 713.847 Q261.421 719.16 261.421 729.854 Q261.421 740.514 264.129 745.861 Q266.872 751.173 272.289 751.173 Q277.74 751.173 280.449 745.861 Q283.192 740.514 283.192 729.854 Q283.192 719.16 280.449 713.847 Q277.74 708.5 272.289 708.5 M272.289 702.945 Q281.004 702.945 285.587 709.854 Q290.205 716.729 290.205 729.854 Q290.205 742.944 285.587 749.854 Q281.004 756.729 272.289 756.729 Q263.574 756.729 258.956 749.854 Q254.372 742.944 254.372 729.854 Q254.372 716.729 258.956 709.854 Q263.574 702.945 272.289 702.945 Z\" fill=\"#000000\" fill-rule=\"nonzero\" fill-opacity=\"1\" /><path clip-path=\"url(#clip390)\" d=\"M303.747 749.819 L315.205 749.819 L315.205 710.271 L302.74 712.771 L302.74 706.382 L315.136 703.882 L322.15 703.882 L322.15 749.819 L333.608 749.819 L333.608 755.722 L303.747 755.722 L303.747 749.819 Z\" fill=\"#000000\" fill-rule=\"nonzero\" fill-opacity=\"1\" /><path clip-path=\"url(#clip390)\" d=\"M202.602 537.302 Q197.185 537.302 194.442 542.649 Q191.734 547.961 191.734 558.656 Q191.734 569.315 194.442 574.662 Q197.185 579.975 202.602 579.975 Q208.053 579.975 210.761 574.662 Q213.504 569.315 213.504 558.656 Q213.504 547.961 210.761 542.649 Q208.053 537.302 202.602 537.302 M202.602 531.746 Q211.317 531.746 215.9 538.656 Q220.518 545.531 220.518 558.656 Q220.518 571.746 215.9 578.656 Q211.317 585.53 202.602 585.53 Q193.886 585.53 189.268 578.656 Q184.685 571.746 184.685 558.656 Q184.685 545.531 189.268 538.656 Q193.886 531.746 202.602 531.746 Z\" fill=\"#000000\" fill-rule=\"nonzero\" fill-opacity=\"1\" /><path clip-path=\"url(#clip390)\" d=\"M232.845 575.704 L240.171 575.704 L240.171 584.524 L232.845 584.524 L232.845 575.704 Z\" fill=\"#000000\" fill-rule=\"nonzero\" fill-opacity=\"1\" /><path clip-path=\"url(#clip390)\" d=\"M270.449 537.302 Q265.032 537.302 262.289 542.649 Q259.581 547.961 259.581 558.656 Q259.581 569.315 262.289 574.662 Q265.032 579.975 270.449 579.975 Q275.9 579.975 278.608 574.662 Q281.351 569.315 281.351 558.656 Q281.351 547.961 278.608 542.649 Q275.9 537.302 270.449 537.302 M270.449 531.746 Q279.164 531.746 283.747 538.656 Q288.365 545.531 288.365 558.656 Q288.365 571.746 283.747 578.656 Q279.164 585.53 270.449 585.53 Q261.733 585.53 257.115 578.656 Q252.532 571.746 252.532 558.656 Q252.532 545.531 257.115 538.656 Q261.733 531.746 270.449 531.746 Z\" fill=\"#000000\" fill-rule=\"nonzero\" fill-opacity=\"1\" /><path clip-path=\"url(#clip390)\" d=\"M315.691 537.302 Q310.275 537.302 307.532 542.649 Q304.823 547.961 304.823 558.656 Q304.823 569.315 307.532 574.662 Q310.275 579.975 315.691 579.975 Q321.143 579.975 323.851 574.662 Q326.594 569.315 326.594 558.656 Q326.594 547.961 323.851 542.649 Q321.143 537.302 315.691 537.302 M315.691 531.746 Q324.407 531.746 328.99 538.656 Q333.608 545.531 333.608 558.656 Q333.608 571.746 328.99 578.656 Q324.407 585.53 315.691 585.53 Q306.976 585.53 302.358 578.656 Q297.775 571.746 297.775 558.656 Q297.775 545.531 302.358 538.656 Q306.976 531.746 315.691 531.746 Z\" fill=\"#000000\" fill-rule=\"nonzero\" fill-opacity=\"1\" /><path clip-path=\"url(#clip390)\" d=\"M204.442 366.103 Q199.025 366.103 196.282 371.45 Q193.574 376.763 193.574 387.457 Q193.574 398.117 196.282 403.464 Q199.025 408.776 204.442 408.776 Q209.893 408.776 212.602 403.464 Q215.345 398.117 215.345 387.457 Q215.345 376.763 212.602 371.45 Q209.893 366.103 204.442 366.103 M204.442 360.547 Q213.157 360.547 217.741 367.457 Q222.359 374.332 222.359 387.457 Q222.359 400.547 217.741 407.457 Q213.157 414.332 204.442 414.332 Q195.727 414.332 191.109 407.457 Q186.525 400.547 186.525 387.457 Q186.525 374.332 191.109 367.457 Q195.727 360.547 204.442 360.547 Z\" fill=\"#000000\" fill-rule=\"nonzero\" fill-opacity=\"1\" /><path clip-path=\"url(#clip390)\" d=\"M234.685 404.506 L242.011 404.506 L242.011 413.325 L234.685 413.325 L234.685 404.506 Z\" fill=\"#000000\" fill-rule=\"nonzero\" fill-opacity=\"1\" /><path clip-path=\"url(#clip390)\" d=\"M272.289 366.103 Q266.872 366.103 264.129 371.45 Q261.421 376.763 261.421 387.457 Q261.421 398.117 264.129 403.464 Q266.872 408.776 272.289 408.776 Q277.74 408.776 280.449 403.464 Q283.192 398.117 283.192 387.457 Q283.192 376.763 280.449 371.45 Q277.74 366.103 272.289 366.103 M272.289 360.547 Q281.004 360.547 285.587 367.457 Q290.205 374.332 290.205 387.457 Q290.205 400.547 285.587 407.457 Q281.004 414.332 272.289 414.332 Q263.574 414.332 258.956 407.457 Q254.372 400.547 254.372 387.457 Q254.372 374.332 258.956 367.457 Q263.574 360.547 272.289 360.547 Z\" fill=\"#000000\" fill-rule=\"nonzero\" fill-opacity=\"1\" /><path clip-path=\"url(#clip390)\" d=\"M303.747 407.422 L315.205 407.422 L315.205 367.874 L302.74 370.374 L302.74 363.985 L315.136 361.485 L322.15 361.485 L322.15 407.422 L333.608 407.422 L333.608 413.325 L303.747 413.325 L303.747 407.422 Z\" fill=\"#000000\" fill-rule=\"nonzero\" fill-opacity=\"1\" /><path clip-path=\"url(#clip390)\" d=\"M204.998 194.904 Q199.581 194.904 196.838 200.252 Q194.13 205.564 194.13 216.259 Q194.13 226.918 196.838 232.265 Q199.581 237.578 204.998 237.578 Q210.449 237.578 213.157 232.265 Q215.9 226.918 215.9 216.259 Q215.9 205.564 213.157 200.252 Q210.449 194.904 204.998 194.904 M204.998 189.349 Q213.713 189.349 218.296 196.259 Q222.914 203.134 222.914 216.259 Q222.914 229.349 218.296 236.258 Q213.713 243.133 204.998 243.133 Q196.282 243.133 191.664 236.258 Q187.081 229.349 187.081 216.259 Q187.081 203.134 191.664 196.259 Q196.282 189.349 204.998 189.349 Z\" fill=\"#000000\" fill-rule=\"nonzero\" fill-opacity=\"1\" /><path clip-path=\"url(#clip390)\" d=\"M235.24 233.307 L242.567 233.307 L242.567 242.126 L235.24 242.126 L235.24 233.307 Z\" fill=\"#000000\" fill-rule=\"nonzero\" fill-opacity=\"1\" /><path clip-path=\"url(#clip390)\" d=\"M272.844 194.904 Q267.428 194.904 264.685 200.252 Q261.976 205.564 261.976 216.259 Q261.976 226.918 264.685 232.265 Q267.428 237.578 272.844 237.578 Q278.296 237.578 281.004 232.265 Q283.747 226.918 283.747 216.259 Q283.747 205.564 281.004 200.252 Q278.296 194.904 272.844 194.904 M272.844 189.349 Q281.56 189.349 286.143 196.259 Q290.761 203.134 290.761 216.259 Q290.761 229.349 286.143 236.258 Q281.56 243.133 272.844 243.133 Q264.129 243.133 259.511 236.258 Q254.928 229.349 254.928 216.259 Q254.928 203.134 259.511 196.259 Q264.129 189.349 272.844 189.349 Z\" fill=\"#000000\" fill-rule=\"nonzero\" fill-opacity=\"1\" /><path clip-path=\"url(#clip390)\" d=\"M309.129 236.224 L333.608 236.224 L333.608 242.126 L300.691 242.126 L300.691 236.224 Q304.684 232.092 311.559 225.147 Q318.469 218.168 320.24 216.154 Q323.608 212.37 324.927 209.766 Q326.282 207.127 326.282 204.592 Q326.282 200.46 323.365 197.856 Q320.483 195.252 315.83 195.252 Q312.532 195.252 308.851 196.398 Q305.205 197.543 301.039 199.87 L301.039 192.786 Q305.275 191.085 308.955 190.217 Q312.636 189.349 315.691 189.349 Q323.747 189.349 328.539 193.377 Q333.33 197.404 333.33 204.141 Q333.33 207.335 332.115 210.217 Q330.934 213.064 327.775 216.953 Q326.907 217.96 322.254 222.786 Q317.601 227.578 309.129 236.224 Z\" fill=\"#000000\" fill-rule=\"nonzero\" fill-opacity=\"1\" /><path clip-path=\"url(#clip390)\" d=\"M27.902 874.844 Q28.6807 874.844 29.0497 875.172 Q29.3776 875.459 29.4595 875.91 Q29.5005 876.36 29.5005 877.549 Q29.5005 879.558 29.6645 880.828 Q29.7875 882.099 29.9924 882.878 Q30.1564 883.657 30.7302 884.107 Q31.2631 884.517 31.7549 884.722 Q32.2468 884.886 33.3535 885.173 L78.0728 896.404 Q79.3845 896.773 80.0403 896.773 Q80.7371 896.773 81.0241 896.363 Q81.311 895.953 81.4339 894.642 Q81.6389 892.551 81.6389 891.035 Q81.6389 889.026 81.9258 888.739 Q82.2127 888.534 82.6226 888.534 Q83.3604 888.534 83.7703 888.862 Q84.1392 889.19 84.1802 889.477 Q84.2212 889.723 84.2212 890.215 L83.9753 901.446 L84.2212 912.472 Q84.2212 913.702 83.2785 913.702 Q82.6636 913.702 82.3357 913.62 Q81.9668 913.497 81.8438 913.087 Q81.6799 912.636 81.6799 912.308 Q81.6389 911.98 81.6389 911.037 Q81.6389 909.357 81.5979 908.25 Q81.5159 907.102 81.311 906.283 Q81.065 905.422 80.8601 905.012 Q80.6142 904.561 80.0813 904.233 Q79.5075 903.864 79.0566 903.741 Q78.6057 903.577 77.6629 903.372 L32.4108 892.059 Q31.673 891.895 31.0991 891.895 Q29.9924 891.895 29.7465 893.207 Q29.5005 894.478 29.5005 897.675 Q29.5005 898.659 29.4595 899.069 Q29.4186 899.437 29.2136 899.765 Q29.0087 900.052 28.5578 900.052 Q27.9839 900.052 27.615 899.888 Q27.2051 899.724 27.0822 899.437 Q26.9592 899.11 26.9182 898.905 Q26.8772 898.7 26.8772 898.372 L27.1232 887.182 L26.8772 876.115 Q26.8772 874.844 27.902 874.844 Z\" fill=\"#000000\" fill-rule=\"nonzero\" fill-opacity=\"1\" /><path clip-path=\"url(#clip390)\" d=\"M26.8772 828.424 L75.4085 840.516 Q77.581 841.008 79.4255 841.008 Q83.2785 841.008 83.2785 838.508 Q83.2785 837.278 82.4997 836.294 Q81.7209 835.31 80.0813 834.532 Q78.4417 833.753 76.9251 833.261 Q75.3675 832.769 72.9082 832.113 Q71.9244 831.908 71.6785 831.744 Q71.3916 831.539 71.3916 830.965 Q71.3916 829.941 72.2114 829.941 Q77.499 831.047 80.5322 832.482 Q85.164 834.777 85.164 838.671 Q85.164 841.623 83.3604 843.713 Q81.5569 845.804 78.8516 846.295 Q85.164 851.665 85.164 857.24 Q85.164 862.158 81.4339 865.274 Q77.6629 868.389 71.7195 868.389 Q65.7351 868.389 59.9966 865.437 Q54.2581 862.445 50.692 857.731 Q47.1259 853.018 47.1259 848.181 Q47.1259 843.057 52.4955 840.434 L32.5747 835.392 L30.9352 835.146 Q30.4433 835.146 30.1974 835.351 Q29.9104 835.515 29.7055 836.499 Q29.5005 837.442 29.5005 839.327 Q29.5005 840.106 29.4595 840.475 Q29.4186 840.803 29.2136 841.09 Q28.9677 841.377 28.4758 841.377 Q27.0412 841.377 26.8772 840.188 Q25.9755 832.318 25.9755 829.531 Q25.9755 829.039 26.2214 828.752 Q26.4263 828.465 26.6723 828.465 L26.8772 828.424 M56.3485 841.459 Q55.9796 841.459 54.9549 841.746 Q53.9301 842.033 52.4955 842.688 Q51.0609 843.344 50.0362 844.779 Q48.9704 846.172 48.9704 848.058 Q48.9704 850.599 51.1429 853.264 Q53.3153 855.887 57.0043 857.813 Q59.9556 859.289 66.1449 860.888 Q72.3343 862.445 75.4085 862.445 Q77.294 862.445 78.9746 862.035 Q80.6142 861.584 81.9668 860.314 Q83.2785 859.043 83.2785 857.076 Q83.2785 852.28 77.335 847.566 Q76.3103 846.664 75.9004 846.459 Q75.4495 846.213 74.2198 845.886 L57.7831 841.705 Q56.5535 841.459 56.3485 841.459 Z\" fill=\"#000000\" fill-rule=\"nonzero\" fill-opacity=\"1\" /><path clip-path=\"url(#clip390)\" d=\"M74.5068 792.928 Q74.8757 792.6 75.2446 792.6 Q75.6135 792.6 76.6792 793.42 Q77.7449 794.199 79.1795 795.879 Q80.6142 797.56 81.9668 799.732 Q83.3195 801.905 84.2212 805.102 Q85.164 808.299 85.164 811.66 Q85.164 817.685 80.8601 821.292 Q76.5562 824.859 69.957 824.859 Q65.7351 824.859 62.005 823.465 Q58.234 822.071 55.5697 819.817 Q52.9054 817.521 50.9789 814.652 Q49.0114 811.742 48.0687 808.709 Q47.1259 805.676 47.1259 802.847 Q47.1259 798.707 49.2164 796.289 Q51.3068 793.871 54.2581 793.871 Q54.9549 793.871 55.8157 794.076 Q56.6764 794.24 58.0291 794.813 Q59.3817 795.346 60.7344 796.74 Q62.046 798.134 62.9068 800.183 Q64.8333 804.733 64.8333 813.013 L64.8333 817.48 Q70.1209 818.792 73.564 818.792 Q74.9167 818.792 76.3103 818.546 Q77.6629 818.3 79.3845 817.644 Q81.106 816.948 82.2127 815.39 Q83.2785 813.791 83.2785 811.496 Q83.2785 810.758 83.2375 809.979 Q83.1965 809.16 82.7456 807.11 Q82.2947 805.02 81.5159 803.175 Q80.7371 801.331 79.0566 798.994 Q77.335 796.617 74.9986 794.731 Q74.1379 794.076 74.1379 793.625 Q74.1379 793.256 74.5068 792.928 M54.2581 796.658 Q52.0036 796.658 50.487 798.338 Q48.9704 799.978 48.9704 802.847 Q48.9704 803.749 49.1754 804.856 Q49.3803 805.962 50.2411 807.807 Q51.1019 809.611 52.5365 811.209 Q53.9301 812.808 56.6764 814.406 Q59.3817 816.005 62.9888 816.948 L62.9888 813.505 Q62.9888 812.316 62.9888 811.455 Q62.9478 810.594 62.7838 808.709 Q62.6199 806.782 62.3329 805.389 Q62.005 803.995 61.3492 802.232 Q60.6934 800.47 59.8326 799.363 Q58.9308 798.216 57.4962 797.437 Q56.0616 796.658 54.2581 796.658 Z\" fill=\"#000000\" fill-rule=\"nonzero\" fill-opacity=\"1\" /><path clip-path=\"url(#clip390)\" d=\"M72.2114 748.018 Q77.499 749.125 80.5322 750.559 Q85.164 752.855 85.164 756.749 Q85.164 759.7 83.3604 761.79 Q81.5569 763.881 78.8516 764.373 Q85.164 769.742 85.164 775.317 Q85.164 780.236 81.4339 783.351 Q77.6629 786.466 71.7195 786.466 Q65.7351 786.466 59.9966 783.515 Q54.2581 780.522 50.692 775.809 Q47.1259 771.095 47.1259 766.258 Q47.1259 761.135 52.4955 758.511 Q51.0199 758.306 49.9132 757.364 Q48.8065 756.421 48.8065 754.986 Q48.8065 753.879 49.4213 753.224 Q49.9952 752.568 51.0609 752.568 Q51.5938 752.568 53.9301 753.142 L65.6531 756.175 L73.2361 758.019 Q76.0234 758.716 77.0481 758.921 Q78.0728 759.085 79.4255 759.085 Q83.2785 759.085 83.2785 756.585 Q83.2785 755.355 82.4997 754.371 Q81.7209 753.388 80.0813 752.609 Q78.4417 751.83 76.9251 751.338 Q75.3675 750.846 72.9082 750.19 Q71.9244 749.985 71.6785 749.822 Q71.3916 749.617 71.3916 749.043 Q71.3916 748.018 72.2114 748.018 M56.3485 759.536 Q55.9796 759.536 54.9549 759.823 Q53.9301 760.11 52.4955 760.766 Q51.0609 761.421 50.0362 762.856 Q48.9704 764.25 48.9704 766.135 Q48.9704 768.677 51.1429 771.341 Q53.3153 773.964 57.0043 775.891 Q59.9556 777.366 66.1449 778.965 Q72.3343 780.522 75.4085 780.522 Q77.294 780.522 78.9746 780.113 Q80.6142 779.662 81.9668 778.391 Q83.2785 777.12 83.2785 775.153 Q83.2785 770.357 77.335 765.643 Q76.3103 764.742 75.9004 764.537 Q75.4495 764.291 74.2198 763.963 L57.7831 759.782 Q56.5535 759.536 56.3485 759.536 Z\" fill=\"#000000\" fill-rule=\"nonzero\" fill-opacity=\"1\" /><path clip-path=\"url(#clip390)\" d=\"M26.8772 724.883 L75.4085 736.975 Q77.335 737.467 79.4255 737.467 Q83.2785 737.467 83.2785 734.926 Q83.2785 733.737 82.4997 732.753 Q81.6799 731.769 80.0813 731.032 Q78.4417 730.253 76.8841 729.761 Q75.3265 729.228 72.9082 728.572 Q71.9654 728.367 71.6785 728.162 Q71.3916 727.957 71.3916 727.384 Q71.3916 726.359 72.2114 726.359 Q77.253 727.384 80.4502 728.9 Q85.164 731.114 85.164 735.212 Q85.164 738.287 83.0325 740.582 Q80.8601 742.836 77.417 742.836 Q76.1053 742.836 74.5478 742.427 L32.5747 731.851 L30.9352 731.564 Q30.4843 731.564 30.2383 731.728 Q29.9924 731.892 29.7465 732.876 Q29.5005 733.819 29.5005 735.704 Q29.5005 736.483 29.4595 736.852 Q29.4186 737.18 29.2136 737.508 Q29.0087 737.795 28.5578 737.795 Q27.82 737.795 27.4101 737.508 Q27.0002 737.18 26.9182 736.934 Q26.8362 736.688 26.7952 736.196 Q26.7543 735.499 26.5493 733.163 Q26.3034 730.827 26.1394 728.818 Q25.9755 726.81 25.9755 725.949 Q25.9755 725.457 26.2214 725.211 Q26.4263 724.924 26.6723 724.883 L26.8772 724.883 Z\" fill=\"#000000\" fill-rule=\"nonzero\" fill-opacity=\"1\" /><path clip-path=\"url(#clip390)\" d=\"M82.5407 661.155 Q83.3195 661.155 83.7293 661.483 Q84.0983 661.77 84.1802 662.057 Q84.2212 662.303 84.2212 662.672 Q84.2212 663.737 84.0983 667.426 Q83.9753 671.115 83.9753 672.181 Q83.9753 673.903 84.0983 677.428 Q84.2212 680.953 84.2212 682.674 Q84.2212 683.822 83.2785 683.822 Q82.6636 683.822 82.3357 683.699 Q81.9668 683.576 81.8438 683.248 Q81.6799 682.879 81.6799 682.674 Q81.6389 682.428 81.6389 681.814 Q81.6389 680.994 81.5569 680.133 Q81.4339 679.272 81.188 678.207 Q80.9421 677.141 80.3272 676.485 Q79.7124 675.788 78.8516 675.788 Q78.4827 675.788 75.4495 676.075 Q72.4163 676.362 68.8912 676.731 Q65.3252 677.1 64.8333 677.141 L64.8333 698.209 Q68.1534 700.136 70.4488 701.488 Q72.7442 702.841 73.523 703.333 Q74.3018 703.825 74.7937 704.112 Q75.2856 704.399 75.5725 704.563 Q77.7449 705.751 78.6877 705.751 Q81.311 705.751 81.6389 701.816 Q81.6389 700.464 82.6226 700.464 Q83.3604 700.464 83.7703 700.792 Q84.1392 701.12 84.1802 701.406 Q84.2212 701.652 84.2212 702.062 Q84.2212 703.415 84.0983 706.243 Q83.9753 709.071 83.9753 710.465 Q83.9753 711.654 84.0983 714.113 Q84.2212 716.572 84.2212 717.679 Q84.2212 718.171 83.9343 718.458 Q83.6474 718.745 83.2785 718.745 Q82.7046 718.745 82.3767 718.663 Q82.0488 718.54 81.8848 718.212 Q81.7209 717.884 81.7209 717.72 Q81.6799 717.556 81.6389 716.982 Q81.4339 713.867 79.9583 711.449 Q78.4417 708.989 74.5478 706.653 L25.5246 677.469 Q25.0327 677.182 24.7868 676.977 Q24.5408 676.772 24.3359 676.362 Q24.1309 675.911 24.1309 675.255 Q24.1309 674.231 24.4589 674.026 Q24.7458 673.821 26.1394 673.698 L78.6057 668.574 Q79.7124 668.451 80.1633 668.369 Q80.5732 668.246 81.0241 667.713 Q81.4339 667.139 81.5569 666.115 Q81.6389 665.049 81.6389 663.081 Q81.6389 662.344 81.6799 662.057 Q81.6799 661.77 81.8848 661.483 Q82.0898 661.155 82.5407 661.155 M62.21 677.387 L34.5422 680.051 L62.21 696.611 L62.21 677.387 Z\" fill=\"#000000\" fill-rule=\"nonzero\" fill-opacity=\"1\" /><path clip-path=\"url(#clip390)\" d=\"M39.5429 596.127 Q44.1337 596.127 48.3556 599.529 Q52.5775 602.89 55.1598 608.383 Q57.7012 613.834 57.7012 619.696 L57.7012 633.96 L78.6877 639.166 Q78.8106 639.207 79.3435 639.33 Q79.8354 639.453 80.1223 639.453 Q81.147 639.453 81.393 638.182 Q81.6389 636.87 81.6389 633.96 Q81.6389 632.075 81.9668 631.788 Q82.1718 631.624 82.5407 631.624 Q83.1145 631.624 83.5244 631.788 Q83.8933 631.952 84.0163 632.28 Q84.1392 632.567 84.1802 632.772 Q84.2212 632.976 84.2212 633.304 Q84.2212 634.165 84.1392 636.01 Q84.0573 637.813 84.0573 638.756 L83.9753 644.126 L84.2212 654.783 Q84.2212 656.053 83.1965 656.053 Q82.4177 656.053 82.0898 655.726 Q81.7209 655.398 81.6799 655.029 Q81.6389 654.66 81.6389 653.717 Q81.6389 651.668 81.5159 650.438 Q81.393 649.208 81.229 648.429 Q81.0241 647.61 80.4502 647.2 Q79.8764 646.749 79.3845 646.544 Q78.8516 646.339 77.6629 646.052 L32.5747 634.821 Q31.2221 634.493 31.0171 634.493 Q30.3203 634.493 30.0744 634.903 Q29.7875 635.272 29.6645 636.338 Q29.5005 638.387 29.5005 639.945 Q29.5005 640.969 29.4595 641.379 Q29.4186 641.748 29.2136 642.076 Q28.9677 642.363 28.4758 642.363 Q27.697 642.363 27.3691 642.035 Q27.0002 641.666 26.9592 641.256 Q26.8772 640.846 26.8772 639.863 L26.8772 612.646 Q26.8772 604.817 30.6072 600.472 Q34.3373 596.127 39.5429 596.127 M37.5344 603.915 Q29.5005 603.915 29.5005 615.351 L29.5005 623.385 Q29.5005 626.049 29.9924 626.705 Q30.4433 627.361 32.6977 627.935 L55.5287 633.632 L55.5287 621.786 Q55.5287 613.834 51.0609 608.875 Q49.0114 606.62 44.7485 605.268 Q40.4857 603.915 37.5344 603.915 Z\" fill=\"#000000\" fill-rule=\"nonzero\" fill-opacity=\"1\" /><path clip-path=\"url(#clip390)\" d=\"M1268.11 12.096 L1276.3 12.096 L1276.3 72.576 L1268.11 72.576 L1268.11 12.096 Z\" fill=\"#000000\" fill-rule=\"nonzero\" fill-opacity=\"1\" /><path clip-path=\"url(#clip390)\" d=\"M1322.11 34.0924 L1322.11 9.54393 L1329.56 9.54393 L1329.56 72.576 L1322.11 72.576 L1322.11 65.7705 Q1319.76 69.8214 1316.16 71.8063 Q1312.59 73.7508 1307.57 73.7508 Q1299.34 73.7508 1294.16 67.1883 Q1289.02 60.6258 1289.02 49.9314 Q1289.02 39.2371 1294.16 32.6746 Q1299.34 26.1121 1307.57 26.1121 Q1312.59 26.1121 1316.16 28.0971 Q1319.76 30.0415 1322.11 34.0924 M1296.71 49.9314 Q1296.71 58.1548 1300.07 62.8538 Q1303.48 67.5124 1309.39 67.5124 Q1315.31 67.5124 1318.71 62.8538 Q1322.11 58.1548 1322.11 49.9314 Q1322.11 41.7081 1318.71 37.0496 Q1315.31 32.3505 1309.39 32.3505 Q1303.48 32.3505 1300.07 37.0496 Q1296.71 41.7081 1296.71 49.9314 Z\" fill=\"#000000\" fill-rule=\"nonzero\" fill-opacity=\"1\" /><path clip-path=\"url(#clip390)\" d=\"M1383.73 48.0275 L1383.73 51.6733 L1349.45 51.6733 Q1349.94 59.3701 1354.07 63.421 Q1358.25 67.4314 1365.66 67.4314 Q1369.95 67.4314 1373.96 66.3781 Q1378.01 65.3249 1381.98 63.2184 L1381.98 70.267 Q1377.97 71.9684 1373.76 72.8596 Q1369.55 73.7508 1365.21 73.7508 Q1354.36 73.7508 1348 67.4314 Q1341.68 61.1119 1341.68 50.3365 Q1341.68 39.1965 1347.67 32.6746 Q1353.71 26.1121 1363.92 26.1121 Q1373.07 26.1121 1378.38 32.0264 Q1383.73 37.9003 1383.73 48.0275 M1376.27 45.84 Q1376.19 39.7232 1372.83 36.0774 Q1369.51 32.4315 1364 32.4315 Q1357.76 32.4315 1353.99 35.9558 Q1350.26 39.4801 1349.7 45.8805 L1376.27 45.84 Z\" fill=\"#000000\" fill-rule=\"nonzero\" fill-opacity=\"1\" /><path clip-path=\"url(#clip390)\" d=\"M1416.58 49.7694 Q1407.54 49.7694 1404.06 51.8354 Q1400.58 53.9013 1400.58 58.8839 Q1400.58 62.8538 1403.17 65.2034 Q1405.8 67.5124 1410.3 67.5124 Q1416.5 67.5124 1420.22 63.1374 Q1423.99 58.7219 1423.99 51.4303 L1423.99 49.7694 L1416.58 49.7694 M1431.44 46.6907 L1431.44 72.576 L1423.99 72.576 L1423.99 65.6895 Q1421.44 69.8214 1417.63 71.8063 Q1413.82 73.7508 1408.31 73.7508 Q1401.35 73.7508 1397.21 69.8619 Q1393.12 65.9325 1393.12 59.3701 Q1393.12 51.7138 1398.23 47.825 Q1403.37 43.9361 1413.54 43.9361 L1423.99 43.9361 L1423.99 43.2069 Q1423.99 38.0623 1420.59 35.2672 Q1417.23 32.4315 1411.11 32.4315 Q1407.22 32.4315 1403.53 33.3632 Q1399.85 34.295 1396.45 36.1584 L1396.45 29.2718 Q1400.54 27.692 1404.38 26.9223 Q1408.23 26.1121 1411.88 26.1121 Q1421.72 26.1121 1426.58 31.2163 Q1431.44 36.3204 1431.44 46.6907 Z\" fill=\"#000000\" fill-rule=\"nonzero\" fill-opacity=\"1\" /><path clip-path=\"url(#clip390)\" d=\"M1446.8 9.54393 L1454.25 9.54393 L1454.25 72.576 L1446.8 72.576 L1446.8 9.54393 Z\" fill=\"#000000\" fill-rule=\"nonzero\" fill-opacity=\"1\" /><polyline clip-path=\"url(#clip392)\" style=\"stroke:#000000; stroke-linecap:round; stroke-linejoin:round; stroke-width:4; stroke-opacity:1; fill:none\" points=\"425.735,267.68 425.735,159.4 \"/>\n",
       "<polyline clip-path=\"url(#clip392)\" style=\"stroke:#000000; stroke-linecap:round; stroke-linejoin:round; stroke-width:4; stroke-opacity:1; fill:none\" points=\"453.14,1140.45 453.14,1357.01 \"/>\n",
       "<polyline clip-path=\"url(#clip392)\" style=\"stroke:#000000; stroke-linecap:round; stroke-linejoin:round; stroke-width:4; stroke-opacity:1; fill:none\" points=\"2296.63,558.604 2296.63,558.604 \"/>\n",
       "<line clip-path=\"url(#clip392)\" x1=\"441.735\" y1=\"267.68\" x2=\"409.735\" y2=\"267.68\" style=\"stroke:#000000; stroke-width:4; stroke-opacity:1\"/>\n",
       "<line clip-path=\"url(#clip392)\" x1=\"441.735\" y1=\"159.4\" x2=\"409.735\" y2=\"159.4\" style=\"stroke:#000000; stroke-width:4; stroke-opacity:1\"/>\n",
       "<line clip-path=\"url(#clip392)\" x1=\"469.14\" y1=\"1140.45\" x2=\"437.14\" y2=\"1140.45\" style=\"stroke:#000000; stroke-width:4; stroke-opacity:1\"/>\n",
       "<line clip-path=\"url(#clip392)\" x1=\"469.14\" y1=\"1357.01\" x2=\"437.14\" y2=\"1357.01\" style=\"stroke:#000000; stroke-width:4; stroke-opacity:1\"/>\n",
       "<line clip-path=\"url(#clip392)\" x1=\"2312.63\" y1=\"558.604\" x2=\"2280.63\" y2=\"558.604\" style=\"stroke:#000000; stroke-width:4; stroke-opacity:1\"/>\n",
       "<line clip-path=\"url(#clip392)\" x1=\"2312.63\" y1=\"558.604\" x2=\"2280.63\" y2=\"558.604\" style=\"stroke:#000000; stroke-width:4; stroke-opacity:1\"/>\n",
       "<circle clip-path=\"url(#clip392)\" cx=\"425.735\" cy=\"213.54\" r=\"14.4\" fill=\"#000000\" fill-rule=\"evenodd\" fill-opacity=\"1\" stroke=\"none\"/>\n",
       "<circle clip-path=\"url(#clip392)\" cx=\"453.14\" cy=\"1248.73\" r=\"14.4\" fill=\"#000000\" fill-rule=\"evenodd\" fill-opacity=\"1\" stroke=\"none\"/>\n",
       "<circle clip-path=\"url(#clip392)\" cx=\"2296.63\" cy=\"558.604\" r=\"14.4\" fill=\"#000000\" fill-rule=\"evenodd\" fill-opacity=\"1\" stroke=\"none\"/>\n",
       "<polyline clip-path=\"url(#clip392)\" style=\"stroke:#000080; stroke-linecap:round; stroke-linejoin:round; stroke-width:4; stroke-opacity:1; fill:none\" points=\"-1613.54,558.604 4335.9,558.604 \"/>\n",
       "<path clip-path=\"url(#clip390)\" d=\"M2035.91 321.308 L2286.65 321.308 L2286.65 165.788 L2035.91 165.788  Z\" fill=\"#ffffff\" fill-rule=\"evenodd\" fill-opacity=\"1\"/>\n",
       "<polyline clip-path=\"url(#clip390)\" style=\"stroke:#000000; stroke-linecap:round; stroke-linejoin:round; stroke-width:4; stroke-opacity:1; fill:none\" points=\"2035.91,321.308 2286.65,321.308 2286.65,165.788 2035.91,165.788 2035.91,321.308 \"/>\n",
       "<circle clip-path=\"url(#clip390)\" cx=\"2124.05\" cy=\"217.628\" r=\"20.48\" fill=\"#000000\" fill-rule=\"evenodd\" fill-opacity=\"1\" stroke=\"none\"/>\n",
       "<path clip-path=\"url(#clip390)\" d=\"M2226.03 237.315 Q2224.22 241.945 2222.51 243.357 Q2220.8 244.769 2217.93 244.769 L2214.52 244.769 L2214.52 241.204 L2217.02 241.204 Q2218.78 241.204 2219.76 240.371 Q2220.73 239.537 2221.91 236.435 L2222.67 234.491 L2212.19 208.982 L2216.7 208.982 L2224.8 229.26 L2232.9 208.982 L2237.42 208.982 L2226.03 237.315 Z\" fill=\"#000000\" fill-rule=\"nonzero\" fill-opacity=\"1\" /><path clip-path=\"url(#clip390)\" d=\"M2244.71 230.973 L2252.35 230.973 L2252.35 204.607 L2244.04 206.274 L2244.04 202.014 L2252.3 200.348 L2256.98 200.348 L2256.98 230.973 L2264.62 230.973 L2264.62 234.908 L2244.71 234.908 L2244.71 230.973 Z\" fill=\"#000000\" fill-rule=\"nonzero\" fill-opacity=\"1\" /><polyline clip-path=\"url(#clip390)\" style=\"stroke:#000080; stroke-linecap:round; stroke-linejoin:round; stroke-width:4; stroke-opacity:1; fill:none\" points=\"2057.94,269.468 2190.15,269.468 \"/>\n",
       "<path clip-path=\"url(#clip390)\" d=\"M2226.03 289.155 Q2224.22 293.785 2222.51 295.197 Q2220.8 296.609 2217.93 296.609 L2214.52 296.609 L2214.52 293.044 L2217.02 293.044 Q2218.78 293.044 2219.76 292.211 Q2220.73 291.377 2221.91 288.275 L2222.67 286.331 L2212.19 260.822 L2216.7 260.822 L2224.8 281.1 L2232.9 260.822 L2237.42 260.822 L2226.03 289.155 Z\" fill=\"#000000\" fill-rule=\"nonzero\" fill-opacity=\"1\" /><path clip-path=\"url(#clip390)\" d=\"M2247.93 282.813 L2264.25 282.813 L2264.25 286.748 L2242.3 286.748 L2242.3 282.813 Q2244.96 280.058 2249.55 275.428 Q2254.15 270.776 2255.33 269.433 Q2257.58 266.91 2258.46 265.174 Q2259.36 263.415 2259.36 261.725 Q2259.36 258.97 2257.42 257.234 Q2255.5 255.498 2252.39 255.498 Q2250.19 255.498 2247.74 256.262 Q2245.31 257.026 2242.53 258.577 L2242.53 253.854 Q2245.36 252.72 2247.81 252.141 Q2250.26 251.563 2252.3 251.563 Q2257.67 251.563 2260.87 254.248 Q2264.06 256.933 2264.06 261.424 Q2264.06 263.553 2263.25 265.475 Q2262.46 267.373 2260.36 269.965 Q2259.78 270.637 2256.68 273.854 Q2253.57 277.049 2247.93 282.813 Z\" fill=\"#000000\" fill-rule=\"nonzero\" fill-opacity=\"1\" /></svg>\n"
      ],
      "text/html": [
       "<?xml version=\"1.0\" encoding=\"utf-8\"?>\n",
       "<svg xmlns=\"http://www.w3.org/2000/svg\" xmlns:xlink=\"http://www.w3.org/1999/xlink\" width=\"600\" height=\"400\" viewBox=\"0 0 2400 1600\">\n",
       "<defs>\n",
       "  <clipPath id=\"clip440\">\n",
       "    <rect x=\"0\" y=\"0\" width=\"2400\" height=\"1600\"/>\n",
       "  </clipPath>\n",
       "</defs>\n",
       "<path clip-path=\"url(#clip440)\" d=\"M0 1600 L2400 1600 L2400 8.88178e-14 L0 8.88178e-14  Z\" fill=\"#ffffff\" fill-rule=\"evenodd\" fill-opacity=\"1\"/>\n",
       "<defs>\n",
       "  <clipPath id=\"clip441\">\n",
       "    <rect x=\"480\" y=\"0\" width=\"1681\" height=\"1600\"/>\n",
       "  </clipPath>\n",
       "</defs>\n",
       "<path clip-path=\"url(#clip440)\" d=\"M369.608 1392.94 L2352.76 1392.94 L2352.76 123.472 L369.608 123.472  Z\" fill=\"#ffffff\" fill-rule=\"evenodd\" fill-opacity=\"1\"/>\n",
       "<defs>\n",
       "  <clipPath id=\"clip442\">\n",
       "    <rect x=\"369\" y=\"123\" width=\"1984\" height=\"1270\"/>\n",
       "  </clipPath>\n",
       "</defs>\n",
       "<polyline clip-path=\"url(#clip440)\" style=\"stroke:#000000; stroke-linecap:round; stroke-linejoin:round; stroke-width:4; stroke-opacity:1; fill:none\" points=\"369.608,1392.94 2352.76,1392.94 \"/>\n",
       "<polyline clip-path=\"url(#clip440)\" style=\"stroke:#000000; stroke-linecap:round; stroke-linejoin:round; stroke-width:4; stroke-opacity:1; fill:none\" points=\"369.608,123.472 2352.76,123.472 \"/>\n",
       "<polyline clip-path=\"url(#clip440)\" style=\"stroke:#000000; stroke-linecap:round; stroke-linejoin:round; stroke-width:4; stroke-opacity:1; fill:none\" points=\"471.207,1392.94 471.207,1374.04 \"/>\n",
       "<polyline clip-path=\"url(#clip440)\" style=\"stroke:#000000; stroke-linecap:round; stroke-linejoin:round; stroke-width:4; stroke-opacity:1; fill:none\" points=\"858.647,1392.94 858.647,1374.04 \"/>\n",
       "<polyline clip-path=\"url(#clip440)\" style=\"stroke:#000000; stroke-linecap:round; stroke-linejoin:round; stroke-width:4; stroke-opacity:1; fill:none\" points=\"1246.09,1392.94 1246.09,1374.04 \"/>\n",
       "<polyline clip-path=\"url(#clip440)\" style=\"stroke:#000000; stroke-linecap:round; stroke-linejoin:round; stroke-width:4; stroke-opacity:1; fill:none\" points=\"1633.53,1392.94 1633.53,1374.04 \"/>\n",
       "<polyline clip-path=\"url(#clip440)\" style=\"stroke:#000000; stroke-linecap:round; stroke-linejoin:round; stroke-width:4; stroke-opacity:1; fill:none\" points=\"2020.97,1392.94 2020.97,1374.04 \"/>\n",
       "<polyline clip-path=\"url(#clip440)\" style=\"stroke:#000000; stroke-linecap:round; stroke-linejoin:round; stroke-width:4; stroke-opacity:1; fill:none\" points=\"471.207,123.472 471.207,142.37 \"/>\n",
       "<polyline clip-path=\"url(#clip440)\" style=\"stroke:#000000; stroke-linecap:round; stroke-linejoin:round; stroke-width:4; stroke-opacity:1; fill:none\" points=\"858.647,123.472 858.647,142.37 \"/>\n",
       "<polyline clip-path=\"url(#clip440)\" style=\"stroke:#000000; stroke-linecap:round; stroke-linejoin:round; stroke-width:4; stroke-opacity:1; fill:none\" points=\"1246.09,123.472 1246.09,142.37 \"/>\n",
       "<polyline clip-path=\"url(#clip440)\" style=\"stroke:#000000; stroke-linecap:round; stroke-linejoin:round; stroke-width:4; stroke-opacity:1; fill:none\" points=\"1633.53,123.472 1633.53,142.37 \"/>\n",
       "<polyline clip-path=\"url(#clip440)\" style=\"stroke:#000000; stroke-linecap:round; stroke-linejoin:round; stroke-width:4; stroke-opacity:1; fill:none\" points=\"2020.97,123.472 2020.97,142.37 \"/>\n",
       "<path clip-path=\"url(#clip440)\" d=\"M426.694 1448.22 Q421.971 1448.22 419.194 1451.45 Q416.451 1454.68 416.451 1460.31 Q416.451 1465.9 419.194 1469.16 Q421.971 1472.39 426.694 1472.39 Q431.416 1472.39 434.159 1469.16 Q436.937 1465.9 436.937 1460.31 Q436.937 1454.68 434.159 1451.45 Q431.416 1448.22 426.694 1448.22 M440.617 1426.25 L440.617 1432.63 Q437.978 1431.38 435.27 1430.72 Q432.596 1430.07 429.957 1430.07 Q423.013 1430.07 419.333 1434.75 Q415.687 1439.44 415.166 1448.92 Q417.215 1445.9 420.305 1444.3 Q423.395 1442.67 427.11 1442.67 Q434.923 1442.67 439.437 1447.43 Q443.985 1452.15 443.985 1460.31 Q443.985 1468.29 439.263 1473.12 Q434.541 1477.95 426.694 1477.95 Q417.701 1477.95 412.944 1471.07 Q408.187 1464.16 408.187 1451.07 Q408.187 1438.78 414.02 1431.49 Q419.853 1424.16 429.68 1424.16 Q432.319 1424.16 434.992 1424.68 Q437.701 1425.2 440.617 1426.25 Z\" fill=\"#000000\" fill-rule=\"nonzero\" fill-opacity=\"1\" /><path clip-path=\"url(#clip440)\" d=\"M471.068 1429.72 Q465.652 1429.72 462.909 1435.07 Q460.2 1440.38 460.2 1451.07 Q460.2 1461.73 462.909 1467.08 Q465.652 1472.39 471.068 1472.39 Q476.52 1472.39 479.228 1467.08 Q481.971 1461.73 481.971 1451.07 Q481.971 1440.38 479.228 1435.07 Q476.52 1429.72 471.068 1429.72 M471.068 1424.16 Q479.784 1424.16 484.367 1431.07 Q488.985 1437.95 488.985 1451.07 Q488.985 1464.16 484.367 1471.07 Q479.784 1477.95 471.068 1477.95 Q462.353 1477.95 457.735 1471.07 Q453.152 1464.16 453.152 1451.07 Q453.152 1437.95 457.735 1431.07 Q462.353 1424.16 471.068 1424.16 Z\" fill=\"#000000\" fill-rule=\"nonzero\" fill-opacity=\"1\" /><path clip-path=\"url(#clip440)\" d=\"M516.311 1429.72 Q510.895 1429.72 508.152 1435.07 Q505.443 1440.38 505.443 1451.07 Q505.443 1461.73 508.152 1467.08 Q510.895 1472.39 516.311 1472.39 Q521.763 1472.39 524.471 1467.08 Q527.214 1461.73 527.214 1451.07 Q527.214 1440.38 524.471 1435.07 Q521.763 1429.72 516.311 1429.72 M516.311 1424.16 Q525.026 1424.16 529.61 1431.07 Q534.228 1437.95 534.228 1451.07 Q534.228 1464.16 529.61 1471.07 Q525.026 1477.95 516.311 1477.95 Q507.596 1477.95 502.978 1471.07 Q498.395 1464.16 498.395 1451.07 Q498.395 1437.95 502.978 1431.07 Q507.596 1424.16 516.311 1424.16 Z\" fill=\"#000000\" fill-rule=\"nonzero\" fill-opacity=\"1\" /><path clip-path=\"url(#clip440)\" d=\"M798.717 1475.86 L798.717 1469.47 Q801.356 1470.72 804.064 1471.38 Q806.772 1472.04 809.376 1472.04 Q816.321 1472.04 819.967 1467.39 Q823.647 1462.7 824.168 1453.19 Q822.154 1456.18 819.064 1457.77 Q815.974 1459.37 812.224 1459.37 Q804.446 1459.37 799.897 1454.68 Q795.383 1449.96 795.383 1441.8 Q795.383 1433.82 800.106 1428.99 Q804.828 1424.16 812.675 1424.16 Q821.668 1424.16 826.39 1431.07 Q831.147 1437.95 831.147 1451.07 Q831.147 1463.33 825.314 1470.66 Q819.515 1477.95 809.689 1477.95 Q807.05 1477.95 804.342 1477.43 Q801.633 1476.91 798.717 1475.86 M812.675 1453.88 Q817.397 1453.88 820.14 1450.66 Q822.918 1447.43 822.918 1441.8 Q822.918 1436.21 820.14 1432.98 Q817.397 1429.72 812.675 1429.72 Q807.953 1429.72 805.175 1432.98 Q802.432 1436.21 802.432 1441.8 Q802.432 1447.43 805.175 1450.66 Q807.953 1453.88 812.675 1453.88 Z\" fill=\"#000000\" fill-rule=\"nonzero\" fill-opacity=\"1\" /><path clip-path=\"url(#clip440)\" d=\"M858.751 1429.72 Q853.334 1429.72 850.591 1435.07 Q847.883 1440.38 847.883 1451.07 Q847.883 1461.73 850.591 1467.08 Q853.334 1472.39 858.751 1472.39 Q864.202 1472.39 866.911 1467.08 Q869.654 1461.73 869.654 1451.07 Q869.654 1440.38 866.911 1435.07 Q864.202 1429.72 858.751 1429.72 M858.751 1424.16 Q867.466 1424.16 872.05 1431.07 Q876.668 1437.95 876.668 1451.07 Q876.668 1464.16 872.05 1471.07 Q867.466 1477.95 858.751 1477.95 Q850.036 1477.95 845.418 1471.07 Q840.834 1464.16 840.834 1451.07 Q840.834 1437.95 845.418 1431.07 Q850.036 1424.16 858.751 1424.16 Z\" fill=\"#000000\" fill-rule=\"nonzero\" fill-opacity=\"1\" /><path clip-path=\"url(#clip440)\" d=\"M903.994 1429.72 Q898.577 1429.72 895.834 1435.07 Q893.126 1440.38 893.126 1451.07 Q893.126 1461.73 895.834 1467.08 Q898.577 1472.39 903.994 1472.39 Q909.445 1472.39 912.154 1467.08 Q914.897 1461.73 914.897 1451.07 Q914.897 1440.38 912.154 1435.07 Q909.445 1429.72 903.994 1429.72 M903.994 1424.16 Q912.709 1424.16 917.292 1431.07 Q921.91 1437.95 921.91 1451.07 Q921.91 1464.16 917.292 1471.07 Q912.709 1477.95 903.994 1477.95 Q895.279 1477.95 890.661 1471.07 Q886.077 1464.16 886.077 1451.07 Q886.077 1437.95 890.661 1431.07 Q895.279 1424.16 903.994 1424.16 Z\" fill=\"#000000\" fill-rule=\"nonzero\" fill-opacity=\"1\" /><path clip-path=\"url(#clip440)\" d=\"M1162.88 1471.04 L1174.33 1471.04 L1174.33 1431.49 L1161.87 1433.99 L1161.87 1427.6 L1174.26 1425.1 L1181.28 1425.1 L1181.28 1471.04 L1192.74 1471.04 L1192.74 1476.94 L1162.88 1476.94 L1162.88 1471.04 Z\" fill=\"#000000\" fill-rule=\"nonzero\" fill-opacity=\"1\" /><path clip-path=\"url(#clip440)\" d=\"M1212.94 1471.04 L1237.42 1471.04 L1237.42 1476.94 L1204.51 1476.94 L1204.51 1471.04 Q1208.5 1466.91 1215.37 1459.96 Q1222.28 1452.98 1224.06 1450.97 Q1227.42 1447.18 1228.74 1444.58 Q1230.1 1441.94 1230.1 1439.41 Q1230.1 1435.27 1227.18 1432.67 Q1224.3 1430.07 1219.65 1430.07 Q1216.35 1430.07 1212.67 1431.21 Q1209.02 1432.36 1204.85 1434.68 L1204.85 1427.6 Q1209.09 1425.9 1212.77 1425.03 Q1216.45 1424.16 1219.51 1424.16 Q1227.56 1424.16 1232.35 1428.19 Q1237.15 1432.22 1237.15 1438.95 Q1237.15 1442.15 1235.93 1445.03 Q1234.75 1447.88 1231.59 1451.77 Q1230.72 1452.77 1226.07 1457.6 Q1221.42 1462.39 1212.94 1471.04 Z\" fill=\"#000000\" fill-rule=\"nonzero\" fill-opacity=\"1\" /><path clip-path=\"url(#clip440)\" d=\"M1267.15 1429.72 Q1261.73 1429.72 1258.99 1435.07 Q1256.28 1440.38 1256.28 1451.07 Q1256.28 1461.73 1258.99 1467.08 Q1261.73 1472.39 1267.15 1472.39 Q1272.6 1472.39 1275.31 1467.08 Q1278.05 1461.73 1278.05 1451.07 Q1278.05 1440.38 1275.31 1435.07 Q1272.6 1429.72 1267.15 1429.72 M1267.15 1424.16 Q1275.86 1424.16 1280.44 1431.07 Q1285.06 1437.95 1285.06 1451.07 Q1285.06 1464.16 1280.44 1471.07 Q1275.86 1477.95 1267.15 1477.95 Q1258.43 1477.95 1253.81 1471.07 Q1249.23 1464.16 1249.23 1451.07 Q1249.23 1437.95 1253.81 1431.07 Q1258.43 1424.16 1267.15 1424.16 Z\" fill=\"#000000\" fill-rule=\"nonzero\" fill-opacity=\"1\" /><path clip-path=\"url(#clip440)\" d=\"M1312.39 1429.72 Q1306.97 1429.72 1304.23 1435.07 Q1301.52 1440.38 1301.52 1451.07 Q1301.52 1461.73 1304.23 1467.08 Q1306.97 1472.39 1312.39 1472.39 Q1317.84 1472.39 1320.55 1467.08 Q1323.29 1461.73 1323.29 1451.07 Q1323.29 1440.38 1320.55 1435.07 Q1317.84 1429.72 1312.39 1429.72 M1312.39 1424.16 Q1321.1 1424.16 1325.69 1431.07 Q1330.3 1437.95 1330.3 1451.07 Q1330.3 1464.16 1325.69 1471.07 Q1321.1 1477.95 1312.39 1477.95 Q1303.67 1477.95 1299.05 1471.07 Q1294.47 1464.16 1294.47 1451.07 Q1294.47 1437.95 1299.05 1431.07 Q1303.67 1424.16 1312.39 1424.16 Z\" fill=\"#000000\" fill-rule=\"nonzero\" fill-opacity=\"1\" /><path clip-path=\"url(#clip440)\" d=\"M1550.31 1471.04 L1561.77 1471.04 L1561.77 1431.49 L1549.31 1433.99 L1549.31 1427.6 L1561.7 1425.1 L1568.72 1425.1 L1568.72 1471.04 L1580.18 1471.04 L1580.18 1476.94 L1550.31 1476.94 L1550.31 1471.04 Z\" fill=\"#000000\" fill-rule=\"nonzero\" fill-opacity=\"1\" /><path clip-path=\"url(#clip440)\" d=\"M1594.41 1425.1 L1621.95 1425.1 L1621.95 1431 L1600.84 1431 L1600.84 1443.71 Q1602.36 1443.19 1603.89 1442.95 Q1605.42 1442.67 1606.95 1442.67 Q1615.63 1442.67 1620.7 1447.43 Q1625.77 1452.18 1625.77 1460.31 Q1625.77 1468.68 1620.56 1473.33 Q1615.35 1477.95 1605.87 1477.95 Q1602.61 1477.95 1599.2 1477.39 Q1595.84 1476.84 1592.22 1475.72 L1592.22 1468.68 Q1595.35 1470.38 1598.68 1471.21 Q1602.02 1472.04 1605.73 1472.04 Q1611.74 1472.04 1615.25 1468.88 Q1618.75 1465.72 1618.75 1460.31 Q1618.75 1454.89 1615.25 1451.73 Q1611.74 1448.57 1605.73 1448.57 Q1602.92 1448.57 1600.11 1449.2 Q1597.33 1449.82 1594.41 1451.14 L1594.41 1425.1 Z\" fill=\"#000000\" fill-rule=\"nonzero\" fill-opacity=\"1\" /><path clip-path=\"url(#clip440)\" d=\"M1654.59 1429.72 Q1649.17 1429.72 1646.43 1435.07 Q1643.72 1440.38 1643.72 1451.07 Q1643.72 1461.73 1646.43 1467.08 Q1649.17 1472.39 1654.59 1472.39 Q1660.04 1472.39 1662.74 1467.08 Q1665.49 1461.73 1665.49 1451.07 Q1665.49 1440.38 1662.74 1435.07 Q1660.04 1429.72 1654.59 1429.72 M1654.59 1424.16 Q1663.3 1424.16 1667.88 1431.07 Q1672.5 1437.95 1672.5 1451.07 Q1672.5 1464.16 1667.88 1471.07 Q1663.3 1477.95 1654.59 1477.95 Q1645.87 1477.95 1641.25 1471.07 Q1636.67 1464.16 1636.67 1451.07 Q1636.67 1437.95 1641.25 1431.07 Q1645.87 1424.16 1654.59 1424.16 Z\" fill=\"#000000\" fill-rule=\"nonzero\" fill-opacity=\"1\" /><path clip-path=\"url(#clip440)\" d=\"M1699.83 1429.72 Q1694.41 1429.72 1691.67 1435.07 Q1688.96 1440.38 1688.96 1451.07 Q1688.96 1461.73 1691.67 1467.08 Q1694.41 1472.39 1699.83 1472.39 Q1705.28 1472.39 1707.99 1467.08 Q1710.73 1461.73 1710.73 1451.07 Q1710.73 1440.38 1707.99 1435.07 Q1705.28 1429.72 1699.83 1429.72 M1699.83 1424.16 Q1708.54 1424.16 1713.13 1431.07 Q1717.74 1437.95 1717.74 1451.07 Q1717.74 1464.16 1713.13 1471.07 Q1708.54 1477.95 1699.83 1477.95 Q1691.11 1477.95 1686.49 1471.07 Q1681.91 1464.16 1681.91 1451.07 Q1681.91 1437.95 1686.49 1431.07 Q1691.11 1424.16 1699.83 1424.16 Z\" fill=\"#000000\" fill-rule=\"nonzero\" fill-opacity=\"1\" /><path clip-path=\"url(#clip440)\" d=\"M1937.75 1471.04 L1949.21 1471.04 L1949.21 1431.49 L1936.75 1433.99 L1936.75 1427.6 L1949.14 1425.1 L1956.16 1425.1 L1956.16 1471.04 L1967.62 1471.04 L1967.62 1476.94 L1937.75 1476.94 L1937.75 1471.04 Z\" fill=\"#000000\" fill-rule=\"nonzero\" fill-opacity=\"1\" /><path clip-path=\"url(#clip440)\" d=\"M1996.78 1452.32 Q1991.78 1452.32 1988.9 1455 Q1986.05 1457.67 1986.05 1462.36 Q1986.05 1467.04 1988.9 1469.72 Q1991.78 1472.39 1996.78 1472.39 Q2001.78 1472.39 2004.66 1469.72 Q2007.55 1467.01 2007.55 1462.36 Q2007.55 1457.67 2004.66 1455 Q2001.82 1452.32 1996.78 1452.32 M1989.77 1449.34 Q1985.25 1448.22 1982.72 1445.13 Q1980.22 1442.04 1980.22 1437.6 Q1980.22 1431.38 1984.63 1427.77 Q1989.07 1424.16 1996.78 1424.16 Q2004.52 1424.16 2008.93 1427.77 Q2013.34 1431.38 2013.34 1437.6 Q2013.34 1442.04 2010.81 1445.13 Q2008.31 1448.22 2003.83 1449.34 Q2008.9 1450.52 2011.71 1453.95 Q2014.56 1457.39 2014.56 1462.36 Q2014.56 1469.89 2009.94 1473.92 Q2005.36 1477.95 1996.78 1477.95 Q1988.21 1477.95 1983.59 1473.92 Q1979 1469.89 1979 1462.36 Q1979 1457.39 1981.85 1453.95 Q1984.7 1450.52 1989.77 1449.34 M1987.2 1438.26 Q1987.2 1442.29 1989.7 1444.54 Q1992.23 1446.8 1996.78 1446.8 Q2001.3 1446.8 2003.83 1444.54 Q2006.4 1442.29 2006.4 1438.26 Q2006.4 1434.23 2003.83 1431.97 Q2001.3 1429.72 1996.78 1429.72 Q1992.23 1429.72 1989.7 1431.97 Q1987.2 1434.23 1987.2 1438.26 Z\" fill=\"#000000\" fill-rule=\"nonzero\" fill-opacity=\"1\" /><path clip-path=\"url(#clip440)\" d=\"M2042.02 1429.72 Q2036.61 1429.72 2033.87 1435.07 Q2031.16 1440.38 2031.16 1451.07 Q2031.16 1461.73 2033.87 1467.08 Q2036.61 1472.39 2042.02 1472.39 Q2047.48 1472.39 2050.18 1467.08 Q2052.93 1461.73 2052.93 1451.07 Q2052.93 1440.38 2050.18 1435.07 Q2047.48 1429.72 2042.02 1429.72 M2042.02 1424.16 Q2050.74 1424.16 2055.32 1431.07 Q2059.94 1437.95 2059.94 1451.07 Q2059.94 1464.16 2055.32 1471.07 Q2050.74 1477.95 2042.02 1477.95 Q2033.31 1477.95 2028.69 1471.07 Q2024.11 1464.16 2024.11 1451.07 Q2024.11 1437.95 2028.69 1431.07 Q2033.31 1424.16 2042.02 1424.16 Z\" fill=\"#000000\" fill-rule=\"nonzero\" fill-opacity=\"1\" /><path clip-path=\"url(#clip440)\" d=\"M2087.27 1429.72 Q2081.85 1429.72 2079.11 1435.07 Q2076.4 1440.38 2076.4 1451.07 Q2076.4 1461.73 2079.11 1467.08 Q2081.85 1472.39 2087.27 1472.39 Q2092.72 1472.39 2095.43 1467.08 Q2098.17 1461.73 2098.17 1451.07 Q2098.17 1440.38 2095.43 1435.07 Q2092.72 1429.72 2087.27 1429.72 M2087.27 1424.16 Q2095.98 1424.16 2100.57 1431.07 Q2105.18 1437.95 2105.18 1451.07 Q2105.18 1464.16 2100.57 1471.07 Q2095.98 1477.95 2087.27 1477.95 Q2078.55 1477.95 2073.93 1471.07 Q2069.35 1464.16 2069.35 1451.07 Q2069.35 1437.95 2073.93 1431.07 Q2078.55 1424.16 2087.27 1424.16 Z\" fill=\"#000000\" fill-rule=\"nonzero\" fill-opacity=\"1\" /><path clip-path=\"url(#clip440)\" d=\"M1205.16 1518.8 L1243.4 1518.8 L1243.4 1525.68 L1213.34 1525.68 L1213.34 1543.59 L1242.15 1543.59 L1242.15 1550.47 L1213.34 1550.47 L1213.34 1572.39 L1244.13 1572.39 L1244.13 1579.28 L1205.16 1579.28 L1205.16 1518.8 Z\" fill=\"#000000\" fill-rule=\"nonzero\" fill-opacity=\"1\" /><path clip-path=\"url(#clip440)\" d=\"M1258.63 1557.85 L1264.91 1573.56 L1273.82 1553.88 L1278.81 1553.88 L1267.26 1579.28 L1267.26 1588.96 L1262.56 1588.96 L1262.56 1579.28 L1255.07 1560.32 Q1253.93 1557.44 1251.5 1557.44 L1250.25 1557.44 L1250.25 1553.88 L1252.03 1553.88 Q1257.05 1553.88 1258.63 1557.85 Z\" fill=\"#000000\" fill-rule=\"nonzero\" fill-opacity=\"1\" /><path clip-path=\"url(#clip440)\" d=\"M1332.44 1516.32 Q1327.01 1525.64 1324.38 1534.76 Q1321.75 1543.87 1321.75 1553.23 Q1321.75 1562.59 1324.38 1571.78 Q1327.05 1580.94 1332.44 1590.21 L1325.96 1590.21 Q1319.88 1580.69 1316.84 1571.5 Q1313.85 1562.3 1313.85 1553.23 Q1313.85 1544.2 1316.84 1535.04 Q1319.84 1525.88 1325.96 1516.32 L1332.44 1516.32 Z\" fill=\"#000000\" fill-rule=\"nonzero\" fill-opacity=\"1\" /><path clip-path=\"url(#clip440)\" d=\"M1346.62 1516.24 L1354.11 1516.24 L1354.11 1553.47 L1376.35 1533.91 L1385.87 1533.91 L1361.81 1555.13 L1386.88 1579.28 L1377.16 1579.28 L1354.11 1557.12 L1354.11 1579.28 L1346.62 1579.28 L1346.62 1516.24 Z\" fill=\"#000000\" fill-rule=\"nonzero\" fill-opacity=\"1\" /><path clip-path=\"url(#clip440)\" d=\"M1430.8 1554.73 L1430.8 1558.37 L1396.53 1558.37 Q1397.01 1566.07 1401.14 1570.12 Q1405.32 1574.13 1412.73 1574.13 Q1417.02 1574.13 1421.03 1573.08 Q1425.08 1572.02 1429.05 1569.92 L1429.05 1576.97 Q1425.04 1578.67 1420.83 1579.56 Q1416.62 1580.45 1412.28 1580.45 Q1401.43 1580.45 1395.07 1574.13 Q1388.75 1567.81 1388.75 1557.04 Q1388.75 1545.9 1394.74 1539.37 Q1400.78 1532.81 1410.99 1532.81 Q1420.14 1532.81 1425.45 1538.73 Q1430.8 1544.6 1430.8 1554.73 M1423.34 1552.54 Q1423.26 1546.42 1419.9 1542.78 Q1416.58 1539.13 1411.07 1539.13 Q1404.83 1539.13 1401.06 1542.66 Q1397.34 1546.18 1396.77 1552.58 L1423.34 1552.54 Z\" fill=\"#000000\" fill-rule=\"nonzero\" fill-opacity=\"1\" /><path clip-path=\"url(#clip440)\" d=\"M1458.95 1579.28 L1435.86 1518.8 L1444.41 1518.8 L1463.57 1569.72 L1482.77 1518.8 L1491.28 1518.8 L1468.23 1579.28 L1458.95 1579.28 Z\" fill=\"#000000\" fill-rule=\"nonzero\" fill-opacity=\"1\" /><path clip-path=\"url(#clip440)\" d=\"M1498.61 1516.32 L1505.09 1516.32 Q1511.17 1525.88 1514.16 1535.04 Q1517.2 1544.2 1517.2 1553.23 Q1517.2 1562.3 1514.16 1571.5 Q1511.17 1580.69 1505.09 1590.21 L1498.61 1590.21 Q1504 1580.94 1506.63 1571.78 Q1509.3 1562.59 1509.3 1553.23 Q1509.3 1543.87 1506.63 1534.76 Q1504 1525.64 1498.61 1516.32 Z\" fill=\"#000000\" fill-rule=\"nonzero\" fill-opacity=\"1\" /><polyline clip-path=\"url(#clip440)\" style=\"stroke:#000000; stroke-linecap:round; stroke-linejoin:round; stroke-width:4; stroke-opacity:1; fill:none\" points=\"369.608,1392.94 369.608,123.472 \"/>\n",
       "<polyline clip-path=\"url(#clip440)\" style=\"stroke:#000000; stroke-linecap:round; stroke-linejoin:round; stroke-width:4; stroke-opacity:1; fill:none\" points=\"2352.76,1392.94 2352.76,123.472 \"/>\n",
       "<polyline clip-path=\"url(#clip440)\" style=\"stroke:#000000; stroke-linecap:round; stroke-linejoin:round; stroke-width:4; stroke-opacity:1; fill:none\" points=\"369.608,1243.4 388.506,1243.4 \"/>\n",
       "<polyline clip-path=\"url(#clip440)\" style=\"stroke:#000000; stroke-linecap:round; stroke-linejoin:round; stroke-width:4; stroke-opacity:1; fill:none\" points=\"369.608,1072.2 388.506,1072.2 \"/>\n",
       "<polyline clip-path=\"url(#clip440)\" style=\"stroke:#000000; stroke-linecap:round; stroke-linejoin:round; stroke-width:4; stroke-opacity:1; fill:none\" points=\"369.608,901.001 388.506,901.001 \"/>\n",
       "<polyline clip-path=\"url(#clip440)\" style=\"stroke:#000000; stroke-linecap:round; stroke-linejoin:round; stroke-width:4; stroke-opacity:1; fill:none\" points=\"369.608,729.802 388.506,729.802 \"/>\n",
       "<polyline clip-path=\"url(#clip440)\" style=\"stroke:#000000; stroke-linecap:round; stroke-linejoin:round; stroke-width:4; stroke-opacity:1; fill:none\" points=\"369.608,558.604 388.506,558.604 \"/>\n",
       "<polyline clip-path=\"url(#clip440)\" style=\"stroke:#000000; stroke-linecap:round; stroke-linejoin:round; stroke-width:4; stroke-opacity:1; fill:none\" points=\"369.608,387.405 388.506,387.405 \"/>\n",
       "<polyline clip-path=\"url(#clip440)\" style=\"stroke:#000000; stroke-linecap:round; stroke-linejoin:round; stroke-width:4; stroke-opacity:1; fill:none\" points=\"369.608,216.206 388.506,216.206 \"/>\n",
       "<polyline clip-path=\"url(#clip440)\" style=\"stroke:#000000; stroke-linecap:round; stroke-linejoin:round; stroke-width:4; stroke-opacity:1; fill:none\" points=\"2352.76,1243.4 2333.86,1243.4 \"/>\n",
       "<polyline clip-path=\"url(#clip440)\" style=\"stroke:#000000; stroke-linecap:round; stroke-linejoin:round; stroke-width:4; stroke-opacity:1; fill:none\" points=\"2352.76,1072.2 2333.86,1072.2 \"/>\n",
       "<polyline clip-path=\"url(#clip440)\" style=\"stroke:#000000; stroke-linecap:round; stroke-linejoin:round; stroke-width:4; stroke-opacity:1; fill:none\" points=\"2352.76,901.001 2333.86,901.001 \"/>\n",
       "<polyline clip-path=\"url(#clip440)\" style=\"stroke:#000000; stroke-linecap:round; stroke-linejoin:round; stroke-width:4; stroke-opacity:1; fill:none\" points=\"2352.76,729.802 2333.86,729.802 \"/>\n",
       "<polyline clip-path=\"url(#clip440)\" style=\"stroke:#000000; stroke-linecap:round; stroke-linejoin:round; stroke-width:4; stroke-opacity:1; fill:none\" points=\"2352.76,558.604 2333.86,558.604 \"/>\n",
       "<polyline clip-path=\"url(#clip440)\" style=\"stroke:#000000; stroke-linecap:round; stroke-linejoin:round; stroke-width:4; stroke-opacity:1; fill:none\" points=\"2352.76,387.405 2333.86,387.405 \"/>\n",
       "<polyline clip-path=\"url(#clip440)\" style=\"stroke:#000000; stroke-linecap:round; stroke-linejoin:round; stroke-width:4; stroke-opacity:1; fill:none\" points=\"2352.76,216.206 2333.86,216.206 \"/>\n",
       "<path clip-path=\"url(#clip440)\" d=\"M127.22 1244.07 L171.734 1244.07 L171.734 1249.98 L127.22 1249.98 L127.22 1244.07 Z\" fill=\"#000000\" fill-rule=\"nonzero\" fill-opacity=\"1\" /><path clip-path=\"url(#clip440)\" d=\"M201.873 1222.1 Q196.456 1222.1 193.713 1227.44 Q191.005 1232.76 191.005 1243.45 Q191.005 1254.11 193.713 1259.46 Q196.456 1264.77 201.873 1264.77 Q207.324 1264.77 210.032 1259.46 Q212.775 1254.11 212.775 1243.45 Q212.775 1232.76 210.032 1227.44 Q207.324 1222.1 201.873 1222.1 M201.873 1216.54 Q210.588 1216.54 215.171 1223.45 Q219.789 1230.32 219.789 1243.45 Q219.789 1256.54 215.171 1263.45 Q210.588 1270.32 201.873 1270.32 Q193.157 1270.32 188.539 1263.45 Q183.956 1256.54 183.956 1243.45 Q183.956 1230.32 188.539 1223.45 Q193.157 1216.54 201.873 1216.54 Z\" fill=\"#000000\" fill-rule=\"nonzero\" fill-opacity=\"1\" /><path clip-path=\"url(#clip440)\" d=\"M232.115 1260.5 L239.442 1260.5 L239.442 1269.32 L232.115 1269.32 L232.115 1260.5 Z\" fill=\"#000000\" fill-rule=\"nonzero\" fill-opacity=\"1\" /><path clip-path=\"url(#clip440)\" d=\"M269.719 1222.1 Q264.303 1222.1 261.56 1227.44 Q258.851 1232.76 258.851 1243.45 Q258.851 1254.11 261.56 1259.46 Q264.303 1264.77 269.719 1264.77 Q275.171 1264.77 277.879 1259.46 Q280.622 1254.11 280.622 1243.45 Q280.622 1232.76 277.879 1227.44 Q275.171 1222.1 269.719 1222.1 M269.719 1216.54 Q278.435 1216.54 283.018 1223.45 Q287.636 1230.32 287.636 1243.45 Q287.636 1256.54 283.018 1263.45 Q278.435 1270.32 269.719 1270.32 Q261.004 1270.32 256.386 1263.45 Q251.803 1256.54 251.803 1243.45 Q251.803 1230.32 256.386 1223.45 Q261.004 1216.54 269.719 1216.54 Z\" fill=\"#000000\" fill-rule=\"nonzero\" fill-opacity=\"1\" /><path clip-path=\"url(#clip440)\" d=\"M319.233 1223.59 L301.525 1251.26 L319.233 1251.26 L319.233 1223.59 M317.393 1217.48 L326.212 1217.48 L326.212 1251.26 L333.608 1251.26 L333.608 1257.1 L326.212 1257.1 L326.212 1269.32 L319.233 1269.32 L319.233 1257.1 L295.83 1257.1 L295.83 1250.32 L317.393 1217.48 Z\" fill=\"#000000\" fill-rule=\"nonzero\" fill-opacity=\"1\" /><path clip-path=\"url(#clip440)\" d=\"M128.922 1072.88 L173.435 1072.88 L173.435 1078.78 L128.922 1078.78 L128.922 1072.88 Z\" fill=\"#000000\" fill-rule=\"nonzero\" fill-opacity=\"1\" /><path clip-path=\"url(#clip440)\" d=\"M203.574 1050.9 Q198.157 1050.9 195.414 1056.24 Q192.706 1061.56 192.706 1072.25 Q192.706 1082.91 195.414 1088.26 Q198.157 1093.57 203.574 1093.57 Q209.025 1093.57 211.734 1088.26 Q214.477 1082.91 214.477 1072.25 Q214.477 1061.56 211.734 1056.24 Q209.025 1050.9 203.574 1050.9 M203.574 1045.34 Q212.289 1045.34 216.872 1052.25 Q221.49 1059.13 221.49 1072.25 Q221.49 1085.34 216.872 1092.25 Q212.289 1099.13 203.574 1099.13 Q194.859 1099.13 190.241 1092.25 Q185.657 1085.34 185.657 1072.25 Q185.657 1059.13 190.241 1052.25 Q194.859 1045.34 203.574 1045.34 Z\" fill=\"#000000\" fill-rule=\"nonzero\" fill-opacity=\"1\" /><path clip-path=\"url(#clip440)\" d=\"M233.817 1089.3 L241.143 1089.3 L241.143 1098.12 L233.817 1098.12 L233.817 1089.3 Z\" fill=\"#000000\" fill-rule=\"nonzero\" fill-opacity=\"1\" /><path clip-path=\"url(#clip440)\" d=\"M271.421 1050.9 Q266.004 1050.9 263.261 1056.24 Q260.553 1061.56 260.553 1072.25 Q260.553 1082.91 263.261 1088.26 Q266.004 1093.57 271.421 1093.57 Q276.872 1093.57 279.58 1088.26 Q282.323 1082.91 282.323 1072.25 Q282.323 1061.56 279.58 1056.24 Q276.872 1050.9 271.421 1050.9 M271.421 1045.34 Q280.136 1045.34 284.719 1052.25 Q289.337 1059.13 289.337 1072.25 Q289.337 1085.34 284.719 1092.25 Q280.136 1099.13 271.421 1099.13 Q262.706 1099.13 258.088 1092.25 Q253.504 1085.34 253.504 1072.25 Q253.504 1059.13 258.088 1052.25 Q262.706 1045.34 271.421 1045.34 Z\" fill=\"#000000\" fill-rule=\"nonzero\" fill-opacity=\"1\" /><path clip-path=\"url(#clip440)\" d=\"M322.914 1070.17 Q327.948 1071.24 330.761 1074.65 Q333.608 1078.05 333.608 1083.05 Q333.608 1090.72 328.33 1094.92 Q323.052 1099.13 313.33 1099.13 Q310.066 1099.13 306.594 1098.47 Q303.157 1097.84 299.476 1096.56 L299.476 1089.79 Q302.393 1091.49 305.865 1092.36 Q309.337 1093.22 313.122 1093.22 Q319.719 1093.22 323.157 1090.62 Q326.629 1088.02 326.629 1083.05 Q326.629 1078.47 323.4 1075.9 Q320.205 1073.29 314.476 1073.29 L308.434 1073.29 L308.434 1067.53 L314.754 1067.53 Q319.927 1067.53 322.67 1065.48 Q325.414 1063.4 325.414 1059.51 Q325.414 1055.52 322.566 1053.4 Q319.754 1051.24 314.476 1051.24 Q311.594 1051.24 308.296 1051.87 Q304.997 1052.49 301.039 1053.81 L301.039 1047.56 Q305.032 1046.45 308.504 1045.9 Q312.011 1045.34 315.101 1045.34 Q323.087 1045.34 327.74 1048.99 Q332.393 1052.6 332.393 1058.78 Q332.393 1063.08 329.927 1066.07 Q327.462 1069.02 322.914 1070.17 Z\" fill=\"#000000\" fill-rule=\"nonzero\" fill-opacity=\"1\" /><path clip-path=\"url(#clip440)\" d=\"M130.345 901.678 L174.859 901.678 L174.859 907.58 L130.345 907.58 L130.345 901.678 Z\" fill=\"#000000\" fill-rule=\"nonzero\" fill-opacity=\"1\" /><path clip-path=\"url(#clip440)\" d=\"M204.998 879.699 Q199.581 879.699 196.838 885.046 Q194.13 890.358 194.13 901.053 Q194.13 911.712 196.838 917.06 Q199.581 922.372 204.998 922.372 Q210.449 922.372 213.157 917.06 Q215.9 911.712 215.9 901.053 Q215.9 890.358 213.157 885.046 Q210.449 879.699 204.998 879.699 M204.998 874.143 Q213.713 874.143 218.296 881.053 Q222.914 887.928 222.914 901.053 Q222.914 914.143 218.296 921.053 Q213.713 927.928 204.998 927.928 Q196.282 927.928 191.664 921.053 Q187.081 914.143 187.081 901.053 Q187.081 887.928 191.664 881.053 Q196.282 874.143 204.998 874.143 Z\" fill=\"#000000\" fill-rule=\"nonzero\" fill-opacity=\"1\" /><path clip-path=\"url(#clip440)\" d=\"M235.24 918.101 L242.567 918.101 L242.567 926.921 L235.24 926.921 L235.24 918.101 Z\" fill=\"#000000\" fill-rule=\"nonzero\" fill-opacity=\"1\" /><path clip-path=\"url(#clip440)\" d=\"M272.844 879.699 Q267.428 879.699 264.685 885.046 Q261.976 890.358 261.976 901.053 Q261.976 911.712 264.685 917.06 Q267.428 922.372 272.844 922.372 Q278.296 922.372 281.004 917.06 Q283.747 911.712 283.747 901.053 Q283.747 890.358 281.004 885.046 Q278.296 879.699 272.844 879.699 M272.844 874.143 Q281.56 874.143 286.143 881.053 Q290.761 887.928 290.761 901.053 Q290.761 914.143 286.143 921.053 Q281.56 927.928 272.844 927.928 Q264.129 927.928 259.511 921.053 Q254.928 914.143 254.928 901.053 Q254.928 887.928 259.511 881.053 Q264.129 874.143 272.844 874.143 Z\" fill=\"#000000\" fill-rule=\"nonzero\" fill-opacity=\"1\" /><path clip-path=\"url(#clip440)\" d=\"M309.129 921.018 L333.608 921.018 L333.608 926.921 L300.691 926.921 L300.691 921.018 Q304.684 916.886 311.559 909.942 Q318.469 902.962 320.24 900.949 Q323.608 897.164 324.927 894.56 Q326.282 891.921 326.282 889.386 Q326.282 885.254 323.365 882.65 Q320.483 880.046 315.83 880.046 Q312.532 880.046 308.851 881.192 Q305.205 882.338 301.039 884.664 L301.039 877.581 Q305.275 875.879 308.955 875.011 Q312.636 874.143 315.691 874.143 Q323.747 874.143 328.539 878.171 Q333.33 882.199 333.33 888.935 Q333.33 892.129 332.115 895.011 Q330.934 897.858 327.775 901.747 Q326.907 902.754 322.254 907.58 Q317.601 912.372 309.129 921.018 Z\" fill=\"#000000\" fill-rule=\"nonzero\" fill-opacity=\"1\" /><path clip-path=\"url(#clip440)\" d=\"M129.79 730.479 L174.303 730.479 L174.303 736.382 L129.79 736.382 L129.79 730.479 Z\" fill=\"#000000\" fill-rule=\"nonzero\" fill-opacity=\"1\" /><path clip-path=\"url(#clip440)\" d=\"M204.442 708.5 Q199.025 708.5 196.282 713.847 Q193.574 719.16 193.574 729.854 Q193.574 740.514 196.282 745.861 Q199.025 751.173 204.442 751.173 Q209.893 751.173 212.602 745.861 Q215.345 740.514 215.345 729.854 Q215.345 719.16 212.602 713.847 Q209.893 708.5 204.442 708.5 M204.442 702.945 Q213.157 702.945 217.741 709.854 Q222.359 716.729 222.359 729.854 Q222.359 742.944 217.741 749.854 Q213.157 756.729 204.442 756.729 Q195.727 756.729 191.109 749.854 Q186.525 742.944 186.525 729.854 Q186.525 716.729 191.109 709.854 Q195.727 702.945 204.442 702.945 Z\" fill=\"#000000\" fill-rule=\"nonzero\" fill-opacity=\"1\" /><path clip-path=\"url(#clip440)\" d=\"M234.685 746.903 L242.011 746.903 L242.011 755.722 L234.685 755.722 L234.685 746.903 Z\" fill=\"#000000\" fill-rule=\"nonzero\" fill-opacity=\"1\" /><path clip-path=\"url(#clip440)\" d=\"M272.289 708.5 Q266.872 708.5 264.129 713.847 Q261.421 719.16 261.421 729.854 Q261.421 740.514 264.129 745.861 Q266.872 751.173 272.289 751.173 Q277.74 751.173 280.449 745.861 Q283.192 740.514 283.192 729.854 Q283.192 719.16 280.449 713.847 Q277.74 708.5 272.289 708.5 M272.289 702.945 Q281.004 702.945 285.587 709.854 Q290.205 716.729 290.205 729.854 Q290.205 742.944 285.587 749.854 Q281.004 756.729 272.289 756.729 Q263.574 756.729 258.956 749.854 Q254.372 742.944 254.372 729.854 Q254.372 716.729 258.956 709.854 Q263.574 702.945 272.289 702.945 Z\" fill=\"#000000\" fill-rule=\"nonzero\" fill-opacity=\"1\" /><path clip-path=\"url(#clip440)\" d=\"M303.747 749.819 L315.205 749.819 L315.205 710.271 L302.74 712.771 L302.74 706.382 L315.136 703.882 L322.15 703.882 L322.15 749.819 L333.608 749.819 L333.608 755.722 L303.747 755.722 L303.747 749.819 Z\" fill=\"#000000\" fill-rule=\"nonzero\" fill-opacity=\"1\" /><path clip-path=\"url(#clip440)\" d=\"M202.602 537.302 Q197.185 537.302 194.442 542.649 Q191.734 547.961 191.734 558.656 Q191.734 569.315 194.442 574.662 Q197.185 579.975 202.602 579.975 Q208.053 579.975 210.761 574.662 Q213.504 569.315 213.504 558.656 Q213.504 547.961 210.761 542.649 Q208.053 537.302 202.602 537.302 M202.602 531.746 Q211.317 531.746 215.9 538.656 Q220.518 545.531 220.518 558.656 Q220.518 571.746 215.9 578.656 Q211.317 585.53 202.602 585.53 Q193.886 585.53 189.268 578.656 Q184.685 571.746 184.685 558.656 Q184.685 545.531 189.268 538.656 Q193.886 531.746 202.602 531.746 Z\" fill=\"#000000\" fill-rule=\"nonzero\" fill-opacity=\"1\" /><path clip-path=\"url(#clip440)\" d=\"M232.845 575.704 L240.171 575.704 L240.171 584.524 L232.845 584.524 L232.845 575.704 Z\" fill=\"#000000\" fill-rule=\"nonzero\" fill-opacity=\"1\" /><path clip-path=\"url(#clip440)\" d=\"M270.449 537.302 Q265.032 537.302 262.289 542.649 Q259.581 547.961 259.581 558.656 Q259.581 569.315 262.289 574.662 Q265.032 579.975 270.449 579.975 Q275.9 579.975 278.608 574.662 Q281.351 569.315 281.351 558.656 Q281.351 547.961 278.608 542.649 Q275.9 537.302 270.449 537.302 M270.449 531.746 Q279.164 531.746 283.747 538.656 Q288.365 545.531 288.365 558.656 Q288.365 571.746 283.747 578.656 Q279.164 585.53 270.449 585.53 Q261.733 585.53 257.115 578.656 Q252.532 571.746 252.532 558.656 Q252.532 545.531 257.115 538.656 Q261.733 531.746 270.449 531.746 Z\" fill=\"#000000\" fill-rule=\"nonzero\" fill-opacity=\"1\" /><path clip-path=\"url(#clip440)\" d=\"M315.691 537.302 Q310.275 537.302 307.532 542.649 Q304.823 547.961 304.823 558.656 Q304.823 569.315 307.532 574.662 Q310.275 579.975 315.691 579.975 Q321.143 579.975 323.851 574.662 Q326.594 569.315 326.594 558.656 Q326.594 547.961 323.851 542.649 Q321.143 537.302 315.691 537.302 M315.691 531.746 Q324.407 531.746 328.99 538.656 Q333.608 545.531 333.608 558.656 Q333.608 571.746 328.99 578.656 Q324.407 585.53 315.691 585.53 Q306.976 585.53 302.358 578.656 Q297.775 571.746 297.775 558.656 Q297.775 545.531 302.358 538.656 Q306.976 531.746 315.691 531.746 Z\" fill=\"#000000\" fill-rule=\"nonzero\" fill-opacity=\"1\" /><path clip-path=\"url(#clip440)\" d=\"M204.442 366.103 Q199.025 366.103 196.282 371.45 Q193.574 376.763 193.574 387.457 Q193.574 398.117 196.282 403.464 Q199.025 408.776 204.442 408.776 Q209.893 408.776 212.602 403.464 Q215.345 398.117 215.345 387.457 Q215.345 376.763 212.602 371.45 Q209.893 366.103 204.442 366.103 M204.442 360.547 Q213.157 360.547 217.741 367.457 Q222.359 374.332 222.359 387.457 Q222.359 400.547 217.741 407.457 Q213.157 414.332 204.442 414.332 Q195.727 414.332 191.109 407.457 Q186.525 400.547 186.525 387.457 Q186.525 374.332 191.109 367.457 Q195.727 360.547 204.442 360.547 Z\" fill=\"#000000\" fill-rule=\"nonzero\" fill-opacity=\"1\" /><path clip-path=\"url(#clip440)\" d=\"M234.685 404.506 L242.011 404.506 L242.011 413.325 L234.685 413.325 L234.685 404.506 Z\" fill=\"#000000\" fill-rule=\"nonzero\" fill-opacity=\"1\" /><path clip-path=\"url(#clip440)\" d=\"M272.289 366.103 Q266.872 366.103 264.129 371.45 Q261.421 376.763 261.421 387.457 Q261.421 398.117 264.129 403.464 Q266.872 408.776 272.289 408.776 Q277.74 408.776 280.449 403.464 Q283.192 398.117 283.192 387.457 Q283.192 376.763 280.449 371.45 Q277.74 366.103 272.289 366.103 M272.289 360.547 Q281.004 360.547 285.587 367.457 Q290.205 374.332 290.205 387.457 Q290.205 400.547 285.587 407.457 Q281.004 414.332 272.289 414.332 Q263.574 414.332 258.956 407.457 Q254.372 400.547 254.372 387.457 Q254.372 374.332 258.956 367.457 Q263.574 360.547 272.289 360.547 Z\" fill=\"#000000\" fill-rule=\"nonzero\" fill-opacity=\"1\" /><path clip-path=\"url(#clip440)\" d=\"M303.747 407.422 L315.205 407.422 L315.205 367.874 L302.74 370.374 L302.74 363.985 L315.136 361.485 L322.15 361.485 L322.15 407.422 L333.608 407.422 L333.608 413.325 L303.747 413.325 L303.747 407.422 Z\" fill=\"#000000\" fill-rule=\"nonzero\" fill-opacity=\"1\" /><path clip-path=\"url(#clip440)\" d=\"M204.998 194.904 Q199.581 194.904 196.838 200.252 Q194.13 205.564 194.13 216.259 Q194.13 226.918 196.838 232.265 Q199.581 237.578 204.998 237.578 Q210.449 237.578 213.157 232.265 Q215.9 226.918 215.9 216.259 Q215.9 205.564 213.157 200.252 Q210.449 194.904 204.998 194.904 M204.998 189.349 Q213.713 189.349 218.296 196.259 Q222.914 203.134 222.914 216.259 Q222.914 229.349 218.296 236.258 Q213.713 243.133 204.998 243.133 Q196.282 243.133 191.664 236.258 Q187.081 229.349 187.081 216.259 Q187.081 203.134 191.664 196.259 Q196.282 189.349 204.998 189.349 Z\" fill=\"#000000\" fill-rule=\"nonzero\" fill-opacity=\"1\" /><path clip-path=\"url(#clip440)\" d=\"M235.24 233.307 L242.567 233.307 L242.567 242.126 L235.24 242.126 L235.24 233.307 Z\" fill=\"#000000\" fill-rule=\"nonzero\" fill-opacity=\"1\" /><path clip-path=\"url(#clip440)\" d=\"M272.844 194.904 Q267.428 194.904 264.685 200.252 Q261.976 205.564 261.976 216.259 Q261.976 226.918 264.685 232.265 Q267.428 237.578 272.844 237.578 Q278.296 237.578 281.004 232.265 Q283.747 226.918 283.747 216.259 Q283.747 205.564 281.004 200.252 Q278.296 194.904 272.844 194.904 M272.844 189.349 Q281.56 189.349 286.143 196.259 Q290.761 203.134 290.761 216.259 Q290.761 229.349 286.143 236.258 Q281.56 243.133 272.844 243.133 Q264.129 243.133 259.511 236.258 Q254.928 229.349 254.928 216.259 Q254.928 203.134 259.511 196.259 Q264.129 189.349 272.844 189.349 Z\" fill=\"#000000\" fill-rule=\"nonzero\" fill-opacity=\"1\" /><path clip-path=\"url(#clip440)\" d=\"M309.129 236.224 L333.608 236.224 L333.608 242.126 L300.691 242.126 L300.691 236.224 Q304.684 232.092 311.559 225.147 Q318.469 218.168 320.24 216.154 Q323.608 212.37 324.927 209.766 Q326.282 207.127 326.282 204.592 Q326.282 200.46 323.365 197.856 Q320.483 195.252 315.83 195.252 Q312.532 195.252 308.851 196.398 Q305.205 197.543 301.039 199.87 L301.039 192.786 Q305.275 191.085 308.955 190.217 Q312.636 189.349 315.691 189.349 Q323.747 189.349 328.539 193.377 Q333.33 197.404 333.33 204.141 Q333.33 207.335 332.115 210.217 Q330.934 213.064 327.775 216.953 Q326.907 217.96 322.254 222.786 Q317.601 227.578 309.129 236.224 Z\" fill=\"#000000\" fill-rule=\"nonzero\" fill-opacity=\"1\" /><path clip-path=\"url(#clip440)\" d=\"M27.902 874.844 Q28.6807 874.844 29.0497 875.172 Q29.3776 875.459 29.4595 875.91 Q29.5005 876.36 29.5005 877.549 Q29.5005 879.558 29.6645 880.828 Q29.7875 882.099 29.9924 882.878 Q30.1564 883.657 30.7302 884.107 Q31.2631 884.517 31.7549 884.722 Q32.2468 884.886 33.3535 885.173 L78.0728 896.404 Q79.3845 896.773 80.0403 896.773 Q80.7371 896.773 81.0241 896.363 Q81.311 895.953 81.4339 894.642 Q81.6389 892.551 81.6389 891.035 Q81.6389 889.026 81.9258 888.739 Q82.2127 888.534 82.6226 888.534 Q83.3604 888.534 83.7703 888.862 Q84.1392 889.19 84.1802 889.477 Q84.2212 889.723 84.2212 890.215 L83.9753 901.446 L84.2212 912.472 Q84.2212 913.702 83.2785 913.702 Q82.6636 913.702 82.3357 913.62 Q81.9668 913.497 81.8438 913.087 Q81.6799 912.636 81.6799 912.308 Q81.6389 911.98 81.6389 911.037 Q81.6389 909.357 81.5979 908.25 Q81.5159 907.102 81.311 906.283 Q81.065 905.422 80.8601 905.012 Q80.6142 904.561 80.0813 904.233 Q79.5075 903.864 79.0566 903.741 Q78.6057 903.577 77.6629 903.372 L32.4108 892.059 Q31.673 891.895 31.0991 891.895 Q29.9924 891.895 29.7465 893.207 Q29.5005 894.478 29.5005 897.675 Q29.5005 898.659 29.4595 899.069 Q29.4186 899.437 29.2136 899.765 Q29.0087 900.052 28.5578 900.052 Q27.9839 900.052 27.615 899.888 Q27.2051 899.724 27.0822 899.437 Q26.9592 899.11 26.9182 898.905 Q26.8772 898.7 26.8772 898.372 L27.1232 887.182 L26.8772 876.115 Q26.8772 874.844 27.902 874.844 Z\" fill=\"#000000\" fill-rule=\"nonzero\" fill-opacity=\"1\" /><path clip-path=\"url(#clip440)\" d=\"M26.8772 828.424 L75.4085 840.516 Q77.581 841.008 79.4255 841.008 Q83.2785 841.008 83.2785 838.508 Q83.2785 837.278 82.4997 836.294 Q81.7209 835.31 80.0813 834.532 Q78.4417 833.753 76.9251 833.261 Q75.3675 832.769 72.9082 832.113 Q71.9244 831.908 71.6785 831.744 Q71.3916 831.539 71.3916 830.965 Q71.3916 829.941 72.2114 829.941 Q77.499 831.047 80.5322 832.482 Q85.164 834.777 85.164 838.671 Q85.164 841.623 83.3604 843.713 Q81.5569 845.804 78.8516 846.295 Q85.164 851.665 85.164 857.24 Q85.164 862.158 81.4339 865.274 Q77.6629 868.389 71.7195 868.389 Q65.7351 868.389 59.9966 865.437 Q54.2581 862.445 50.692 857.731 Q47.1259 853.018 47.1259 848.181 Q47.1259 843.057 52.4955 840.434 L32.5747 835.392 L30.9352 835.146 Q30.4433 835.146 30.1974 835.351 Q29.9104 835.515 29.7055 836.499 Q29.5005 837.442 29.5005 839.327 Q29.5005 840.106 29.4595 840.475 Q29.4186 840.803 29.2136 841.09 Q28.9677 841.377 28.4758 841.377 Q27.0412 841.377 26.8772 840.188 Q25.9755 832.318 25.9755 829.531 Q25.9755 829.039 26.2214 828.752 Q26.4263 828.465 26.6723 828.465 L26.8772 828.424 M56.3485 841.459 Q55.9796 841.459 54.9549 841.746 Q53.9301 842.033 52.4955 842.688 Q51.0609 843.344 50.0362 844.779 Q48.9704 846.172 48.9704 848.058 Q48.9704 850.599 51.1429 853.264 Q53.3153 855.887 57.0043 857.813 Q59.9556 859.289 66.1449 860.888 Q72.3343 862.445 75.4085 862.445 Q77.294 862.445 78.9746 862.035 Q80.6142 861.584 81.9668 860.314 Q83.2785 859.043 83.2785 857.076 Q83.2785 852.28 77.335 847.566 Q76.3103 846.664 75.9004 846.459 Q75.4495 846.213 74.2198 845.886 L57.7831 841.705 Q56.5535 841.459 56.3485 841.459 Z\" fill=\"#000000\" fill-rule=\"nonzero\" fill-opacity=\"1\" /><path clip-path=\"url(#clip440)\" d=\"M74.5068 792.928 Q74.8757 792.6 75.2446 792.6 Q75.6135 792.6 76.6792 793.42 Q77.7449 794.199 79.1795 795.879 Q80.6142 797.56 81.9668 799.732 Q83.3195 801.905 84.2212 805.102 Q85.164 808.299 85.164 811.66 Q85.164 817.685 80.8601 821.292 Q76.5562 824.859 69.957 824.859 Q65.7351 824.859 62.005 823.465 Q58.234 822.071 55.5697 819.817 Q52.9054 817.521 50.9789 814.652 Q49.0114 811.742 48.0687 808.709 Q47.1259 805.676 47.1259 802.847 Q47.1259 798.707 49.2164 796.289 Q51.3068 793.871 54.2581 793.871 Q54.9549 793.871 55.8157 794.076 Q56.6764 794.24 58.0291 794.813 Q59.3817 795.346 60.7344 796.74 Q62.046 798.134 62.9068 800.183 Q64.8333 804.733 64.8333 813.013 L64.8333 817.48 Q70.1209 818.792 73.564 818.792 Q74.9167 818.792 76.3103 818.546 Q77.6629 818.3 79.3845 817.644 Q81.106 816.948 82.2127 815.39 Q83.2785 813.791 83.2785 811.496 Q83.2785 810.758 83.2375 809.979 Q83.1965 809.16 82.7456 807.11 Q82.2947 805.02 81.5159 803.175 Q80.7371 801.331 79.0566 798.994 Q77.335 796.617 74.9986 794.731 Q74.1379 794.076 74.1379 793.625 Q74.1379 793.256 74.5068 792.928 M54.2581 796.658 Q52.0036 796.658 50.487 798.338 Q48.9704 799.978 48.9704 802.847 Q48.9704 803.749 49.1754 804.856 Q49.3803 805.962 50.2411 807.807 Q51.1019 809.611 52.5365 811.209 Q53.9301 812.808 56.6764 814.406 Q59.3817 816.005 62.9888 816.948 L62.9888 813.505 Q62.9888 812.316 62.9888 811.455 Q62.9478 810.594 62.7838 808.709 Q62.6199 806.782 62.3329 805.389 Q62.005 803.995 61.3492 802.232 Q60.6934 800.47 59.8326 799.363 Q58.9308 798.216 57.4962 797.437 Q56.0616 796.658 54.2581 796.658 Z\" fill=\"#000000\" fill-rule=\"nonzero\" fill-opacity=\"1\" /><path clip-path=\"url(#clip440)\" d=\"M72.2114 748.018 Q77.499 749.125 80.5322 750.559 Q85.164 752.855 85.164 756.749 Q85.164 759.7 83.3604 761.79 Q81.5569 763.881 78.8516 764.373 Q85.164 769.742 85.164 775.317 Q85.164 780.236 81.4339 783.351 Q77.6629 786.466 71.7195 786.466 Q65.7351 786.466 59.9966 783.515 Q54.2581 780.522 50.692 775.809 Q47.1259 771.095 47.1259 766.258 Q47.1259 761.135 52.4955 758.511 Q51.0199 758.306 49.9132 757.364 Q48.8065 756.421 48.8065 754.986 Q48.8065 753.879 49.4213 753.224 Q49.9952 752.568 51.0609 752.568 Q51.5938 752.568 53.9301 753.142 L65.6531 756.175 L73.2361 758.019 Q76.0234 758.716 77.0481 758.921 Q78.0728 759.085 79.4255 759.085 Q83.2785 759.085 83.2785 756.585 Q83.2785 755.355 82.4997 754.371 Q81.7209 753.388 80.0813 752.609 Q78.4417 751.83 76.9251 751.338 Q75.3675 750.846 72.9082 750.19 Q71.9244 749.985 71.6785 749.822 Q71.3916 749.617 71.3916 749.043 Q71.3916 748.018 72.2114 748.018 M56.3485 759.536 Q55.9796 759.536 54.9549 759.823 Q53.9301 760.11 52.4955 760.766 Q51.0609 761.421 50.0362 762.856 Q48.9704 764.25 48.9704 766.135 Q48.9704 768.677 51.1429 771.341 Q53.3153 773.964 57.0043 775.891 Q59.9556 777.366 66.1449 778.965 Q72.3343 780.522 75.4085 780.522 Q77.294 780.522 78.9746 780.113 Q80.6142 779.662 81.9668 778.391 Q83.2785 777.12 83.2785 775.153 Q83.2785 770.357 77.335 765.643 Q76.3103 764.742 75.9004 764.537 Q75.4495 764.291 74.2198 763.963 L57.7831 759.782 Q56.5535 759.536 56.3485 759.536 Z\" fill=\"#000000\" fill-rule=\"nonzero\" fill-opacity=\"1\" /><path clip-path=\"url(#clip440)\" d=\"M26.8772 724.883 L75.4085 736.975 Q77.335 737.467 79.4255 737.467 Q83.2785 737.467 83.2785 734.926 Q83.2785 733.737 82.4997 732.753 Q81.6799 731.769 80.0813 731.032 Q78.4417 730.253 76.8841 729.761 Q75.3265 729.228 72.9082 728.572 Q71.9654 728.367 71.6785 728.162 Q71.3916 727.957 71.3916 727.384 Q71.3916 726.359 72.2114 726.359 Q77.253 727.384 80.4502 728.9 Q85.164 731.114 85.164 735.212 Q85.164 738.287 83.0325 740.582 Q80.8601 742.836 77.417 742.836 Q76.1053 742.836 74.5478 742.427 L32.5747 731.851 L30.9352 731.564 Q30.4843 731.564 30.2383 731.728 Q29.9924 731.892 29.7465 732.876 Q29.5005 733.819 29.5005 735.704 Q29.5005 736.483 29.4595 736.852 Q29.4186 737.18 29.2136 737.508 Q29.0087 737.795 28.5578 737.795 Q27.82 737.795 27.4101 737.508 Q27.0002 737.18 26.9182 736.934 Q26.8362 736.688 26.7952 736.196 Q26.7543 735.499 26.5493 733.163 Q26.3034 730.827 26.1394 728.818 Q25.9755 726.81 25.9755 725.949 Q25.9755 725.457 26.2214 725.211 Q26.4263 724.924 26.6723 724.883 L26.8772 724.883 Z\" fill=\"#000000\" fill-rule=\"nonzero\" fill-opacity=\"1\" /><path clip-path=\"url(#clip440)\" d=\"M82.5407 661.155 Q83.3195 661.155 83.7293 661.483 Q84.0983 661.77 84.1802 662.057 Q84.2212 662.303 84.2212 662.672 Q84.2212 663.737 84.0983 667.426 Q83.9753 671.115 83.9753 672.181 Q83.9753 673.903 84.0983 677.428 Q84.2212 680.953 84.2212 682.674 Q84.2212 683.822 83.2785 683.822 Q82.6636 683.822 82.3357 683.699 Q81.9668 683.576 81.8438 683.248 Q81.6799 682.879 81.6799 682.674 Q81.6389 682.428 81.6389 681.814 Q81.6389 680.994 81.5569 680.133 Q81.4339 679.272 81.188 678.207 Q80.9421 677.141 80.3272 676.485 Q79.7124 675.788 78.8516 675.788 Q78.4827 675.788 75.4495 676.075 Q72.4163 676.362 68.8912 676.731 Q65.3252 677.1 64.8333 677.141 L64.8333 698.209 Q68.1534 700.136 70.4488 701.488 Q72.7442 702.841 73.523 703.333 Q74.3018 703.825 74.7937 704.112 Q75.2856 704.399 75.5725 704.563 Q77.7449 705.751 78.6877 705.751 Q81.311 705.751 81.6389 701.816 Q81.6389 700.464 82.6226 700.464 Q83.3604 700.464 83.7703 700.792 Q84.1392 701.12 84.1802 701.406 Q84.2212 701.652 84.2212 702.062 Q84.2212 703.415 84.0983 706.243 Q83.9753 709.071 83.9753 710.465 Q83.9753 711.654 84.0983 714.113 Q84.2212 716.572 84.2212 717.679 Q84.2212 718.171 83.9343 718.458 Q83.6474 718.745 83.2785 718.745 Q82.7046 718.745 82.3767 718.663 Q82.0488 718.54 81.8848 718.212 Q81.7209 717.884 81.7209 717.72 Q81.6799 717.556 81.6389 716.982 Q81.4339 713.867 79.9583 711.449 Q78.4417 708.989 74.5478 706.653 L25.5246 677.469 Q25.0327 677.182 24.7868 676.977 Q24.5408 676.772 24.3359 676.362 Q24.1309 675.911 24.1309 675.255 Q24.1309 674.231 24.4589 674.026 Q24.7458 673.821 26.1394 673.698 L78.6057 668.574 Q79.7124 668.451 80.1633 668.369 Q80.5732 668.246 81.0241 667.713 Q81.4339 667.139 81.5569 666.115 Q81.6389 665.049 81.6389 663.081 Q81.6389 662.344 81.6799 662.057 Q81.6799 661.77 81.8848 661.483 Q82.0898 661.155 82.5407 661.155 M62.21 677.387 L34.5422 680.051 L62.21 696.611 L62.21 677.387 Z\" fill=\"#000000\" fill-rule=\"nonzero\" fill-opacity=\"1\" /><path clip-path=\"url(#clip440)\" d=\"M39.5429 596.127 Q44.1337 596.127 48.3556 599.529 Q52.5775 602.89 55.1598 608.383 Q57.7012 613.834 57.7012 619.696 L57.7012 633.96 L78.6877 639.166 Q78.8106 639.207 79.3435 639.33 Q79.8354 639.453 80.1223 639.453 Q81.147 639.453 81.393 638.182 Q81.6389 636.87 81.6389 633.96 Q81.6389 632.075 81.9668 631.788 Q82.1718 631.624 82.5407 631.624 Q83.1145 631.624 83.5244 631.788 Q83.8933 631.952 84.0163 632.28 Q84.1392 632.567 84.1802 632.772 Q84.2212 632.976 84.2212 633.304 Q84.2212 634.165 84.1392 636.01 Q84.0573 637.813 84.0573 638.756 L83.9753 644.126 L84.2212 654.783 Q84.2212 656.053 83.1965 656.053 Q82.4177 656.053 82.0898 655.726 Q81.7209 655.398 81.6799 655.029 Q81.6389 654.66 81.6389 653.717 Q81.6389 651.668 81.5159 650.438 Q81.393 649.208 81.229 648.429 Q81.0241 647.61 80.4502 647.2 Q79.8764 646.749 79.3845 646.544 Q78.8516 646.339 77.6629 646.052 L32.5747 634.821 Q31.2221 634.493 31.0171 634.493 Q30.3203 634.493 30.0744 634.903 Q29.7875 635.272 29.6645 636.338 Q29.5005 638.387 29.5005 639.945 Q29.5005 640.969 29.4595 641.379 Q29.4186 641.748 29.2136 642.076 Q28.9677 642.363 28.4758 642.363 Q27.697 642.363 27.3691 642.035 Q27.0002 641.666 26.9592 641.256 Q26.8772 640.846 26.8772 639.863 L26.8772 612.646 Q26.8772 604.817 30.6072 600.472 Q34.3373 596.127 39.5429 596.127 M37.5344 603.915 Q29.5005 603.915 29.5005 615.351 L29.5005 623.385 Q29.5005 626.049 29.9924 626.705 Q30.4433 627.361 32.6977 627.935 L55.5287 633.632 L55.5287 621.786 Q55.5287 613.834 51.0609 608.875 Q49.0114 606.62 44.7485 605.268 Q40.4857 603.915 37.5344 603.915 Z\" fill=\"#000000\" fill-rule=\"nonzero\" fill-opacity=\"1\" /><path clip-path=\"url(#clip440)\" d=\"M1268.11 12.096 L1276.3 12.096 L1276.3 72.576 L1268.11 72.576 L1268.11 12.096 Z\" fill=\"#000000\" fill-rule=\"nonzero\" fill-opacity=\"1\" /><path clip-path=\"url(#clip440)\" d=\"M1322.11 34.0924 L1322.11 9.54393 L1329.56 9.54393 L1329.56 72.576 L1322.11 72.576 L1322.11 65.7705 Q1319.76 69.8214 1316.16 71.8063 Q1312.59 73.7508 1307.57 73.7508 Q1299.34 73.7508 1294.16 67.1883 Q1289.02 60.6258 1289.02 49.9314 Q1289.02 39.2371 1294.16 32.6746 Q1299.34 26.1121 1307.57 26.1121 Q1312.59 26.1121 1316.16 28.0971 Q1319.76 30.0415 1322.11 34.0924 M1296.71 49.9314 Q1296.71 58.1548 1300.07 62.8538 Q1303.48 67.5124 1309.39 67.5124 Q1315.31 67.5124 1318.71 62.8538 Q1322.11 58.1548 1322.11 49.9314 Q1322.11 41.7081 1318.71 37.0496 Q1315.31 32.3505 1309.39 32.3505 Q1303.48 32.3505 1300.07 37.0496 Q1296.71 41.7081 1296.71 49.9314 Z\" fill=\"#000000\" fill-rule=\"nonzero\" fill-opacity=\"1\" /><path clip-path=\"url(#clip440)\" d=\"M1383.73 48.0275 L1383.73 51.6733 L1349.45 51.6733 Q1349.94 59.3701 1354.07 63.421 Q1358.25 67.4314 1365.66 67.4314 Q1369.95 67.4314 1373.96 66.3781 Q1378.01 65.3249 1381.98 63.2184 L1381.98 70.267 Q1377.97 71.9684 1373.76 72.8596 Q1369.55 73.7508 1365.21 73.7508 Q1354.36 73.7508 1348 67.4314 Q1341.68 61.1119 1341.68 50.3365 Q1341.68 39.1965 1347.67 32.6746 Q1353.71 26.1121 1363.92 26.1121 Q1373.07 26.1121 1378.38 32.0264 Q1383.73 37.9003 1383.73 48.0275 M1376.27 45.84 Q1376.19 39.7232 1372.83 36.0774 Q1369.51 32.4315 1364 32.4315 Q1357.76 32.4315 1353.99 35.9558 Q1350.26 39.4801 1349.7 45.8805 L1376.27 45.84 Z\" fill=\"#000000\" fill-rule=\"nonzero\" fill-opacity=\"1\" /><path clip-path=\"url(#clip440)\" d=\"M1416.58 49.7694 Q1407.54 49.7694 1404.06 51.8354 Q1400.58 53.9013 1400.58 58.8839 Q1400.58 62.8538 1403.17 65.2034 Q1405.8 67.5124 1410.3 67.5124 Q1416.5 67.5124 1420.22 63.1374 Q1423.99 58.7219 1423.99 51.4303 L1423.99 49.7694 L1416.58 49.7694 M1431.44 46.6907 L1431.44 72.576 L1423.99 72.576 L1423.99 65.6895 Q1421.44 69.8214 1417.63 71.8063 Q1413.82 73.7508 1408.31 73.7508 Q1401.35 73.7508 1397.21 69.8619 Q1393.12 65.9325 1393.12 59.3701 Q1393.12 51.7138 1398.23 47.825 Q1403.37 43.9361 1413.54 43.9361 L1423.99 43.9361 L1423.99 43.2069 Q1423.99 38.0623 1420.59 35.2672 Q1417.23 32.4315 1411.11 32.4315 Q1407.22 32.4315 1403.53 33.3632 Q1399.85 34.295 1396.45 36.1584 L1396.45 29.2718 Q1400.54 27.692 1404.38 26.9223 Q1408.23 26.1121 1411.88 26.1121 Q1421.72 26.1121 1426.58 31.2163 Q1431.44 36.3204 1431.44 46.6907 Z\" fill=\"#000000\" fill-rule=\"nonzero\" fill-opacity=\"1\" /><path clip-path=\"url(#clip440)\" d=\"M1446.8 9.54393 L1454.25 9.54393 L1454.25 72.576 L1446.8 72.576 L1446.8 9.54393 Z\" fill=\"#000000\" fill-rule=\"nonzero\" fill-opacity=\"1\" /><polyline clip-path=\"url(#clip442)\" style=\"stroke:#000000; stroke-linecap:round; stroke-linejoin:round; stroke-width:4; stroke-opacity:1; fill:none\" points=\"425.735,267.68 425.735,159.4 \"/>\n",
       "<polyline clip-path=\"url(#clip442)\" style=\"stroke:#000000; stroke-linecap:round; stroke-linejoin:round; stroke-width:4; stroke-opacity:1; fill:none\" points=\"453.14,1140.45 453.14,1357.01 \"/>\n",
       "<polyline clip-path=\"url(#clip442)\" style=\"stroke:#000000; stroke-linecap:round; stroke-linejoin:round; stroke-width:4; stroke-opacity:1; fill:none\" points=\"2296.63,558.604 2296.63,558.604 \"/>\n",
       "<line clip-path=\"url(#clip442)\" x1=\"441.735\" y1=\"267.68\" x2=\"409.735\" y2=\"267.68\" style=\"stroke:#000000; stroke-width:4; stroke-opacity:1\"/>\n",
       "<line clip-path=\"url(#clip442)\" x1=\"441.735\" y1=\"159.4\" x2=\"409.735\" y2=\"159.4\" style=\"stroke:#000000; stroke-width:4; stroke-opacity:1\"/>\n",
       "<line clip-path=\"url(#clip442)\" x1=\"469.14\" y1=\"1140.45\" x2=\"437.14\" y2=\"1140.45\" style=\"stroke:#000000; stroke-width:4; stroke-opacity:1\"/>\n",
       "<line clip-path=\"url(#clip442)\" x1=\"469.14\" y1=\"1357.01\" x2=\"437.14\" y2=\"1357.01\" style=\"stroke:#000000; stroke-width:4; stroke-opacity:1\"/>\n",
       "<line clip-path=\"url(#clip442)\" x1=\"2312.63\" y1=\"558.604\" x2=\"2280.63\" y2=\"558.604\" style=\"stroke:#000000; stroke-width:4; stroke-opacity:1\"/>\n",
       "<line clip-path=\"url(#clip442)\" x1=\"2312.63\" y1=\"558.604\" x2=\"2280.63\" y2=\"558.604\" style=\"stroke:#000000; stroke-width:4; stroke-opacity:1\"/>\n",
       "<circle clip-path=\"url(#clip442)\" cx=\"425.735\" cy=\"213.54\" r=\"14.4\" fill=\"#000000\" fill-rule=\"evenodd\" fill-opacity=\"1\" stroke=\"none\"/>\n",
       "<circle clip-path=\"url(#clip442)\" cx=\"453.14\" cy=\"1248.73\" r=\"14.4\" fill=\"#000000\" fill-rule=\"evenodd\" fill-opacity=\"1\" stroke=\"none\"/>\n",
       "<circle clip-path=\"url(#clip442)\" cx=\"2296.63\" cy=\"558.604\" r=\"14.4\" fill=\"#000000\" fill-rule=\"evenodd\" fill-opacity=\"1\" stroke=\"none\"/>\n",
       "<polyline clip-path=\"url(#clip442)\" style=\"stroke:#000080; stroke-linecap:round; stroke-linejoin:round; stroke-width:4; stroke-opacity:1; fill:none\" points=\"-1613.54,558.604 4335.9,558.604 \"/>\n",
       "<path clip-path=\"url(#clip440)\" d=\"M2035.91 321.308 L2286.65 321.308 L2286.65 165.788 L2035.91 165.788  Z\" fill=\"#ffffff\" fill-rule=\"evenodd\" fill-opacity=\"1\"/>\n",
       "<polyline clip-path=\"url(#clip440)\" style=\"stroke:#000000; stroke-linecap:round; stroke-linejoin:round; stroke-width:4; stroke-opacity:1; fill:none\" points=\"2035.91,321.308 2286.65,321.308 2286.65,165.788 2035.91,165.788 2035.91,321.308 \"/>\n",
       "<circle clip-path=\"url(#clip440)\" cx=\"2124.05\" cy=\"217.628\" r=\"20.48\" fill=\"#000000\" fill-rule=\"evenodd\" fill-opacity=\"1\" stroke=\"none\"/>\n",
       "<path clip-path=\"url(#clip440)\" d=\"M2226.03 237.315 Q2224.22 241.945 2222.51 243.357 Q2220.8 244.769 2217.93 244.769 L2214.52 244.769 L2214.52 241.204 L2217.02 241.204 Q2218.78 241.204 2219.76 240.371 Q2220.73 239.537 2221.91 236.435 L2222.67 234.491 L2212.19 208.982 L2216.7 208.982 L2224.8 229.26 L2232.9 208.982 L2237.42 208.982 L2226.03 237.315 Z\" fill=\"#000000\" fill-rule=\"nonzero\" fill-opacity=\"1\" /><path clip-path=\"url(#clip440)\" d=\"M2244.71 230.973 L2252.35 230.973 L2252.35 204.607 L2244.04 206.274 L2244.04 202.014 L2252.3 200.348 L2256.98 200.348 L2256.98 230.973 L2264.62 230.973 L2264.62 234.908 L2244.71 234.908 L2244.71 230.973 Z\" fill=\"#000000\" fill-rule=\"nonzero\" fill-opacity=\"1\" /><polyline clip-path=\"url(#clip440)\" style=\"stroke:#000080; stroke-linecap:round; stroke-linejoin:round; stroke-width:4; stroke-opacity:1; fill:none\" points=\"2057.94,269.468 2190.15,269.468 \"/>\n",
       "<path clip-path=\"url(#clip440)\" d=\"M2226.03 289.155 Q2224.22 293.785 2222.51 295.197 Q2220.8 296.609 2217.93 296.609 L2214.52 296.609 L2214.52 293.044 L2217.02 293.044 Q2218.78 293.044 2219.76 292.211 Q2220.73 291.377 2221.91 288.275 L2222.67 286.331 L2212.19 260.822 L2216.7 260.822 L2224.8 281.1 L2232.9 260.822 L2237.42 260.822 L2226.03 289.155 Z\" fill=\"#000000\" fill-rule=\"nonzero\" fill-opacity=\"1\" /><path clip-path=\"url(#clip440)\" d=\"M2247.93 282.813 L2264.25 282.813 L2264.25 286.748 L2242.3 286.748 L2242.3 282.813 Q2244.96 280.058 2249.55 275.428 Q2254.15 270.776 2255.33 269.433 Q2257.58 266.91 2258.46 265.174 Q2259.36 263.415 2259.36 261.725 Q2259.36 258.97 2257.42 257.234 Q2255.5 255.498 2252.39 255.498 Q2250.19 255.498 2247.74 256.262 Q2245.31 257.026 2242.53 258.577 L2242.53 253.854 Q2245.36 252.72 2247.81 252.141 Q2250.26 251.563 2252.3 251.563 Q2257.67 251.563 2260.87 254.248 Q2264.06 256.933 2264.06 261.424 Q2264.06 263.553 2263.25 265.475 Q2262.46 267.373 2260.36 269.965 Q2259.78 270.637 2256.68 273.854 Q2253.57 277.049 2247.93 282.813 Z\" fill=\"#000000\" fill-rule=\"nonzero\" fill-opacity=\"1\" /></svg>\n"
      ]
     },
     "metadata": {},
     "output_type": "display_data"
    }
   ],
   "source": [
    "beta = [AP_565, AP_586, 0]\n",
    "err_beta = [error_565, error_586, 0]\n",
    "\n",
    "q = scatter(kliterature, beta, yerr=err_beta,\n",
    "    xlabel = \"Eᵧ (keV)\",\n",
    "    ylabel = L\"Ideal AP\",\n",
    "    title = \"Ideal\"\n",
    ")\n",
    "hline!([0])"
   ]
  },
  {
   "cell_type": "markdown",
   "id": "1d0324ae",
   "metadata": {},
   "source": [
    "# AP Reverse"
   ]
  },
  {
   "cell_type": "markdown",
   "id": "6760e4e1",
   "metadata": {},
   "source": [
    "Assuming AP nees to equal -0.1, solving for the necessary polarization in different states\n",
    "\n",
    "$$ AP = \\frac{\\sqrt{R} -1}{\\sqrt{R} +1} $$\n",
    "\n",
    "$$R = \\frac{(1+ A*P)/(1-A*P)}{(1-A*P)/(1+A*P)}$$\n",
    "P = absolute value of P (will have opposite signs top and bottom, this equation accounts fro that)\n",
    "\n",
    "\n",
    "First solving for R\n",
    "\n",
    "<img src=\"../images/R_val.png\" alt=\"Drawing\" style=\"width: 300px;\"/>\n",
    "\n",
    "\n",
    "Then solving for P (Top equation is the only valid one)\n",
    "\n",
    "<img src=\"../images/P_val.png\" alt=\"Drawing\" style=\"width: 300px;\"/>"
   ]
  },
  {
   "cell_type": "code",
   "execution_count": 50,
   "id": "90e89711",
   "metadata": {},
   "outputs": [
    {
     "data": {
      "text/plain": [
       "P_val_plus (generic function with 1 method)"
      ]
     },
     "metadata": {},
     "output_type": "display_data"
    }
   ],
   "source": [
    "AP = -0.1\n",
    "R_m(AP) = ((AP .+ 1) .^ 2) ./ ((AP .- 1) .^ 2)\n",
    "\n",
    "R = R_m(AP)\n",
    "# Value that R has to be for ALL spins\n",
    "\n",
    "P_val_plus(A, R) = (((R).^0.5) .- 1) ./ (A .* (((R).^0.5) .+ 1))\n",
    "\n",
    "# This is the other solution to the equation above, but always gives impossible answers\n",
    "# P_val_minus(A, R) = (((R).^0.5) .+ 1) ./ (A .* (((R).^0.5) .- 1))"
   ]
  },
  {
   "cell_type": "markdown",
   "id": "213cdcef",
   "metadata": {},
   "source": [
    "## 49K"
   ]
  },
  {
   "cell_type": "markdown",
   "id": "73c292b3",
   "metadata": {},
   "source": [
    "### A = +1/3\n",
    "\n",
    "here solving R for whatever P using whatever spin"
   ]
  },
  {
   "cell_type": "code",
   "execution_count": 51,
   "id": "22dfc696",
   "metadata": {},
   "outputs": [
    {
     "name": "stdout",
     "output_type": "stream",
     "text": [
      "-0.29999999999999993\n"
     ]
    }
   ],
   "source": [
    "A = +1/3\n",
    "\n",
    "P_plus = P_val_plus(A, R)\n",
    "println(P_plus)\n",
    "#P_minus = P_val_minus(A, R)"
   ]
  },
  {
   "cell_type": "markdown",
   "id": "3d560cc5",
   "metadata": {},
   "source": [
    "### A = -2/3"
   ]
  },
  {
   "cell_type": "code",
   "execution_count": 52,
   "id": "10e539e8",
   "metadata": {},
   "outputs": [
    {
     "name": "stdout",
     "output_type": "stream",
     "text": [
      "0.14999999999999997\n"
     ]
    }
   ],
   "source": [
    "A = -2/3\n",
    "\n",
    "P_plus = P_val_plus(A, R)\n",
    "println(P_plus)\n",
    "# P_minus = P_val_minus(A, R)\n"
   ]
  },
  {
   "cell_type": "markdown",
   "id": "c7276c45",
   "metadata": {},
   "source": [
    "not exacly sure how/if this needs to be plotted. can be vs energy, spins, etc."
   ]
  },
  {
   "cell_type": "code",
   "execution_count": 53,
   "id": "f61af83c",
   "metadata": {},
   "outputs": [],
   "source": []
  },
  {
   "cell_type": "markdown",
   "id": "0ca4ff19",
   "metadata": {},
   "source": [
    "## 51K example"
   ]
  },
  {
   "cell_type": "code",
   "execution_count": 54,
   "id": "6665b6df",
   "metadata": {},
   "outputs": [
    {
     "name": "stdout",
     "output_type": "stream",
     "text": [
      "0.07500000000000007\n",
      "-0.03750000000000003\n"
     ]
    }
   ],
   "source": [
    "# For AP = 0.025\n",
    "AP = 0.025\n",
    "\n",
    "R = R_m(AP)\n",
    "\n",
    "\n",
    "A = 1/3\n",
    "P = P_val_plus(A, R) \n",
    "println(P)\n",
    "\n",
    "A = -2/3\n",
    "P = P_val_plus(A, R)\n",
    "println(P)"
   ]
  },
  {
   "cell_type": "code",
   "execution_count": 55,
   "id": "45caf67a",
   "metadata": {},
   "outputs": [
    {
     "name": "stdout",
     "output_type": "stream",
     "text": [
      "-0.15\n",
      "0.075\n"
     ]
    }
   ],
   "source": [
    "# for AP = -0.05\n",
    "\n",
    "AP = -0.05\n",
    "\n",
    "R = R_m(AP)\n",
    "\n",
    "\n",
    "A = 1/3\n",
    "P = P_val_plus(A, R) \n",
    "println(P)\n",
    "\n",
    "A = -2/3\n",
    "P = P_val_plus(A, R)\n",
    "println(P)"
   ]
  },
  {
   "cell_type": "markdown",
   "id": "4cb7cadd",
   "metadata": {},
   "source": []
  },
  {
   "cell_type": "markdown",
   "id": "114180f3",
   "metadata": {},
   "source": [
    "# Integral calcs"
   ]
  },
  {
   "cell_type": "markdown",
   "id": "9aecb9bf",
   "metadata": {},
   "source": [
    "detectors are located 2.7cm away from the source and are 5cm wide, creating a half angle of about 43 degrees with the source. This coordinates to $\\pm$ 0.07469 rads wherever we're focusing.\n",
    "\n",
    "$$\\int 1+AP\\sin(\\theta) d\\theta$$ \n",
    "this corresponds to the Plus values below\n",
    "\n",
    "$$\\int 1 - AP\\cos(\\theta) d\\theta$$\n",
    "this corresponds to the Minus values below\n",
    "\n",
    "For the case of the full detector. The integrals are solved and evaluated around $0\\pm 43\\degree$ (front) and around $180\\pm 43\\degree$ as so:\n",
    "\n",
    "Plus: $$ front = \\theta - AP \\cos(\\theta) |^{0.7469}_{0.7469}$$ $$ back =\\theta - AP \\cos(\\theta) |^{3.8885}_{2.3946}$$\n",
    "\n",
    "Minus: $$ front=\\theta - AP \\sin(\\theta) |^{0.7469}_{0.7469}$$ $$ back = \\theta - AP \\sin(\\theta) |^{3.8885}_{2.3946}$$\n",
    "\n",
    "All values are converted into radians for calculations \n",
    "\n",
    "\n",
    "\n",
    "There is also the case of a 1mm hole being cut out of the center of the detector. This corresponds to a half angle of $1.06 \\degree$ that needs to be taken out of the equation. This was done by repeating to process above around $0 \\pm 1.06 \\degree $ and $ 180 \\pm 1.06 \\degree$ and subtracting this value to the corresponding full detector value.\n",
    "\n",
    "The final integral considering the holes were evaluated as so:\n",
    "\n",
    "\n",
    "Plus: $$ front = [\\theta - AP \\cos(\\theta) |^{0.7469}_{-0.7469}] - [\\theta - AP \\cos(\\theta) |^{0.0185}_{-0.0185}]$$ \n",
    "$$ back =[\\theta - AP \\cos(\\theta) |^{3.8885}_{2.3946}] - [\\theta - AP \\cos(\\theta) |^{3.1601}_{3.1231}]$$\n",
    "\n",
    "Minus: $$ front=[\\theta - AP \\sin(\\theta) |^{0.7469}_{-0.7469}] - [\\theta - AP \\sin(\\theta) |^{0.0185}_{-0.0185}]$$\n",
    "$$ back =[\\theta - AP \\sin(\\theta) |^{3.8885}_{2.3946}] - [\\theta - AP \\sin(\\theta) |^{3.1601}_{3.1231}]$$\n",
    "\n",
    "\n",
    "Then the following Ratio was calculated for the full detector and taking the hole into account\n",
    "\n",
    "$$ R = \\frac{Plus_{front}/Plus_{back}}{Minus_{front}/Minus_{back}}$$\n"
   ]
  },
  {
   "cell_type": "code",
   "execution_count": 88,
   "id": "ad2baec2",
   "metadata": {},
   "outputs": [
    {
     "data": {
      "text/plain": [
       "1.946835960896935"
      ]
     },
     "metadata": {},
     "output_type": "display_data"
    }
   ],
   "source": [
    "# Positive integral\n",
    "\n",
    "plus(theta1, theta2, A, P) = (theta2 .- (A .* P .* cos(theta2))) .- (theta1 - (A .* P .* cos(theta1)))\n",
    "front_p = plus(-0.7469, 0.7469, 1 ./ 3, 1)\n",
    "back_p = plus(2.3946, 3.8885, 1 ./ 3, 1)\n",
    "\n",
    "# Negative integral\n",
    "\n",
    "minus(theta1, theta2, A, P) = (theta2 .- (A .* P .* sin(theta2))) .- (theta1 - (A .* P .* sin(theta1)))\n",
    "front_m = minus(-0.7469, 0.7469, 1 ./ 3, 1)\n",
    "back_m = minus(2.3946, 3.8885, 1 ./ 3, 1)"
   ]
  },
  {
   "cell_type": "markdown",
   "id": "efc6f6f9",
   "metadata": {},
   "source": [
    "Different integral subtracting a 1mm hole from the detector"
   ]
  },
  {
   "cell_type": "code",
   "execution_count": 97,
   "id": "f6e105ae",
   "metadata": {},
   "outputs": [
    {
     "name": "stdout",
     "output_type": "stream",
     "text": [
      "Integral at 0 degrees = 1.4567999999999999\n"
     ]
    },
    {
     "data": {
      "text/plain": [
       "1.8975033310657845"
      ]
     },
     "metadata": {},
     "output_type": "display_data"
    }
   ],
   "source": [
    "# Smaller integral\n",
    "\n",
    "front_sp = front_p .- plus(-0.0185, 0.0185)\n",
    "back_sp = back_p .- plus(3.1231, 3.1601)\n",
    "println(\"Integral at 0 degrees = \", front_sp)\n",
    "\n",
    "front_sm = front_m .- minus(-0.0185, 0.0185)\n",
    "back_sm = back_m .- minus(3.1231, 3.1601)\n"
   ]
  },
  {
   "cell_type": "code",
   "execution_count": 90,
   "id": "3a5c32e7",
   "metadata": {},
   "outputs": [
    {
     "name": "stdout",
     "output_type": "stream",
     "text": [
      "1.8702103738317608\n",
      "1.8670619597572453\n"
     ]
    }
   ],
   "source": [
    "# Ratios\n",
    "\n",
    "Ratio = (front_p ./ back_p) ./ (front_m ./ back_m)\n",
    "println(Ratio)\n",
    "\n",
    "sRatio = (front_sp ./ back_sp) ./ (front_sm ./ back_sm)\n",
    "println(sRatio)"
   ]
  },
  {
   "cell_type": "markdown",
   "id": "d82282d9",
   "metadata": {},
   "source": [
    "Finding AP Factor from Paper\n",
    "\n",
    "$$AP = \\frac{\\sqrt{R} - 1}{\\sqrt{R} + 1}$$"
   ]
  },
  {
   "cell_type": "code",
   "execution_count": 98,
   "id": "d6e0e950",
   "metadata": {},
   "outputs": [
    {
     "name": "stdout",
     "output_type": "stream",
     "text": [
      "0.15524713954626465\n"
     ]
    },
    {
     "data": {
      "text/plain": [
       "0.15483604647761376"
      ]
     },
     "metadata": {},
     "output_type": "display_data"
    }
   ],
   "source": [
    "AP_val(R) = ((R .^ 0.5) .- 1) ./ ((R .^ 0.5) .+ 1)\n",
    "\n",
    "AP = AP_val(Ratio)\n",
    "println(AP)\n",
    "AP_s = AP_val(sRatio)"
   ]
  },
  {
   "cell_type": "code",
   "execution_count": null,
   "id": "f7095b8b",
   "metadata": {},
   "outputs": [],
   "source": []
  }
 ],
 "metadata": {
  "kernelspec": {
   "display_name": "Julia 1.11.5",
   "language": "julia",
   "name": "julia-1.11"
  },
  "language_info": {
   "file_extension": ".jl",
   "mimetype": "application/julia",
   "name": "julia",
   "version": "1.11.5"
  }
 },
 "nbformat": 4,
 "nbformat_minor": 5
}
