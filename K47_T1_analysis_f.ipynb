{
 "cells": [
  {
   "cell_type": "markdown",
   "id": "df9a7fec",
   "metadata": {
    "vscode": {
     "languageId": "julia"
    }
   },
   "source": [
    "# Housekeeping notes"
   ]
  },
  {
   "cell_type": "markdown",
   "id": "5558441e",
   "metadata": {},
   "source": [
    "- for this I'm just going to pull values from other notebooks"
   ]
  },
  {
   "cell_type": "markdown",
   "id": "7b322570",
   "metadata": {},
   "source": [
    "# Setup code"
   ]
  },
  {
   "cell_type": "code",
   "execution_count": 1,
   "id": "b391cb5b",
   "metadata": {},
   "outputs": [
    {
     "name": "stderr",
     "output_type": "stream",
     "text": [
      "┌ Warning: could not download https://pkg.julialang.org/registries\n",
      "│   exception = Downloads.RequestError(\"https://pkg.julialang.org/registries\", 35, \"The connection closed gracefully\", Downloads.Response(\"https\", \"https://pkg.julialang.org/registries\", 0, \"\", Pair{String, String}[]))\n",
      "└ @ Pkg.Registry /Users/josie/.julia/juliaup/julia-1.11.5+0.aarch64.apple.darwin14/share/julia/stdlib/v1.11/Pkg/src/Registry/Registry.jl:77\n",
      "\u001b[32m\u001b[1m    Updating\u001b[22m\u001b[39m registry at `~/.julia/registries/General.toml`\n",
      "\u001b[32m\u001b[1m   Resolving\u001b[22m\u001b[39m package versions...\n",
      "\u001b[32m\u001b[1m  No Changes\u001b[22m\u001b[39m to `~/Desktop/Research/Madurga/VITO-ENiGMA/Project.toml`\n",
      "\u001b[32m\u001b[1m  No Changes\u001b[22m\u001b[39m to `~/Desktop/Research/Madurga/VITO-ENiGMA/Manifest.toml`\n",
      "\u001b[32m\u001b[1m   Resolving\u001b[22m\u001b[39m package versions...\n",
      "\u001b[32m\u001b[1m  No Changes\u001b[22m\u001b[39m to `~/Desktop/Research/Madurga/VITO-ENiGMA/Project.toml`\n",
      "\u001b[32m\u001b[1m  No Changes\u001b[22m\u001b[39m to `~/Desktop/Research/Madurga/VITO-ENiGMA/Manifest.toml`\n",
      "\u001b[32m\u001b[1m   Resolving\u001b[22m\u001b[39m package versions...\n",
      "\u001b[32m\u001b[1m  No Changes\u001b[22m\u001b[39m to `~/Desktop/Research/Madurga/VITO-ENiGMA/Project.toml`\n",
      "\u001b[32m\u001b[1m  No Changes\u001b[22m\u001b[39m to `~/Desktop/Research/Madurga/VITO-ENiGMA/Manifest.toml`\n",
      "\u001b[32m\u001b[1m   Resolving\u001b[22m\u001b[39m package versions...\n",
      "\u001b[32m\u001b[1m  No Changes\u001b[22m\u001b[39m to `~/Desktop/Research/Madurga/VITO-ENiGMA/Project.toml`\n",
      "\u001b[32m\u001b[1m  No Changes\u001b[22m\u001b[39m to `~/Desktop/Research/Madurga/VITO-ENiGMA/Manifest.toml`\n",
      "\u001b[32m\u001b[1m   Resolving\u001b[22m\u001b[39m package versions...\n",
      "\u001b[32m\u001b[1m  No Changes\u001b[22m\u001b[39m to `~/Desktop/Research/Madurga/VITO-ENiGMA/Project.toml`\n",
      "\u001b[32m\u001b[1m  No Changes\u001b[22m\u001b[39m to `~/Desktop/Research/Madurga/VITO-ENiGMA/Manifest.toml`\n"
     ]
    }
   ],
   "source": [
    "# Import Packages\n",
    "import Pkg\n",
    "\n",
    "Pkg.add(\"Plots\")\n",
    "Pkg.add(\"LsqFit\")\n",
    "Pkg.add(\"DelimitedFiles\")\n",
    "Pkg.add(\"PlotlyJS\")  # optional if you later want interactive plots\n",
    "Pkg.add(\"LaTeXStrings\")"
   ]
  },
  {
   "cell_type": "markdown",
   "id": "c1a0ce7d",
   "metadata": {},
   "source": [
    "Style for plots"
   ]
  },
  {
   "cell_type": "code",
   "execution_count": 2,
   "id": "9113c57a",
   "metadata": {},
   "outputs": [],
   "source": [
    "using Plots,DelimitedFiles,LsqFit,LaTeXStrings\n",
    "\n",
    "include(\"src/PhotoPeakFit.jl\");\n",
    "\n",
    "default(framestyle=:box,\n",
    "        mc=:black,\n",
    "        grid=false,\n",
    "        guidefont=14,\n",
    "        tickfont=12,\n",
    "        lc=:navy,\n",
    "        xlabel=\"Eᵧ (internal)\",\n",
    "        ylabel=\"counts\")"
   ]
  },
  {
   "cell_type": "markdown",
   "id": "5a0436a2",
   "metadata": {},
   "source": [
    "May or may not need these, adding them for consistency"
   ]
  },
  {
   "cell_type": "code",
   "execution_count": 3,
   "id": "07e74414",
   "metadata": {},
   "outputs": [
    {
     "data": {
      "text/plain": [
       "3-element Vector{Float64}:\n",
       "  564.79\n",
       "  586.01\n",
       " 2013.45"
      ]
     },
     "metadata": {},
     "output_type": "display_data"
    }
   ],
   "source": [
    "kliterature = [564.79,\n",
    "               586.01,\n",
    "               2013.45]"
   ]
  },
  {
   "cell_type": "markdown",
   "id": "f4c45242",
   "metadata": {},
   "source": [
    "Efficiency Calibrations\n",
    "- may or may not need this either, inlcuding for consistency"
   ]
  },
  {
   "cell_type": "code",
   "execution_count": 4,
   "id": "9279bf58",
   "metadata": {},
   "outputs": [
    {
     "data": {
      "text/plain": [
       "([0.04994475356378319, 0.03881764706440051, 0.0074349631904078745], [0.059208192080767955, 0.0466367978146129, 0.009090355673327628], [0.048188710602606065, 0.03712260347339793, 0.007054630479249403])"
      ]
     },
     "metadata": {},
     "output_type": "display_data"
    }
   ],
   "source": [
    "# Fit function is of the form 50^(p[1]+p[2]*log10(e)+p[3]*log10(e)^2)\n",
    "io = open(\"calibrations/Eu152-efficiency-cal.csv\", \"r\")\n",
    "clover_eff_params = readdlm(io, ',', Float64, '\\n', comments=true, comment_char='#')\n",
    "close(io)\n",
    "\n",
    "c0_eff_fit, c1_eff_fit, c2_eff_fit = clover_eff_params[1,:],clover_eff_params[2,:],clover_eff_params[3,:]\n",
    "\n",
    "c0_eff_params,c1_eff_params,c2_eff_params = [c0_eff_fit[1],c0_eff_fit[3],c0_eff_fit[5]],\n",
    "                                            [c1_eff_fit[1],c1_eff_fit[3],c1_eff_fit[5]],\n",
    "                                            [c2_eff_fit[1],c2_eff_fit[3],c2_eff_fit[5]]\n",
    "\n",
    "c0_σeff,c1_σeff,c2_σeff = [c0_eff_fit[2],c0_eff_fit[4],c0_eff_fit[6]], \n",
    "                          [c1_eff_fit[2],c1_eff_fit[4],c1_eff_fit[6]],\n",
    "                          [c2_eff_fit[2],c2_eff_fit[4],c2_eff_fit[6]]"
   ]
  },
  {
   "cell_type": "markdown",
   "id": "594994a8",
   "metadata": {},
   "source": [
    "# Values from previous books"
   ]
  },
  {
   "cell_type": "markdown",
   "id": "f8cc0bc4",
   "metadata": {},
   "source": [
    "## K47_T1_001"
   ]
  },
  {
   "cell_type": "code",
   "execution_count": null,
   "id": "2cad5559",
   "metadata": {},
   "outputs": [
    {
     "data": {
      "text/plain": [
       "3-element Vector{Float64}:\n",
       " 1370.7139462257294\n",
       " 7199.422159068407\n",
       " 2232.2697899070095"
      ]
     },
     "metadata": {},
     "output_type": "display_data"
    }
   ],
   "source": [
    "N_0_plus = [551112.459447147, 3.2015988389246287e6, 1.415436367300364e6]\n",
    "N_0_σplus = [5093.306800184273, 29643.71840995894, 13254.733084601521]\n",
    "\n",
    "N_180_plus = [76156.0625946827, 435329.2792522732, 203994.8023015002]\n",
    "N_180_σplus = [1370.7139462257294, 7199.422159068407, 2232.2697899070095]"
   ]
  },
  {
   "cell_type": "markdown",
   "id": "472336ae",
   "metadata": {},
   "source": [
    "## K47_T1_002"
   ]
  },
  {
   "cell_type": "code",
   "execution_count": 6,
   "id": "fb214613",
   "metadata": {},
   "outputs": [
    {
     "data": {
      "text/plain": [
       "3-element Vector{Float64}:\n",
       "  3961.9639426417566\n",
       " 21960.829776956114\n",
       "  6969.598277971881"
      ]
     },
     "metadata": {},
     "output_type": "display_data"
    }
   ],
   "source": [
    "N_0_minus = [1.7292393731881208e6, 9.88212108370103e6, 4.398562361741757e6]\n",
    "N_0_σminus = [16050.629959403417, 93756.90047874278, 39184.186824577744]\n",
    "\n",
    "N_180_minus = [236566.33601433228, 1.3565204672148577e6, 634836.849390847]\n",
    "N_180_σminus = [3961.9639426417566, 21960.829776956114, 6969.598277971881]"
   ]
  },
  {
   "cell_type": "markdown",
   "id": "6db7233a",
   "metadata": {},
   "source": [
    "# IS733 analysis report"
   ]
  },
  {
   "cell_type": "code",
   "execution_count": 9,
   "id": "d4fdd4a6",
   "metadata": {},
   "outputs": [
    {
     "name": "stdout",
     "output_type": "stream",
     "text": [
      "[0.1368036951287927, 0.1372701726405903, 0.14432825936778632]\n"
     ]
    }
   ],
   "source": [
    "R_fun(N0p, N180p, N0m, N180m) = (N0p ./ N180p) ./ (N0m ./ N180m)\n",
    "\n",
    
    "err_r = () .^ (0.5)\n",
    "\n",
    "R = R_fun(N_0_plus, N_180_plus, N_0_minus, N_180_minus)\n",
    "println(R)"
   ]
  },
  {
   "cell_type": "code",
   "execution_count": 11,
   "id": "a74c3310",
   "metadata": {},
   "outputs": [
    {
     "data": {
      "text/plain": [
       "3-element Vector{Float64}:\n",
       " -0.45999272948133746\n",
       " -0.4593215267064857\n",
       " -0.4493745156006467"
      ]
     },
     "metadata": {},
     "output_type": "display_data"
    }
   ],
   "source": [
    "AP = (((R) .^ (0.5)) .- 1) ./ (((R) .^ (0.5)) .+ 1)\n",
    "# err_AP = "
   ]
  },
  {
   "cell_type": "code",
   "execution_count": null,
   "id": "1e0bb4eb",
   "metadata": {},
   "outputs": [],
   "source": []
  }
 ],
 "metadata": {
  "kernelspec": {
   "display_name": "Julia 1.11.5",
   "language": "julia",
   "name": "julia-1.11"
  },
  "language_info": {
   "file_extension": ".jl",
   "mimetype": "application/julia",
   "name": "julia",
   "version": "1.11.5"
  }
 },
 "nbformat": 4,
 "nbformat_minor": 5
}
