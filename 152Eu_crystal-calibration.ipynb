{
 "cells": [
  {
   "cell_type": "code",
   "execution_count": null,
   "id": "de3cb2ed-56e5-43b7-8774-eff4191d5d17",
   "metadata": {},
   "outputs": [],
   "source": []
  }
 ],
 "metadata": {
  "kernelspec": {
   "display_name": "",
   "name": ""
  },
  "language_info": {
   "name": ""
  }
 },
 "nbformat": 4,
 "nbformat_minor": 5
}
