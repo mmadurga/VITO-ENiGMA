{
 "cells": [
  {
   "cell_type": "markdown",
   "id": "0e8a9a32-d423-4976-be8b-87cc18125b50",
   "metadata": {},
   "source": [
    "# Setup Code"
   ]
  },
  {
   "cell_type": "code",
   "execution_count": 7,
   "id": "5300dc66-ae4f-47bc-ae3a-478c9419ecac",
   "metadata": {},
   "outputs": [
    {
     "name": "stderr",
     "output_type": "stream",
     "text": [
      "WARNING: replacing module PhotopeakFit.\n"
     ]
    },
    {
     "data": {
      "text/plain": [
       "14-element Vector{Float64}:\n",
       "  121.78\n",
       "  344.2785\n",
       " 1408.0\n",
       "  964.079\n",
       " 1112.074\n",
       "  778.904\n",
       " 1085.869\n",
       "  244.6975\n",
       "  867.378\n",
       "  443.965\n",
       "  411.1163\n",
       " 1089.737\n",
       " 1299.14\n",
       " 1212.948"
      ]
     },
     "execution_count": 7,
     "metadata": {},
     "output_type": "execute_result"
    }
   ],
   "source": [
    "using Plots, DelimitedFiles,LsqFit #PlotlyBase,PlotlyKaleido,PlotlyJS\n",
    "#plotly()\n",
    "\n",
    "include(\"src/PhotoPeakFit.jl\");\n",
    "\n",
    "default(framestyle=:box,\n",
    "        mc=:black,\n",
    "        grid=false,\n",
    "        guidefont=14,\n",
    "        tickfont=12,\n",
    "        lc=:navy,\n",
    "        xlabel=\"Eᵧ (internal)\",\n",
    "        ylabel=\"counts\")\n",
    "\n",
    "euliterature=[121.78,\n",
    "                  344.2785,\n",
    "                  1408,\n",
    "                  964.079,\n",
    "                  1112.074,\n",
    "                  778.9040,\n",
    "                  1085.869,\n",
    "                  244.6975,\n",
    "                  867.378,\n",
    "                  443.965,\n",
    "                  411.1163,\n",
    "                  1089.737,\n",
    "                  1299.140,\n",
    "                  1212.948]"
   ]
  },
  {
   "cell_type": "markdown",
   "id": "855f3084-bb6a-4340-abc3-a29e2ab05c12",
   "metadata": {},
   "source": [
    "# 152Eu Check Source"
   ]
  },
  {
   "cell_type": "markdown",
   "id": "d1f9c9a5-3e76-457a-bd1b-d33bf715ca74",
   "metadata": {},
   "source": [
    "The calibration source was RP5139, running for 1633 seconds.\n",
    "\n",
    "The source activity was 4.47e4 Bq in 4/2/2024, so we can calculate the activity during the experiment run in 4/30/2024.\n",
    "\n",
    "<img src=\"images/152Eu-new-source-label.jpg\" alt=\"Drawing\" style=\"width: 300px;\"/>"
   ]
  },
  {
   "cell_type": "code",
   "execution_count": 8,
   "id": "1986e783-c8e1-4a91-a5b1-f6624fb6afa9",
   "metadata": {},
   "outputs": [
    {
     "name": "stdout",
     "output_type": "stream",
     "text": [
      "Activity (Bq) =  44524.50533952962\n"
     ]
    }
   ],
   "source": [
    "activitycalibration=4.47e4\n",
    "secondssincecalibration=28*24*3600\n",
    "T₁₂=13.517*365*24*3600\n",
    "halflives=secondssincecalibration/T₁₂\n",
    "activityexperiment=activitycalibration/2^halflives\n",
    "println(\"Activity (Bq) =  $activityexperiment\")"
   ]
  },
  {
   "cell_type": "markdown",
   "id": "5d0f6732-e8d7-4b01-b86a-b5e1e3d5d288",
   "metadata": {},
   "source": [
    "# Cluster 0"
   ]
  },
  {
   "cell_type": "markdown",
   "id": "6f9a7d1a-1b44-4fcf-b81c-472f388c6079",
   "metadata": {},
   "source": [
    "## Crystal 1"
   ]
  },
  {
   "cell_type": "code",
   "execution_count": 9,
   "id": "6796979b-94d8-4116-85bc-13dd574aa814",
   "metadata": {},
   "outputs": [
    {
     "data": {
      "text/plain": [
       "16384×3 Matrix{Float64}:\n",
       "     0.5  47228.0  217.32\n",
       "     1.5   3965.0   62.9682\n",
       "     2.5   4068.0   63.7809\n",
       "     3.5   3739.0   61.1474\n",
       "     4.5   3249.0   57.0\n",
       "     5.5   2593.0   50.9215\n",
       "     6.5   1961.0   44.2832\n",
       "     7.5   1298.0   36.0278\n",
       "     8.5    843.0   29.0345\n",
       "     9.5    475.0   21.7945\n",
       "    10.5    278.0   16.6733\n",
       "    11.5    170.0   13.0384\n",
       "    12.5     94.0    9.69536\n",
       "     ⋮             \n",
       " 16372.5      0.0    0.0\n",
       " 16373.5      0.0    0.0\n",
       " 16374.5      0.0    0.0\n",
       " 16375.5      0.0    0.0\n",
       " 16376.5      0.0    0.0\n",
       " 16377.5      0.0    0.0\n",
       " 16378.5      0.0    0.0\n",
       " 16379.5      0.0    0.0\n",
       " 16380.5      0.0    0.0\n",
       " 16381.5      0.0    0.0\n",
       " 16382.5      0.0    0.0\n",
       " 16383.5      0.0    0.0"
      ]
     },
     "execution_count": 9,
     "metadata": {},
     "output_type": "execute_result"
    }
   ],
   "source": [
    "euc0c1=readdlm(\"data/c0c1.txt\",comments=true,comment_char='#')"
   ]
  },
  {
   "cell_type": "code",
   "execution_count": 10,
   "id": "48a01ac2-d350-441d-a5ad-a6fc686961ac",
   "metadata": {},
   "outputs": [
    {
     "ename": "LoadError",
     "evalue": "UndefVarError: `fitcrystal1` not defined in `Main`\nSuggestion: check for spelling errors or missing imports.",
     "output_type": "error",
     "traceback": [
      "UndefVarError: `fitcrystal1` not defined in `Main`\nSuggestion: check for spelling errors or missing imports.",
      "",
      "Stacktrace:",
      " [1] top-level scope",
      "   @ In[10]:2"
     ]
    }
   ],
   "source": [
    "xlow,xhigh=100,1500; ylow,yhigh=0,2000\n",
    "plot(euc0c1[:,1].*fitcrystal1.param[2].+fitcrystal1.param[1],euc0c1[:,2],xlims=(xlow,xhigh),ylims=(ylow,yhigh),\n",
    "seriestype=:stepmid,yaxis=:lin)\n",
    "#vline!(euc0c1literature,lc=:crimson)"
   ]
  },
  {
   "cell_type": "markdown",
   "id": "0cfd3187-8730-4d8d-a34b-e088d4ac98ea",
   "metadata": {},
   "source": [
    "### Identified Peaks"
   ]
  },
  {
   "cell_type": "markdown",
   "id": "8124eb7d-4389-4c7c-9c90-5cffe78dff18",
   "metadata": {},
   "source": [
    "#### Peak 1"
   ]
  },
  {
   "cell_type": "code",
   "execution_count": null,
   "id": "7f08862b-324e-4853-b7ec-06b4773c6ccf",
   "metadata": {},
   "outputs": [],
   "source": []
  }
 ],
 "metadata": {
  "kernelspec": {
   "display_name": "Julia 1.11.1",
   "language": "julia",
   "name": "julia-1.11"
  },
  "language_info": {
   "file_extension": ".jl",
   "mimetype": "application/julia",
   "name": "julia",
   "version": "1.11.1"
  }
 },
 "nbformat": 4,
 "nbformat_minor": 5
}
